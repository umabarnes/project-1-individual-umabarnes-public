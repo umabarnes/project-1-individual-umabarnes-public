{
 "cells": [
  {
   "cell_type": "markdown",
   "metadata": {},
   "source": [
    "# TLC Data Preprocessing"
   ]
  },
  {
   "cell_type": "markdown",
   "metadata": {},
   "source": [
    "- The TLC data information page as well as Taxi Zone Data which needs to be downloaded prior can be found via this link: https://www.nyc.gov/site/tlc/about/tlc-trip-record-data.page\n",
    "- Data dictionary can be downloaded via this link: https://www.nyc.gov/assets/tlc/downloads/pdf/data_dictionary_trip_records_fhv.pdf\n",
    "- Trip Record user guide can be download via this link: https://www.nyc.gov/assets/tlc/downloads/pdf/trip_record_user_guide.pdf"
   ]
  },
  {
   "cell_type": "code",
   "execution_count": 1,
   "metadata": {},
   "outputs": [],
   "source": [
    "import pandas as pd\n",
    "from pyspark.sql import SparkSession, functions as F\n",
    "from pyspark.sql.functions import col"
   ]
  },
  {
   "cell_type": "code",
   "execution_count": 2,
   "metadata": {},
   "outputs": [
    {
     "name": "stderr",
     "output_type": "stream",
     "text": [
      "Setting default log level to \"WARN\".\n",
      "To adjust logging level use sc.setLogLevel(newLevel). For SparkR, use setLogLevel(newLevel).\n",
      "24/08/26 22:40:17 WARN NativeCodeLoader: Unable to load native-hadoop library for your platform... using builtin-java classes where applicable\n",
      "24/08/26 22:40:17 WARN Utils: Service 'SparkUI' could not bind on port 4040. Attempting port 4041.\n",
      "24/08/26 22:40:17 WARN Utils: Service 'SparkUI' could not bind on port 4041. Attempting port 4042.\n",
      "24/08/26 22:40:17 WARN Utils: Service 'SparkUI' could not bind on port 4042. Attempting port 4043.\n"
     ]
    }
   ],
   "source": [
    "# Create a spark session (which will run spark jobs)\n",
    "spark = (\n",
    "    SparkSession.builder.appName(\"TLC Preprocess\")\n",
    "    .config(\"spark.sql.repl.eagerEval.enabled\", True)\n",
    "    .config(\"spark.sql.parquet.cacheMetadata\", \"true\")\n",
    "    .config(\"spark.sql.session.timeZone\", \"Etc/UTC\")\n",
    "    .config('spark.driver.memory', '4g')\n",
    "    .config('spark.executor.memory', '2g')\n",
    "    .getOrCreate()\n",
    ")"
   ]
  },
  {
   "cell_type": "code",
   "execution_count": 3,
   "metadata": {},
   "outputs": [],
   "source": [
    "SAMPLE_SIZE = 0.05"
   ]
  },
  {
   "cell_type": "code",
   "execution_count": 4,
   "metadata": {},
   "outputs": [
    {
     "name": "stderr",
     "output_type": "stream",
     "text": [
      "24/08/26 22:40:31 WARN GarbageCollectionMetrics: To enable non-built-in garbage collector(s) List(G1 Concurrent GC), users should configure it(them) to spark.eventLog.gcMetrics.youngGenerationGarbageCollectors or spark.eventLog.gcMetrics.oldGenerationGarbageCollectors\n"
     ]
    }
   ],
   "source": [
    "sdf_jul = spark.read.parquet('../data/landing/tlc_data/2023-07.parquet')\n",
    "df = sdf_jul.sample(SAMPLE_SIZE, seed =0).toPandas()\n",
    "\n",
    "df.to_csv('../data/sample_data/sample_data.csv', index=False)\n",
    "df.to_parquet('../data/sample_data/sample_data.parquet')"
   ]
  },
  {
   "cell_type": "code",
   "execution_count": 5,
   "metadata": {},
   "outputs": [],
   "source": [
    "sdf_jul = spark.read.parquet('../data/landing/tlc_data/2023-07.parquet')\n",
    "sdf_aug = spark.read.parquet('../data/landing/tlc_data/2023-08.parquet')\n",
    "sdf_sep = spark.read.parquet('../data/landing/tlc_data/2023-09.parquet')\n",
    "sdf_oct = spark.read.parquet('../data/landing/tlc_data/2023-10.parquet')\n",
    "sdf_nov = spark.read.parquet('../data/landing/tlc_data/2023-11.parquet')\n",
    "sdf_dec = spark.read.parquet('../data/landing/tlc_data/2023-12.parquet')"
   ]
  },
  {
   "cell_type": "code",
   "execution_count": 6,
   "metadata": {},
   "outputs": [
    {
     "data": {
      "text/html": [
       "<table border='1'>\n",
       "<tr><th>hvfhs_license_num</th><th>dispatching_base_num</th><th>originating_base_num</th><th>request_datetime</th><th>on_scene_datetime</th><th>pickup_datetime</th><th>dropoff_datetime</th><th>PULocationID</th><th>DOLocationID</th><th>trip_miles</th><th>trip_time</th><th>base_passenger_fare</th><th>tolls</th><th>bcf</th><th>sales_tax</th><th>congestion_surcharge</th><th>airport_fee</th><th>tips</th><th>driver_pay</th><th>shared_request_flag</th><th>shared_match_flag</th><th>access_a_ride_flag</th><th>wav_request_flag</th><th>wav_match_flag</th></tr>\n",
       "<tr><td>HV0003</td><td>B03404</td><td>B03404</td><td>2023-07-01 00:04:21</td><td>2023-07-01 00:07:59</td><td>2023-07-01 00:08:30</td><td>2023-07-01 00:33:33</td><td>72</td><td>26</td><td>4.79</td><td>1503</td><td>22.34</td><td>0.0</td><td>0.61</td><td>1.98</td><td>0.0</td><td>0.0</td><td>0.0</td><td>20.42</td><td>N</td><td>N</td><td> </td><td>N</td><td>N</td></tr>\n",
       "<tr><td>HV0003</td><td>B03404</td><td>B03404</td><td>2023-07-01 00:40:25</td><td>2023-07-01 00:40:35</td><td>2023-07-01 00:42:10</td><td>2023-07-01 01:08:06</td><td>26</td><td>37</td><td>6.4</td><td>1556</td><td>25.83</td><td>0.0</td><td>0.71</td><td>2.29</td><td>0.0</td><td>0.0</td><td>0.0</td><td>23.03</td><td>N</td><td>N</td><td> </td><td>N</td><td>N</td></tr>\n",
       "<tr><td>HV0003</td><td>B03404</td><td>B03404</td><td>2023-07-01 00:20:31</td><td>2023-07-01 00:24:05</td><td>2023-07-01 00:25:00</td><td>2023-07-01 00:42:38</td><td>263</td><td>232</td><td>5.71</td><td>1058</td><td>26.51</td><td>0.0</td><td>0.73</td><td>2.35</td><td>2.75</td><td>0.0</td><td>6.46</td><td>18.61</td><td>N</td><td>N</td><td> </td><td>N</td><td>N</td></tr>\n",
       "<tr><td>HV0003</td><td>B03404</td><td>B03404</td><td>2023-07-01 00:42:50</td><td>2023-07-01 00:47:37</td><td>2023-07-01 00:48:57</td><td>2023-07-01 00:57:04</td><td>79</td><td>233</td><td>1.75</td><td>487</td><td>16.32</td><td>0.0</td><td>0.45</td><td>1.45</td><td>2.75</td><td>0.0</td><td>0.0</td><td>8.13</td><td>N</td><td>N</td><td> </td><td>N</td><td>N</td></tr>\n",
       "<tr><td>HV0005</td><td>B03406</td><td>NULL</td><td>2023-07-01 00:00:17</td><td>NULL</td><td>2023-07-01 00:05:35</td><td>2023-07-01 00:36:07</td><td>88</td><td>237</td><td>7.218</td><td>1832</td><td>83.97</td><td>0.0</td><td>2.31</td><td>7.45</td><td>2.75</td><td>0.0</td><td>0.0</td><td>59.05</td><td>N</td><td>N</td><td>N</td><td>N</td><td>N</td></tr>\n",
       "</table>\n"
      ],
      "text/plain": [
       "+-----------------+--------------------+--------------------+-------------------+-------------------+-------------------+-------------------+------------+------------+----------+---------+-------------------+-----+----+---------+--------------------+-----------+----+----------+-------------------+-----------------+------------------+----------------+--------------+\n",
       "|hvfhs_license_num|dispatching_base_num|originating_base_num|   request_datetime|  on_scene_datetime|    pickup_datetime|   dropoff_datetime|PULocationID|DOLocationID|trip_miles|trip_time|base_passenger_fare|tolls| bcf|sales_tax|congestion_surcharge|airport_fee|tips|driver_pay|shared_request_flag|shared_match_flag|access_a_ride_flag|wav_request_flag|wav_match_flag|\n",
       "+-----------------+--------------------+--------------------+-------------------+-------------------+-------------------+-------------------+------------+------------+----------+---------+-------------------+-----+----+---------+--------------------+-----------+----+----------+-------------------+-----------------+------------------+----------------+--------------+\n",
       "|           HV0003|              B03404|              B03404|2023-07-01 00:04:21|2023-07-01 00:07:59|2023-07-01 00:08:30|2023-07-01 00:33:33|          72|          26|      4.79|     1503|              22.34|  0.0|0.61|     1.98|                 0.0|        0.0| 0.0|     20.42|                  N|                N|                  |               N|             N|\n",
       "|           HV0003|              B03404|              B03404|2023-07-01 00:40:25|2023-07-01 00:40:35|2023-07-01 00:42:10|2023-07-01 01:08:06|          26|          37|       6.4|     1556|              25.83|  0.0|0.71|     2.29|                 0.0|        0.0| 0.0|     23.03|                  N|                N|                  |               N|             N|\n",
       "|           HV0003|              B03404|              B03404|2023-07-01 00:20:31|2023-07-01 00:24:05|2023-07-01 00:25:00|2023-07-01 00:42:38|         263|         232|      5.71|     1058|              26.51|  0.0|0.73|     2.35|                2.75|        0.0|6.46|     18.61|                  N|                N|                  |               N|             N|\n",
       "|           HV0003|              B03404|              B03404|2023-07-01 00:42:50|2023-07-01 00:47:37|2023-07-01 00:48:57|2023-07-01 00:57:04|          79|         233|      1.75|      487|              16.32|  0.0|0.45|     1.45|                2.75|        0.0| 0.0|      8.13|                  N|                N|                  |               N|             N|\n",
       "|           HV0005|              B03406|                NULL|2023-07-01 00:00:17|               NULL|2023-07-01 00:05:35|2023-07-01 00:36:07|          88|         237|     7.218|     1832|              83.97|  0.0|2.31|     7.45|                2.75|        0.0| 0.0|     59.05|                  N|                N|                 N|               N|             N|\n",
       "+-----------------+--------------------+--------------------+-------------------+-------------------+-------------------+-------------------+------------+------------+----------+---------+-------------------+-----+----+---------+--------------------+-----------+----+----------+-------------------+-----------------+------------------+----------------+--------------+"
      ]
     },
     "execution_count": 6,
     "metadata": {},
     "output_type": "execute_result"
    }
   ],
   "source": [
    "sdf_jul.limit(5)"
   ]
  },
  {
   "cell_type": "code",
   "execution_count": 7,
   "metadata": {},
   "outputs": [
    {
     "name": "stdout",
     "output_type": "stream",
     "text": [
      "root\n",
      " |-- hvfhs_license_num: string (nullable = true)\n",
      " |-- dispatching_base_num: string (nullable = true)\n",
      " |-- originating_base_num: string (nullable = true)\n",
      " |-- request_datetime: timestamp_ntz (nullable = true)\n",
      " |-- on_scene_datetime: timestamp_ntz (nullable = true)\n",
      " |-- pickup_datetime: timestamp_ntz (nullable = true)\n",
      " |-- dropoff_datetime: timestamp_ntz (nullable = true)\n",
      " |-- PULocationID: integer (nullable = true)\n",
      " |-- DOLocationID: integer (nullable = true)\n",
      " |-- trip_miles: double (nullable = true)\n",
      " |-- trip_time: long (nullable = true)\n",
      " |-- base_passenger_fare: double (nullable = true)\n",
      " |-- tolls: double (nullable = true)\n",
      " |-- bcf: double (nullable = true)\n",
      " |-- sales_tax: double (nullable = true)\n",
      " |-- congestion_surcharge: double (nullable = true)\n",
      " |-- airport_fee: double (nullable = true)\n",
      " |-- tips: double (nullable = true)\n",
      " |-- driver_pay: double (nullable = true)\n",
      " |-- shared_request_flag: string (nullable = true)\n",
      " |-- shared_match_flag: string (nullable = true)\n",
      " |-- access_a_ride_flag: string (nullable = true)\n",
      " |-- wav_request_flag: string (nullable = true)\n",
      " |-- wav_match_flag: string (nullable = true)\n",
      "\n"
     ]
    }
   ],
   "source": [
    "sdf_jul.printSchema()"
   ]
  },
  {
   "cell_type": "code",
   "execution_count": 8,
   "metadata": {},
   "outputs": [
    {
     "name": "stdout",
     "output_type": "stream",
     "text": [
      "root\n",
      " |-- hvfhs_license_num: string (nullable = true)\n",
      " |-- dispatching_base_num: string (nullable = true)\n",
      " |-- originating_base_num: string (nullable = true)\n",
      " |-- request_datetime: timestamp_ntz (nullable = true)\n",
      " |-- on_scene_datetime: timestamp_ntz (nullable = true)\n",
      " |-- pickup_datetime: timestamp_ntz (nullable = true)\n",
      " |-- dropoff_datetime: timestamp_ntz (nullable = true)\n",
      " |-- PULocationID: integer (nullable = true)\n",
      " |-- DOLocationID: integer (nullable = true)\n",
      " |-- trip_miles: double (nullable = true)\n",
      " |-- trip_time: long (nullable = true)\n",
      " |-- base_passenger_fare: double (nullable = true)\n",
      " |-- tolls: double (nullable = true)\n",
      " |-- bcf: double (nullable = true)\n",
      " |-- sales_tax: double (nullable = true)\n",
      " |-- congestion_surcharge: double (nullable = true)\n",
      " |-- airport_fee: double (nullable = true)\n",
      " |-- tips: double (nullable = true)\n",
      " |-- driver_pay: double (nullable = true)\n",
      " |-- shared_request_flag: string (nullable = true)\n",
      " |-- shared_match_flag: string (nullable = true)\n",
      " |-- access_a_ride_flag: string (nullable = true)\n",
      " |-- wav_request_flag: string (nullable = true)\n",
      " |-- wav_match_flag: string (nullable = true)\n",
      "\n"
     ]
    }
   ],
   "source": [
    "sdf_aug.printSchema()"
   ]
  },
  {
   "cell_type": "code",
   "execution_count": 9,
   "metadata": {},
   "outputs": [
    {
     "name": "stdout",
     "output_type": "stream",
     "text": [
      "root\n",
      " |-- hvfhs_license_num: string (nullable = true)\n",
      " |-- dispatching_base_num: string (nullable = true)\n",
      " |-- originating_base_num: string (nullable = true)\n",
      " |-- request_datetime: timestamp_ntz (nullable = true)\n",
      " |-- on_scene_datetime: timestamp_ntz (nullable = true)\n",
      " |-- pickup_datetime: timestamp_ntz (nullable = true)\n",
      " |-- dropoff_datetime: timestamp_ntz (nullable = true)\n",
      " |-- PULocationID: integer (nullable = true)\n",
      " |-- DOLocationID: integer (nullable = true)\n",
      " |-- trip_miles: double (nullable = true)\n",
      " |-- trip_time: long (nullable = true)\n",
      " |-- base_passenger_fare: double (nullable = true)\n",
      " |-- tolls: double (nullable = true)\n",
      " |-- bcf: double (nullable = true)\n",
      " |-- sales_tax: double (nullable = true)\n",
      " |-- congestion_surcharge: double (nullable = true)\n",
      " |-- airport_fee: double (nullable = true)\n",
      " |-- tips: double (nullable = true)\n",
      " |-- driver_pay: double (nullable = true)\n",
      " |-- shared_request_flag: string (nullable = true)\n",
      " |-- shared_match_flag: string (nullable = true)\n",
      " |-- access_a_ride_flag: string (nullable = true)\n",
      " |-- wav_request_flag: string (nullable = true)\n",
      " |-- wav_match_flag: string (nullable = true)\n",
      "\n"
     ]
    }
   ],
   "source": [
    "sdf_sep.printSchema()"
   ]
  },
  {
   "cell_type": "code",
   "execution_count": 10,
   "metadata": {},
   "outputs": [
    {
     "name": "stdout",
     "output_type": "stream",
     "text": [
      "root\n",
      " |-- hvfhs_license_num: string (nullable = true)\n",
      " |-- dispatching_base_num: string (nullable = true)\n",
      " |-- originating_base_num: string (nullable = true)\n",
      " |-- request_datetime: timestamp_ntz (nullable = true)\n",
      " |-- on_scene_datetime: timestamp_ntz (nullable = true)\n",
      " |-- pickup_datetime: timestamp_ntz (nullable = true)\n",
      " |-- dropoff_datetime: timestamp_ntz (nullable = true)\n",
      " |-- pulocationid: integer (nullable = true)\n",
      " |-- dolocationid: integer (nullable = true)\n",
      " |-- trip_miles: double (nullable = true)\n",
      " |-- trip_time: long (nullable = true)\n",
      " |-- base_passenger_fare: double (nullable = true)\n",
      " |-- tolls: double (nullable = true)\n",
      " |-- bcf: double (nullable = true)\n",
      " |-- sales_tax: double (nullable = true)\n",
      " |-- congestion_surcharge: double (nullable = true)\n",
      " |-- airport_fee: double (nullable = true)\n",
      " |-- tips: double (nullable = true)\n",
      " |-- driver_pay: double (nullable = true)\n",
      " |-- shared_request_flag: string (nullable = true)\n",
      " |-- shared_match_flag: string (nullable = true)\n",
      " |-- access_a_ride_flag: string (nullable = true)\n",
      " |-- wav_request_flag: string (nullable = true)\n",
      " |-- wav_match_flag: string (nullable = true)\n",
      "\n"
     ]
    }
   ],
   "source": [
    "# now, we want to ensure everything has consistent casing to make our lives easier\n",
    "consistent_col_casing = [F.col(col_name).alias(col_name.lower()) for col_name in sdf_jul.columns]\n",
    "sdf_jul = sdf_jul.select(*consistent_col_casing)\n",
    "sdf_aug = sdf_aug.select(*consistent_col_casing)\n",
    "sdf_sep = sdf_sep.select(*consistent_col_casing)\n",
    "sdf_oct = sdf_oct.select(*consistent_col_casing)\n",
    "sdf_nov = sdf_nov.select(*consistent_col_casing)\n",
    "sdf_dec = sdf_dec.select(*consistent_col_casing)\n",
    "\n",
    "sdf_jul.printSchema()\n",
    "sdf_schema = sdf_jul.schema\n"
   ]
  },
  {
   "cell_type": "code",
   "execution_count": 12,
   "metadata": {},
   "outputs": [],
   "source": [
    "sdf_malformed = spark.read.parquet('../data/landing/tlc_data//2023-07.parquet')\n",
    "\n",
    "# select all columns from the existing malformed dataframe and cast it to the required schema\n",
    "sdf_malformed = sdf_malformed \\\n",
    "    .select([F.col(c).cast(sdf_schema[i].dataType) for i, c in enumerate(sdf_malformed.columns)])"
   ]
  },
  {
   "cell_type": "code",
   "execution_count": 15,
   "metadata": {},
   "outputs": [
    {
     "name": "stderr",
     "output_type": "stream",
     "text": [
      "                                                                                \r"
     ]
    }
   ],
   "source": [
    "for month in range(7, 13):\n",
    "    input_path = f'../data/landing/tlc_data/2023-{str(month).zfill(2)}.parquet'\n",
    "    output_path = f'../data/landing/tlc_data/raw/2023-{str(month).zfill(2)}.parquet'\n",
    "    \n",
    "    sdf = spark.read.schema(sdf_schema).parquet(input_path).coalesce(1)\n",
    "\n",
    "    sdf.write.mode('overwrite').parquet(output_path)"
   ]
  },
  {
   "cell_type": "code",
   "execution_count": 16,
   "metadata": {},
   "outputs": [
    {
     "data": {
      "text/plain": [
       "117277281"
      ]
     },
     "execution_count": 16,
     "metadata": {},
     "output_type": "execute_result"
    }
   ],
   "source": [
    "sdf = spark.read.schema(sdf_schema).parquet('../data/landing/tlc_data/*')\n",
    "#sdf.show(1, vertical=True, truncate=100)\n",
    "sdf.limit(10)\n",
    "sdf.count()\n"
   ]
  },
  {
   "cell_type": "code",
   "execution_count": 17,
   "metadata": {},
   "outputs": [
    {
     "name": "stdout",
     "output_type": "stream",
     "text": [
      "root\n",
      " |-- hvfhs_license_num: string (nullable = true)\n",
      " |-- dispatching_base_num: string (nullable = true)\n",
      " |-- originating_base_num: string (nullable = true)\n",
      " |-- request_datetime: timestamp_ntz (nullable = true)\n",
      " |-- on_scene_datetime: timestamp_ntz (nullable = true)\n",
      " |-- pickup_datetime: timestamp_ntz (nullable = true)\n",
      " |-- dropoff_datetime: timestamp_ntz (nullable = true)\n",
      " |-- pulocationid: integer (nullable = true)\n",
      " |-- dolocationid: integer (nullable = true)\n",
      " |-- trip_miles: double (nullable = true)\n",
      " |-- trip_time: long (nullable = true)\n",
      " |-- base_passenger_fare: double (nullable = true)\n",
      " |-- tolls: double (nullable = true)\n",
      " |-- bcf: double (nullable = true)\n",
      " |-- sales_tax: double (nullable = true)\n",
      " |-- congestion_surcharge: double (nullable = true)\n",
      " |-- airport_fee: double (nullable = true)\n",
      " |-- tips: double (nullable = true)\n",
      " |-- driver_pay: double (nullable = true)\n",
      " |-- shared_request_flag: string (nullable = true)\n",
      " |-- shared_match_flag: string (nullable = true)\n",
      " |-- access_a_ride_flag: string (nullable = true)\n",
      " |-- wav_request_flag: string (nullable = true)\n",
      " |-- wav_match_flag: string (nullable = true)\n",
      "\n"
     ]
    }
   ],
   "source": [
    "sdf.printSchema()"
   ]
  },
  {
   "cell_type": "code",
   "execution_count": 18,
   "metadata": {},
   "outputs": [
    {
     "data": {
      "text/html": [
       "<table border='1'>\n",
       "<tr><th>hvfhs_license_num</th><th>dispatching_base_num</th><th>originating_base_num</th><th>request_datetime</th><th>on_scene_datetime</th><th>pickup_datetime</th><th>dropoff_datetime</th><th>pulocationid</th><th>dolocationid</th><th>trip_miles</th><th>trip_time</th><th>base_passenger_fare</th><th>tolls</th><th>bcf</th><th>sales_tax</th><th>congestion_surcharge</th><th>airport_fee</th><th>tips</th><th>driver_pay</th><th>shared_request_flag</th><th>shared_match_flag</th><th>access_a_ride_flag</th><th>wav_request_flag</th><th>wav_match_flag</th></tr>\n",
       "<tr><td>HV0003</td><td>B03404</td><td>B03404</td><td>2023-07-01 00:04:21</td><td>2023-07-01 00:07:59</td><td>2023-07-01 00:08:30</td><td>2023-07-01 00:33:33</td><td>72</td><td>26</td><td>4.79</td><td>1503</td><td>22.34</td><td>0.0</td><td>0.61</td><td>1.98</td><td>0.0</td><td>0.0</td><td>0.0</td><td>20.42</td><td>N</td><td>N</td><td> </td><td>N</td><td>N</td></tr>\n",
       "<tr><td>HV0003</td><td>B03404</td><td>B03404</td><td>2023-07-01 00:40:25</td><td>2023-07-01 00:40:35</td><td>2023-07-01 00:42:10</td><td>2023-07-01 01:08:06</td><td>26</td><td>37</td><td>6.4</td><td>1556</td><td>25.83</td><td>0.0</td><td>0.71</td><td>2.29</td><td>0.0</td><td>0.0</td><td>0.0</td><td>23.03</td><td>N</td><td>N</td><td> </td><td>N</td><td>N</td></tr>\n",
       "<tr><td>HV0003</td><td>B03404</td><td>B03404</td><td>2023-07-01 00:20:31</td><td>2023-07-01 00:24:05</td><td>2023-07-01 00:25:00</td><td>2023-07-01 00:42:38</td><td>263</td><td>232</td><td>5.71</td><td>1058</td><td>26.51</td><td>0.0</td><td>0.73</td><td>2.35</td><td>2.75</td><td>0.0</td><td>6.46</td><td>18.61</td><td>N</td><td>N</td><td> </td><td>N</td><td>N</td></tr>\n",
       "<tr><td>HV0003</td><td>B03404</td><td>B03404</td><td>2023-07-01 00:42:50</td><td>2023-07-01 00:47:37</td><td>2023-07-01 00:48:57</td><td>2023-07-01 00:57:04</td><td>79</td><td>233</td><td>1.75</td><td>487</td><td>16.32</td><td>0.0</td><td>0.45</td><td>1.45</td><td>2.75</td><td>0.0</td><td>0.0</td><td>8.13</td><td>N</td><td>N</td><td> </td><td>N</td><td>N</td></tr>\n",
       "<tr><td>HV0005</td><td>B03406</td><td>NULL</td><td>2023-07-01 00:00:17</td><td>NULL</td><td>2023-07-01 00:05:35</td><td>2023-07-01 00:36:07</td><td>88</td><td>237</td><td>7.218</td><td>1832</td><td>83.97</td><td>0.0</td><td>2.31</td><td>7.45</td><td>2.75</td><td>0.0</td><td>0.0</td><td>59.05</td><td>N</td><td>N</td><td>N</td><td>N</td><td>N</td></tr>\n",
       "<tr><td>HV0003</td><td>B03404</td><td>B03404</td><td>2023-06-30 23:59:34</td><td>2023-07-01 00:03:57</td><td>2023-07-01 00:05:57</td><td>2023-07-01 00:22:42</td><td>233</td><td>148</td><td>2.08</td><td>1005</td><td>18.45</td><td>0.0</td><td>0.51</td><td>1.64</td><td>2.75</td><td>0.0</td><td>0.0</td><td>12.18</td><td>N</td><td>N</td><td> </td><td>N</td><td>N</td></tr>\n",
       "<tr><td>HV0003</td><td>B03404</td><td>B03404</td><td>2023-07-01 00:25:50</td><td>2023-07-01 00:32:45</td><td>2023-07-01 00:34:47</td><td>2023-07-01 00:41:31</td><td>114</td><td>79</td><td>0.6</td><td>404</td><td>7.29</td><td>0.0</td><td>0.2</td><td>0.65</td><td>2.75</td><td>0.0</td><td>0.0</td><td>6.03</td><td>N</td><td>N</td><td> </td><td>N</td><td>N</td></tr>\n",
       "<tr><td>HV0003</td><td>B03404</td><td>B03404</td><td>2023-07-01 00:40:40</td><td>2023-07-01 00:44:53</td><td>2023-07-01 00:45:03</td><td>2023-07-01 01:03:54</td><td>113</td><td>262</td><td>5.38</td><td>1131</td><td>26.19</td><td>0.0</td><td>0.72</td><td>2.32</td><td>2.75</td><td>0.0</td><td>0.0</td><td>17.7</td><td>N</td><td>N</td><td> </td><td>N</td><td>N</td></tr>\n",
       "<tr><td>HV0003</td><td>B03404</td><td>B03404</td><td>2023-07-01 00:19:27</td><td>2023-07-01 00:25:09</td><td>2023-07-01 00:30:12</td><td>2023-07-01 00:48:24</td><td>87</td><td>148</td><td>2.19</td><td>1092</td><td>25.93</td><td>0.0</td><td>0.71</td><td>2.3</td><td>2.75</td><td>0.0</td><td>0.0</td><td>18.21</td><td>N</td><td>N</td><td> </td><td>N</td><td>Y</td></tr>\n",
       "<tr><td>HV0003</td><td>B03404</td><td>B03404</td><td>2023-07-01 00:41:14</td><td>2023-07-01 00:54:37</td><td>2023-07-01 00:54:46</td><td>2023-07-01 01:10:18</td><td>148</td><td>164</td><td>2.3</td><td>932</td><td>23.48</td><td>0.0</td><td>0.65</td><td>2.08</td><td>2.75</td><td>0.0</td><td>2.89</td><td>16.44</td><td>N</td><td>N</td><td> </td><td>N</td><td>Y</td></tr>\n",
       "</table>\n"
      ],
      "text/plain": [
       "+-----------------+--------------------+--------------------+-------------------+-------------------+-------------------+-------------------+------------+------------+----------+---------+-------------------+-----+----+---------+--------------------+-----------+----+----------+-------------------+-----------------+------------------+----------------+--------------+\n",
       "|hvfhs_license_num|dispatching_base_num|originating_base_num|   request_datetime|  on_scene_datetime|    pickup_datetime|   dropoff_datetime|pulocationid|dolocationid|trip_miles|trip_time|base_passenger_fare|tolls| bcf|sales_tax|congestion_surcharge|airport_fee|tips|driver_pay|shared_request_flag|shared_match_flag|access_a_ride_flag|wav_request_flag|wav_match_flag|\n",
       "+-----------------+--------------------+--------------------+-------------------+-------------------+-------------------+-------------------+------------+------------+----------+---------+-------------------+-----+----+---------+--------------------+-----------+----+----------+-------------------+-----------------+------------------+----------------+--------------+\n",
       "|           HV0003|              B03404|              B03404|2023-07-01 00:04:21|2023-07-01 00:07:59|2023-07-01 00:08:30|2023-07-01 00:33:33|          72|          26|      4.79|     1503|              22.34|  0.0|0.61|     1.98|                 0.0|        0.0| 0.0|     20.42|                  N|                N|                  |               N|             N|\n",
       "|           HV0003|              B03404|              B03404|2023-07-01 00:40:25|2023-07-01 00:40:35|2023-07-01 00:42:10|2023-07-01 01:08:06|          26|          37|       6.4|     1556|              25.83|  0.0|0.71|     2.29|                 0.0|        0.0| 0.0|     23.03|                  N|                N|                  |               N|             N|\n",
       "|           HV0003|              B03404|              B03404|2023-07-01 00:20:31|2023-07-01 00:24:05|2023-07-01 00:25:00|2023-07-01 00:42:38|         263|         232|      5.71|     1058|              26.51|  0.0|0.73|     2.35|                2.75|        0.0|6.46|     18.61|                  N|                N|                  |               N|             N|\n",
       "|           HV0003|              B03404|              B03404|2023-07-01 00:42:50|2023-07-01 00:47:37|2023-07-01 00:48:57|2023-07-01 00:57:04|          79|         233|      1.75|      487|              16.32|  0.0|0.45|     1.45|                2.75|        0.0| 0.0|      8.13|                  N|                N|                  |               N|             N|\n",
       "|           HV0005|              B03406|                NULL|2023-07-01 00:00:17|               NULL|2023-07-01 00:05:35|2023-07-01 00:36:07|          88|         237|     7.218|     1832|              83.97|  0.0|2.31|     7.45|                2.75|        0.0| 0.0|     59.05|                  N|                N|                 N|               N|             N|\n",
       "|           HV0003|              B03404|              B03404|2023-06-30 23:59:34|2023-07-01 00:03:57|2023-07-01 00:05:57|2023-07-01 00:22:42|         233|         148|      2.08|     1005|              18.45|  0.0|0.51|     1.64|                2.75|        0.0| 0.0|     12.18|                  N|                N|                  |               N|             N|\n",
       "|           HV0003|              B03404|              B03404|2023-07-01 00:25:50|2023-07-01 00:32:45|2023-07-01 00:34:47|2023-07-01 00:41:31|         114|          79|       0.6|      404|               7.29|  0.0| 0.2|     0.65|                2.75|        0.0| 0.0|      6.03|                  N|                N|                  |               N|             N|\n",
       "|           HV0003|              B03404|              B03404|2023-07-01 00:40:40|2023-07-01 00:44:53|2023-07-01 00:45:03|2023-07-01 01:03:54|         113|         262|      5.38|     1131|              26.19|  0.0|0.72|     2.32|                2.75|        0.0| 0.0|      17.7|                  N|                N|                  |               N|             N|\n",
       "|           HV0003|              B03404|              B03404|2023-07-01 00:19:27|2023-07-01 00:25:09|2023-07-01 00:30:12|2023-07-01 00:48:24|          87|         148|      2.19|     1092|              25.93|  0.0|0.71|      2.3|                2.75|        0.0| 0.0|     18.21|                  N|                N|                  |               N|             Y|\n",
       "|           HV0003|              B03404|              B03404|2023-07-01 00:41:14|2023-07-01 00:54:37|2023-07-01 00:54:46|2023-07-01 01:10:18|         148|         164|       2.3|      932|              23.48|  0.0|0.65|     2.08|                2.75|        0.0|2.89|     16.44|                  N|                N|                  |               N|             Y|\n",
       "+-----------------+--------------------+--------------------+-------------------+-------------------+-------------------+-------------------+------------+------------+----------+---------+-------------------+-----+----+---------+--------------------+-----------+----+----------+-------------------+-----------------+------------------+----------------+--------------+"
      ]
     },
     "execution_count": 18,
     "metadata": {},
     "output_type": "execute_result"
    }
   ],
   "source": [
    "# Filter based on the minimum possible values for numerical features\n",
    "sdf1 = sdf.where((F.col('trip_miles') > 0.5) &\n",
    "               (F.col('trip_time') > 60) &\n",
    "               (F.col('trip_time') < 18000) &\n",
    "               (F.col('trip_time') > 0) &\n",
    "               (F.col('driver_pay') > 0) &\n",
    "               (F.col('base_passenger_fare') >= 0) &\n",
    "               (F.col('tolls') >= 0) &\n",
    "               (F.col('bcf') >= 0) &\n",
    "               (F.col('sales_tax') >= 0) &\n",
    "               (F.col('congestion_surcharge') >= 0) &\n",
    "               (F.col('airport_fee') >= 0) &\n",
    "               (F.col('tips') >= 0) &\n",
    "               (F.col('pulocationid') >= 1) &\n",
    "               (F.col('pulocationid') <= 263))\n",
    "\n",
    "sdf1.limit(10)\n"
   ]
  },
  {
   "cell_type": "code",
   "execution_count": 19,
   "metadata": {},
   "outputs": [
    {
     "name": "stderr",
     "output_type": "stream",
     "text": [
      "                                                                                \r"
     ]
    }
   ],
   "source": [
    "# Filter the columns to cover 99.99 percentile of the data for numerical features\n",
    "\n",
    "sdf1 = sdf1.where((F.col('trip_miles') <= sdf1.selectExpr('percentile(trip_miles, 0.9999)').collect()[0][0]) &\n",
    "                (F.col('trip_time') <= sdf1.selectExpr('percentile(trip_time, 0.9999)').collect()[0][0]) &\n",
    "                (F.col('driver_pay') <= sdf1.selectExpr('percentile(driver_pay, 0.9999)').collect()[0][0]) &\n",
    "                (F.col('base_passenger_fare') <= sdf1.selectExpr('percentile(base_passenger_fare, 0.9999)').collect()[0][0]) &\n",
    "                (F.col('tolls') <= sdf1.selectExpr('percentile(tolls, 0.9999)').collect()[0][0]) &\n",
    "                (F.col('bcf') <= sdf1.selectExpr('percentile(bcf, 0.9999)').collect()[0][0]) &\n",
    "                (F.col('sales_tax') <= sdf1.selectExpr('percentile(sales_tax, 0.9999)').collect()[0][0]) &\n",
    "                (F.col('tips') <= sdf1.selectExpr('percentile(tips, 0.9999)').collect()[0][0]))\n",
    "\n"
   ]
  },
  {
   "cell_type": "code",
   "execution_count": 20,
   "metadata": {},
   "outputs": [
    {
     "name": "stderr",
     "output_type": "stream",
     "text": [
      "24/08/26 22:52:02 WARN SparkStringUtils: Truncated the string representation of a plan since it was too large. This behavior can be adjusted by setting 'spark.sql.debug.maxToStringFields'.\n",
      "                                                                                \r"
     ]
    },
    {
     "data": {
      "text/html": [
       "<table border='1'>\n",
       "<tr><th>summary</th><th>trip_miles</th><th>trip_time</th><th>driver_pay</th><th>base_passenger_fare</th><th>tolls</th><th>bcf</th><th>sales_tax</th><th>congestion_surcharge</th><th>airport_fee</th><th>tips</th><th>pulocationid</th></tr>\n",
       "<tr><td>count</td><td>115853423</td><td>115853423</td><td>115853423</td><td>115853423</td><td>115853423</td><td>115853423</td><td>115853423</td><td>115853423</td><td>115853423</td><td>115853423</td><td>115853423</td></tr>\n",
       "<tr><td>mean</td><td>5.158834254004041</td><td>1228.7240712516539</td><td>20.11342025837233</td><td>25.45252662393041</td><td>1.175423290608885</td><td>0.7344419268493326</td><td>2.135880328445123</td><td>1.0825833777910905</td><td>0.22366068199814862</td><td>1.2012072278608659</td><td>138.77059743845462</td></tr>\n",
       "<tr><td>stddev</td><td>5.776672446901602</td><td>870.156396822642</td><td>16.570533327477843</td><td>21.04386075636584</td><td>3.9538510739719555</td><td>0.6480690832890761</td><td>1.7431651702132864</td><td>1.3391951000752085</td><td>0.7169882941720426</td><td>3.3396878500136147</td><td>74.60562972353408</td></tr>\n",
       "<tr><td>min</td><td>0.501</td><td>61</td><td>0.01</td><td>0.0</td><td>0.0</td><td>0.0</td><td>0.0</td><td>0.0</td><td>0.0</td><td>0.0</td><td>1</td></tr>\n",
       "<tr><td>max</td><td>100.428</td><td>10037</td><td>263.22</td><td>349.7</td><td>44.08</td><td>10.15</td><td>25.62</td><td>11.0</td><td>10.0</td><td>54.67</td><td>263</td></tr>\n",
       "</table>\n"
      ],
      "text/plain": [
       "+-------+-----------------+------------------+------------------+-------------------+------------------+------------------+------------------+--------------------+-------------------+------------------+------------------+\n",
       "|summary|       trip_miles|         trip_time|        driver_pay|base_passenger_fare|             tolls|               bcf|         sales_tax|congestion_surcharge|        airport_fee|              tips|      pulocationid|\n",
       "+-------+-----------------+------------------+------------------+-------------------+------------------+------------------+------------------+--------------------+-------------------+------------------+------------------+\n",
       "|  count|        115853423|         115853423|         115853423|          115853423|         115853423|         115853423|         115853423|           115853423|          115853423|         115853423|         115853423|\n",
       "|   mean|5.158834254004041|1228.7240712516539| 20.11342025837233|  25.45252662393041| 1.175423290608885|0.7344419268493326| 2.135880328445123|  1.0825833777910905|0.22366068199814862|1.2012072278608659|138.77059743845462|\n",
       "| stddev|5.776672446901602|  870.156396822642|16.570533327477843|  21.04386075636584|3.9538510739719555|0.6480690832890761|1.7431651702132864|  1.3391951000752085| 0.7169882941720426|3.3396878500136147| 74.60562972353408|\n",
       "|    min|            0.501|                61|              0.01|                0.0|               0.0|               0.0|               0.0|                 0.0|                0.0|               0.0|                 1|\n",
       "|    max|          100.428|             10037|            263.22|              349.7|             44.08|             10.15|             25.62|                11.0|               10.0|             54.67|               263|\n",
       "+-------+-----------------+------------------+------------------+-------------------+------------------+------------------+------------------+--------------------+-------------------+------------------+------------------+"
      ]
     },
     "execution_count": 20,
     "metadata": {},
     "output_type": "execute_result"
    }
   ],
   "source": [
    "# check the descriptive statistics of all numerical columns\n",
    "\n",
    "sdf1.select(['trip_miles',\n",
    "             'trip_time',\n",
    "             'driver_pay',\n",
    "             'base_passenger_fare',\n",
    "             'tolls',\n",
    "             'bcf',\n",
    "             'sales_tax',\n",
    "             'congestion_surcharge',\n",
    "             'airport_fee',\n",
    "             'tips',\n",
    "             'pulocationid']).describe()"
   ]
  },
  {
   "cell_type": "code",
   "execution_count": 21,
   "metadata": {},
   "outputs": [
    {
     "data": {
      "text/html": [
       "<table border='1'>\n",
       "<tr><th>hvfhs_license_num</th><th>dispatching_base_num</th><th>originating_base_num</th><th>request_datetime</th><th>on_scene_datetime</th><th>pickup_datetime</th><th>dropoff_datetime</th><th>pulocationid</th><th>dolocationid</th><th>trip_miles</th><th>trip_time</th><th>base_passenger_fare</th><th>tolls</th><th>bcf</th><th>sales_tax</th><th>congestion_surcharge</th><th>airport_fee</th><th>tips</th><th>driver_pay</th><th>pickup_date</th><th>dropoff_date</th></tr>\n",
       "<tr><td>HV0003</td><td>B03404</td><td>B03404</td><td>2023-07-01 00:04:21</td><td>2023-07-01 00:07:59</td><td>2023-07-01 00:08:30</td><td>2023-07-01 00:33:33</td><td>72</td><td>26</td><td>4.79</td><td>1503</td><td>22.34</td><td>0.0</td><td>0.61</td><td>1.98</td><td>0.0</td><td>0.0</td><td>0.0</td><td>20.42</td><td>2023-07-01</td><td>2023-07-01</td></tr>\n",
       "<tr><td>HV0003</td><td>B03404</td><td>B03404</td><td>2023-07-01 00:40:25</td><td>2023-07-01 00:40:35</td><td>2023-07-01 00:42:10</td><td>2023-07-01 01:08:06</td><td>26</td><td>37</td><td>6.4</td><td>1556</td><td>25.83</td><td>0.0</td><td>0.71</td><td>2.29</td><td>0.0</td><td>0.0</td><td>0.0</td><td>23.03</td><td>2023-07-01</td><td>2023-07-01</td></tr>\n",
       "<tr><td>HV0003</td><td>B03404</td><td>B03404</td><td>2023-07-01 00:20:31</td><td>2023-07-01 00:24:05</td><td>2023-07-01 00:25:00</td><td>2023-07-01 00:42:38</td><td>263</td><td>232</td><td>5.71</td><td>1058</td><td>26.51</td><td>0.0</td><td>0.73</td><td>2.35</td><td>2.75</td><td>0.0</td><td>6.46</td><td>18.61</td><td>2023-07-01</td><td>2023-07-01</td></tr>\n",
       "<tr><td>HV0003</td><td>B03404</td><td>B03404</td><td>2023-07-01 00:42:50</td><td>2023-07-01 00:47:37</td><td>2023-07-01 00:48:57</td><td>2023-07-01 00:57:04</td><td>79</td><td>233</td><td>1.75</td><td>487</td><td>16.32</td><td>0.0</td><td>0.45</td><td>1.45</td><td>2.75</td><td>0.0</td><td>0.0</td><td>8.13</td><td>2023-07-01</td><td>2023-07-01</td></tr>\n",
       "<tr><td>HV0005</td><td>B03406</td><td>NULL</td><td>2023-07-01 00:00:17</td><td>NULL</td><td>2023-07-01 00:05:35</td><td>2023-07-01 00:36:07</td><td>88</td><td>237</td><td>7.218</td><td>1832</td><td>83.97</td><td>0.0</td><td>2.31</td><td>7.45</td><td>2.75</td><td>0.0</td><td>0.0</td><td>59.05</td><td>2023-07-01</td><td>2023-07-01</td></tr>\n",
       "</table>\n"
      ],
      "text/plain": [
       "+-----------------+--------------------+--------------------+-------------------+-------------------+-------------------+-------------------+------------+------------+----------+---------+-------------------+-----+----+---------+--------------------+-----------+----+----------+-----------+------------+\n",
       "|hvfhs_license_num|dispatching_base_num|originating_base_num|   request_datetime|  on_scene_datetime|    pickup_datetime|   dropoff_datetime|pulocationid|dolocationid|trip_miles|trip_time|base_passenger_fare|tolls| bcf|sales_tax|congestion_surcharge|airport_fee|tips|driver_pay|pickup_date|dropoff_date|\n",
       "+-----------------+--------------------+--------------------+-------------------+-------------------+-------------------+-------------------+------------+------------+----------+---------+-------------------+-----+----+---------+--------------------+-----------+----+----------+-----------+------------+\n",
       "|           HV0003|              B03404|              B03404|2023-07-01 00:04:21|2023-07-01 00:07:59|2023-07-01 00:08:30|2023-07-01 00:33:33|          72|          26|      4.79|     1503|              22.34|  0.0|0.61|     1.98|                 0.0|        0.0| 0.0|     20.42| 2023-07-01|  2023-07-01|\n",
       "|           HV0003|              B03404|              B03404|2023-07-01 00:40:25|2023-07-01 00:40:35|2023-07-01 00:42:10|2023-07-01 01:08:06|          26|          37|       6.4|     1556|              25.83|  0.0|0.71|     2.29|                 0.0|        0.0| 0.0|     23.03| 2023-07-01|  2023-07-01|\n",
       "|           HV0003|              B03404|              B03404|2023-07-01 00:20:31|2023-07-01 00:24:05|2023-07-01 00:25:00|2023-07-01 00:42:38|         263|         232|      5.71|     1058|              26.51|  0.0|0.73|     2.35|                2.75|        0.0|6.46|     18.61| 2023-07-01|  2023-07-01|\n",
       "|           HV0003|              B03404|              B03404|2023-07-01 00:42:50|2023-07-01 00:47:37|2023-07-01 00:48:57|2023-07-01 00:57:04|          79|         233|      1.75|      487|              16.32|  0.0|0.45|     1.45|                2.75|        0.0| 0.0|      8.13| 2023-07-01|  2023-07-01|\n",
       "|           HV0005|              B03406|                NULL|2023-07-01 00:00:17|               NULL|2023-07-01 00:05:35|2023-07-01 00:36:07|          88|         237|     7.218|     1832|              83.97|  0.0|2.31|     7.45|                2.75|        0.0| 0.0|     59.05| 2023-07-01|  2023-07-01|\n",
       "+-----------------+--------------------+--------------------+-------------------+-------------------+-------------------+-------------------+------------+------------+----------+---------+-------------------+-----+----+---------+--------------------+-----------+----+----------+-----------+------------+"
      ]
     },
     "execution_count": 21,
     "metadata": {},
     "output_type": "execute_result"
    }
   ],
   "source": [
    "\n",
    "sdf1 = sdf1.drop(\"shared_request_flag\", \"shared_match_flag\", \"access_a_ride_flag\", \"wav_request_flag\", \"wav_match_flag\")\n",
    "\n",
    "# Extract the date as a standalone feature\n",
    "sdf1 = sdf1.withColumn(\"pickup_date\", \n",
    "                   F.to_date(F.col(\"pickup_datetime\")))\n",
    "\n",
    "sdf1 = sdf1.withColumn(\"dropoff_date\",\n",
    "                   F.to_date(F.col(\"dropoff_datetime\")))\n",
    "sdf1.limit(5)"
   ]
  },
  {
   "cell_type": "code",
   "execution_count": 22,
   "metadata": {},
   "outputs": [
    {
     "name": "stderr",
     "output_type": "stream",
     "text": [
      "                                                                                \r"
     ]
    },
    {
     "name": "stdout",
     "output_type": "stream",
     "text": [
      "pickup_datetime:\n",
      "\tMin: 2023-07-01 00:00:00 \n",
      "\tMax: 2023-12-31 23:59:59\n"
     ]
    },
    {
     "name": "stderr",
     "output_type": "stream",
     "text": [
      "[Stage 75:=====================================================>  (22 + 1) / 23]\r"
     ]
    },
    {
     "name": "stdout",
     "output_type": "stream",
     "text": [
      "\n",
      "dropoff_datetime:\n",
      "\tMin: 2023-07-01 00:03:09 \n",
      "\tMax: 2024-01-01 02:18:05 \n",
      "\n"
     ]
    },
    {
     "name": "stderr",
     "output_type": "stream",
     "text": [
      "                                                                                \r"
     ]
    }
   ],
   "source": [
    "# Check earliest and latest of datetime variables\n",
    "print(\"pickup_datetime:\\n\\tMin:\", sdf1.agg({\"pickup_datetime\": \"min\"}).collect()[0][0], \n",
    "    \"\\n\\tMax:\", sdf1.agg({\"pickup_datetime\": \"max\"}).collect()[0][0]),\n",
    "\n",
    "print(\"\\ndropoff_datetime:\\n\\tMin:\", sdf1.agg({\"dropoff_datetime\": \"min\"}).collect()[0][0],\n",
    "     \"\\n\\tMax:\", sdf1.agg({\"dropoff_datetime\": \"max\"}).collect()[0][0], '\\n')\n"
   ]
  },
  {
   "cell_type": "code",
   "execution_count": 23,
   "metadata": {},
   "outputs": [
    {
     "name": "stderr",
     "output_type": "stream",
     "text": [
      "[Stage 78:=====================================================>  (22 + 1) / 23]\r"
     ]
    },
    {
     "name": "stdout",
     "output_type": "stream",
     "text": [
      "-RECORD 0-----------------------------------\n",
      " summary              | count               \n",
      " trip_miles           | 115853423           \n",
      " trip_time            | 115853423           \n",
      " base_passenger_fare  | 115853423           \n",
      " tolls                | 115853423           \n",
      " bcf                  | 115853423           \n",
      " sales_tax            | 115853423           \n",
      " congestion_surcharge | 115853423           \n",
      " airport_fee          | 115853423           \n",
      " tips                 | 115853423           \n",
      " driver_pay           | 115853423           \n",
      "-RECORD 1-----------------------------------\n",
      " summary              | mean                \n",
      " trip_miles           | 5.158834254004041   \n",
      " trip_time            | 1228.7240712516539  \n",
      " base_passenger_fare  | 25.45252662393041   \n",
      " tolls                | 1.175423290608885   \n",
      " bcf                  | 0.7344419268493326  \n",
      " sales_tax            | 2.135880328445123   \n",
      " congestion_surcharge | 1.0825833777910905  \n",
      " airport_fee          | 0.22366068199814862 \n",
      " tips                 | 1.2012072278608659  \n",
      " driver_pay           | 20.11342025837233   \n",
      "-RECORD 2-----------------------------------\n",
      " summary              | stddev              \n",
      " trip_miles           | 5.776672446901602   \n",
      " trip_time            | 870.156396822642    \n",
      " base_passenger_fare  | 21.04386075636584   \n",
      " tolls                | 3.9538510739719555  \n",
      " bcf                  | 0.6480690832890761  \n",
      " sales_tax            | 1.7431651702132864  \n",
      " congestion_surcharge | 1.3391951000752085  \n",
      " airport_fee          | 0.7169882941720426  \n",
      " tips                 | 3.3396878500136147  \n",
      " driver_pay           | 16.570533327477843  \n",
      "-RECORD 3-----------------------------------\n",
      " summary              | min                 \n",
      " trip_miles           | 0.501               \n",
      " trip_time            | 61                  \n",
      " base_passenger_fare  | 0.0                 \n",
      " tolls                | 0.0                 \n",
      " bcf                  | 0.0                 \n",
      " sales_tax            | 0.0                 \n",
      " congestion_surcharge | 0.0                 \n",
      " airport_fee          | 0.0                 \n",
      " tips                 | 0.0                 \n",
      " driver_pay           | 0.01                \n",
      "-RECORD 4-----------------------------------\n",
      " summary              | max                 \n",
      " trip_miles           | 100.428             \n",
      " trip_time            | 10037               \n",
      " base_passenger_fare  | 349.7               \n",
      " tolls                | 44.08               \n",
      " bcf                  | 10.15               \n",
      " sales_tax            | 25.62               \n",
      " congestion_surcharge | 11.0                \n",
      " airport_fee          | 10.0                \n",
      " tips                 | 54.67               \n",
      " driver_pay           | 263.22              \n",
      "\n"
     ]
    },
    {
     "name": "stderr",
     "output_type": "stream",
     "text": [
      "                                                                                \r"
     ]
    }
   ],
   "source": [
    "# Check other variables\n",
    "sdf1.select(['trip_miles', \n",
    "           'trip_time', \n",
    "           'base_passenger_fare', \n",
    "           'tolls', \n",
    "           'bcf', \n",
    "           'sales_tax', \n",
    "           'congestion_surcharge',\n",
    "           'airport_fee',\n",
    "           'tips',\n",
    "           'driver_pay',]).describe().show(vertical=True)\n"
   ]
  },
  {
   "cell_type": "code",
   "execution_count": 24,
   "metadata": {},
   "outputs": [
    {
     "name": "stderr",
     "output_type": "stream",
     "text": [
      "                                                                                \r"
     ]
    },
    {
     "data": {
      "text/plain": [
       "115853423"
      ]
     },
     "execution_count": 24,
     "metadata": {},
     "output_type": "execute_result"
    }
   ],
   "source": [
    "sdf1\n",
    "sdf1.count()"
   ]
  },
  {
   "cell_type": "code",
   "execution_count": 25,
   "metadata": {},
   "outputs": [
    {
     "name": "stderr",
     "output_type": "stream",
     "text": [
      "                                                                                \r"
     ]
    },
    {
     "name": "stdout",
     "output_type": "stream",
     "text": [
      "1423858\n",
      "1.2140953370158711\n"
     ]
    },
    {
     "name": "stderr",
     "output_type": "stream",
     "text": [
      "[Stage 90:=====================================================>  (22 + 1) / 23]\r"
     ]
    },
    {
     "name": "stdout",
     "output_type": "stream",
     "text": [
      "115853423\n"
     ]
    },
    {
     "name": "stderr",
     "output_type": "stream",
     "text": [
      "                                                                                \r"
     ]
    }
   ],
   "source": [
    "sdf_count = sdf.count()\n",
    "sdf1_count = sdf1.count()\n",
    "\n",
    "# total records removed\n",
    "diff= sdf_count-sdf1_count\n",
    "print(diff)\n",
    "percentage_removed = (diff/sdf_count)*100\n",
    "print(percentage_removed)\n",
    "print(sdf1.count())"
   ]
  },
  {
   "cell_type": "markdown",
   "metadata": {},
   "source": [
    "# Feature Engineering"
   ]
  },
  {
   "cell_type": "markdown",
   "metadata": {},
   "source": [
    "#### Extract hourly pickup and dropoff demand in each location id"
   ]
  },
  {
   "cell_type": "code",
   "execution_count": 26,
   "metadata": {},
   "outputs": [
    {
     "data": {
      "text/html": [
       "<table border='1'>\n",
       "<tr><th>hvfhs_license_num</th><th>dispatching_base_num</th><th>originating_base_num</th><th>request_datetime</th><th>on_scene_datetime</th><th>pickup_datetime</th><th>dropoff_datetime</th><th>pulocationid</th><th>dolocationid</th><th>trip_miles</th><th>trip_time</th><th>base_passenger_fare</th><th>tolls</th><th>bcf</th><th>sales_tax</th><th>congestion_surcharge</th><th>airport_fee</th><th>tips</th><th>driver_pay</th><th>pickup_date</th><th>dropoff_date</th><th>pickup_hour</th><th>dropoff_hour</th></tr>\n",
       "<tr><td>HV0003</td><td>B03404</td><td>B03404</td><td>2023-07-01 00:04:21</td><td>2023-07-01 00:07:59</td><td>2023-07-01 00:08:30</td><td>2023-07-01 00:33:33</td><td>72</td><td>26</td><td>4.79</td><td>1503</td><td>22.34</td><td>0.0</td><td>0.61</td><td>1.98</td><td>0.0</td><td>0.0</td><td>0.0</td><td>20.42</td><td>2023-07-01</td><td>2023-07-01</td><td>0</td><td>0</td></tr>\n",
       "<tr><td>HV0003</td><td>B03404</td><td>B03404</td><td>2023-07-01 00:40:25</td><td>2023-07-01 00:40:35</td><td>2023-07-01 00:42:10</td><td>2023-07-01 01:08:06</td><td>26</td><td>37</td><td>6.4</td><td>1556</td><td>25.83</td><td>0.0</td><td>0.71</td><td>2.29</td><td>0.0</td><td>0.0</td><td>0.0</td><td>23.03</td><td>2023-07-01</td><td>2023-07-01</td><td>0</td><td>1</td></tr>\n",
       "<tr><td>HV0003</td><td>B03404</td><td>B03404</td><td>2023-07-01 00:20:31</td><td>2023-07-01 00:24:05</td><td>2023-07-01 00:25:00</td><td>2023-07-01 00:42:38</td><td>263</td><td>232</td><td>5.71</td><td>1058</td><td>26.51</td><td>0.0</td><td>0.73</td><td>2.35</td><td>2.75</td><td>0.0</td><td>6.46</td><td>18.61</td><td>2023-07-01</td><td>2023-07-01</td><td>0</td><td>0</td></tr>\n",
       "<tr><td>HV0003</td><td>B03404</td><td>B03404</td><td>2023-07-01 00:42:50</td><td>2023-07-01 00:47:37</td><td>2023-07-01 00:48:57</td><td>2023-07-01 00:57:04</td><td>79</td><td>233</td><td>1.75</td><td>487</td><td>16.32</td><td>0.0</td><td>0.45</td><td>1.45</td><td>2.75</td><td>0.0</td><td>0.0</td><td>8.13</td><td>2023-07-01</td><td>2023-07-01</td><td>0</td><td>0</td></tr>\n",
       "<tr><td>HV0005</td><td>B03406</td><td>NULL</td><td>2023-07-01 00:00:17</td><td>NULL</td><td>2023-07-01 00:05:35</td><td>2023-07-01 00:36:07</td><td>88</td><td>237</td><td>7.218</td><td>1832</td><td>83.97</td><td>0.0</td><td>2.31</td><td>7.45</td><td>2.75</td><td>0.0</td><td>0.0</td><td>59.05</td><td>2023-07-01</td><td>2023-07-01</td><td>0</td><td>0</td></tr>\n",
       "<tr><td>HV0003</td><td>B03404</td><td>B03404</td><td>2023-06-30 23:59:34</td><td>2023-07-01 00:03:57</td><td>2023-07-01 00:05:57</td><td>2023-07-01 00:22:42</td><td>233</td><td>148</td><td>2.08</td><td>1005</td><td>18.45</td><td>0.0</td><td>0.51</td><td>1.64</td><td>2.75</td><td>0.0</td><td>0.0</td><td>12.18</td><td>2023-07-01</td><td>2023-07-01</td><td>0</td><td>0</td></tr>\n",
       "<tr><td>HV0003</td><td>B03404</td><td>B03404</td><td>2023-07-01 00:25:50</td><td>2023-07-01 00:32:45</td><td>2023-07-01 00:34:47</td><td>2023-07-01 00:41:31</td><td>114</td><td>79</td><td>0.6</td><td>404</td><td>7.29</td><td>0.0</td><td>0.2</td><td>0.65</td><td>2.75</td><td>0.0</td><td>0.0</td><td>6.03</td><td>2023-07-01</td><td>2023-07-01</td><td>0</td><td>0</td></tr>\n",
       "<tr><td>HV0003</td><td>B03404</td><td>B03404</td><td>2023-07-01 00:40:40</td><td>2023-07-01 00:44:53</td><td>2023-07-01 00:45:03</td><td>2023-07-01 01:03:54</td><td>113</td><td>262</td><td>5.38</td><td>1131</td><td>26.19</td><td>0.0</td><td>0.72</td><td>2.32</td><td>2.75</td><td>0.0</td><td>0.0</td><td>17.7</td><td>2023-07-01</td><td>2023-07-01</td><td>0</td><td>1</td></tr>\n",
       "<tr><td>HV0003</td><td>B03404</td><td>B03404</td><td>2023-07-01 00:19:27</td><td>2023-07-01 00:25:09</td><td>2023-07-01 00:30:12</td><td>2023-07-01 00:48:24</td><td>87</td><td>148</td><td>2.19</td><td>1092</td><td>25.93</td><td>0.0</td><td>0.71</td><td>2.3</td><td>2.75</td><td>0.0</td><td>0.0</td><td>18.21</td><td>2023-07-01</td><td>2023-07-01</td><td>0</td><td>0</td></tr>\n",
       "<tr><td>HV0003</td><td>B03404</td><td>B03404</td><td>2023-07-01 00:41:14</td><td>2023-07-01 00:54:37</td><td>2023-07-01 00:54:46</td><td>2023-07-01 01:10:18</td><td>148</td><td>164</td><td>2.3</td><td>932</td><td>23.48</td><td>0.0</td><td>0.65</td><td>2.08</td><td>2.75</td><td>0.0</td><td>2.89</td><td>16.44</td><td>2023-07-01</td><td>2023-07-01</td><td>0</td><td>1</td></tr>\n",
       "<tr><td>HV0003</td><td>B03404</td><td>B03404</td><td>2023-07-01 00:49:16</td><td>2023-07-01 00:50:26</td><td>2023-07-01 00:51:03</td><td>2023-07-01 01:04:15</td><td>231</td><td>232</td><td>1.94</td><td>792</td><td>20.37</td><td>0.0</td><td>0.56</td><td>1.81</td><td>2.75</td><td>0.0</td><td>0.0</td><td>18.78</td><td>2023-07-01</td><td>2023-07-01</td><td>0</td><td>1</td></tr>\n",
       "<tr><td>HV0003</td><td>B03404</td><td>B03404</td><td>2023-07-01 00:10:18</td><td>2023-07-01 00:17:10</td><td>2023-07-01 00:18:13</td><td>2023-07-01 00:31:29</td><td>231</td><td>4</td><td>2.34</td><td>796</td><td>17.23</td><td>0.0</td><td>0.47</td><td>1.53</td><td>2.75</td><td>0.0</td><td>0.0</td><td>11.46</td><td>2023-07-01</td><td>2023-07-01</td><td>0</td><td>0</td></tr>\n",
       "<tr><td>HV0003</td><td>B03404</td><td>B03404</td><td>2023-07-01 00:30:06</td><td>2023-07-01 00:36:50</td><td>2023-07-01 00:37:12</td><td>2023-07-01 00:48:13</td><td>79</td><td>114</td><td>1.15</td><td>661</td><td>15.4</td><td>0.0</td><td>0.42</td><td>1.37</td><td>2.75</td><td>0.0</td><td>0.0</td><td>8.18</td><td>2023-07-01</td><td>2023-07-01</td><td>0</td><td>0</td></tr>\n",
       "<tr><td>HV0003</td><td>B03404</td><td>B03404</td><td>2023-07-01 00:45:51</td><td>2023-07-01 00:51:54</td><td>2023-07-01 00:53:54</td><td>2023-07-01 01:14:10</td><td>114</td><td>140</td><td>5.34</td><td>1216</td><td>29.49</td><td>0.0</td><td>0.81</td><td>2.62</td><td>2.75</td><td>0.0</td><td>0.0</td><td>21.77</td><td>2023-07-01</td><td>2023-07-01</td><td>0</td><td>1</td></tr>\n",
       "<tr><td>HV0005</td><td>B03406</td><td>NULL</td><td>2023-06-30 23:59:05</td><td>NULL</td><td>2023-07-01 00:04:20</td><td>2023-07-01 00:18:19</td><td>61</td><td>77</td><td>2.946</td><td>839</td><td>15.01</td><td>0.0</td><td>0.41</td><td>1.33</td><td>0.0</td><td>0.0</td><td>0.0</td><td>11.74</td><td>2023-07-01</td><td>2023-07-01</td><td>0</td><td>0</td></tr>\n",
       "<tr><td>HV0005</td><td>B03406</td><td>NULL</td><td>2023-07-01 00:28:14</td><td>NULL</td><td>2023-07-01 00:32:12</td><td>2023-07-01 00:40:43</td><td>61</td><td>17</td><td>2.171</td><td>511</td><td>14.92</td><td>0.0</td><td>0.41</td><td>1.33</td><td>0.0</td><td>0.0</td><td>0.0</td><td>7.64</td><td>2023-07-01</td><td>2023-07-01</td><td>0</td><td>0</td></tr>\n",
       "<tr><td>HV0005</td><td>B03406</td><td>NULL</td><td>2023-07-01 00:45:56</td><td>NULL</td><td>2023-07-01 00:48:23</td><td>2023-07-01 01:08:02</td><td>256</td><td>71</td><td>4.683</td><td>1179</td><td>20.33</td><td>0.0</td><td>0.56</td><td>1.81</td><td>0.0</td><td>0.0</td><td>0.0</td><td>17.2</td><td>2023-07-01</td><td>2023-07-01</td><td>0</td><td>1</td></tr>\n",
       "<tr><td>HV0003</td><td>B03404</td><td>B03404</td><td>2023-07-01 00:08:32</td><td>2023-07-01 00:10:36</td><td>2023-07-01 00:11:06</td><td>2023-07-01 00:22:13</td><td>256</td><td>49</td><td>2.21</td><td>667</td><td>12.91</td><td>0.0</td><td>0.36</td><td>1.15</td><td>0.0</td><td>0.0</td><td>1.0</td><td>9.55</td><td>2023-07-01</td><td>2023-07-01</td><td>0</td><td>0</td></tr>\n",
       "<tr><td>HV0003</td><td>B03404</td><td>B03404</td><td>2023-07-01 00:19:46</td><td>2023-07-01 00:23:48</td><td>2023-07-01 00:24:36</td><td>2023-07-01 01:13:06</td><td>49</td><td>174</td><td>23.07</td><td>2910</td><td>70.44</td><td>6.55</td><td>2.12</td><td>6.83</td><td>0.0</td><td>0.0</td><td>0.0</td><td>58.04</td><td>2023-07-01</td><td>2023-07-01</td><td>0</td><td>1</td></tr>\n",
       "<tr><td>HV0003</td><td>B03404</td><td>B03404</td><td>2023-06-30 23:59:00</td><td>2023-07-01 00:00:57</td><td>2023-07-01 00:01:03</td><td>2023-07-01 00:16:27</td><td>48</td><td>265</td><td>7.97</td><td>924</td><td>35.27</td><td>20.0</td><td>1.52</td><td>0.0</td><td>0.0</td><td>0.0</td><td>0.0</td><td>22.98</td><td>2023-07-01</td><td>2023-07-01</td><td>0</td><td>0</td></tr>\n",
       "</table>\n",
       "only showing top 20 rows\n"
      ],
      "text/plain": [
       "+-----------------+--------------------+--------------------+-------------------+-------------------+-------------------+-------------------+------------+------------+----------+---------+-------------------+-----+----+---------+--------------------+-----------+----+----------+-----------+------------+-----------+------------+\n",
       "|hvfhs_license_num|dispatching_base_num|originating_base_num|   request_datetime|  on_scene_datetime|    pickup_datetime|   dropoff_datetime|pulocationid|dolocationid|trip_miles|trip_time|base_passenger_fare|tolls| bcf|sales_tax|congestion_surcharge|airport_fee|tips|driver_pay|pickup_date|dropoff_date|pickup_hour|dropoff_hour|\n",
       "+-----------------+--------------------+--------------------+-------------------+-------------------+-------------------+-------------------+------------+------------+----------+---------+-------------------+-----+----+---------+--------------------+-----------+----+----------+-----------+------------+-----------+------------+\n",
       "|           HV0003|              B03404|              B03404|2023-07-01 00:04:21|2023-07-01 00:07:59|2023-07-01 00:08:30|2023-07-01 00:33:33|          72|          26|      4.79|     1503|              22.34|  0.0|0.61|     1.98|                 0.0|        0.0| 0.0|     20.42| 2023-07-01|  2023-07-01|          0|           0|\n",
       "|           HV0003|              B03404|              B03404|2023-07-01 00:40:25|2023-07-01 00:40:35|2023-07-01 00:42:10|2023-07-01 01:08:06|          26|          37|       6.4|     1556|              25.83|  0.0|0.71|     2.29|                 0.0|        0.0| 0.0|     23.03| 2023-07-01|  2023-07-01|          0|           1|\n",
       "|           HV0003|              B03404|              B03404|2023-07-01 00:20:31|2023-07-01 00:24:05|2023-07-01 00:25:00|2023-07-01 00:42:38|         263|         232|      5.71|     1058|              26.51|  0.0|0.73|     2.35|                2.75|        0.0|6.46|     18.61| 2023-07-01|  2023-07-01|          0|           0|\n",
       "|           HV0003|              B03404|              B03404|2023-07-01 00:42:50|2023-07-01 00:47:37|2023-07-01 00:48:57|2023-07-01 00:57:04|          79|         233|      1.75|      487|              16.32|  0.0|0.45|     1.45|                2.75|        0.0| 0.0|      8.13| 2023-07-01|  2023-07-01|          0|           0|\n",
       "|           HV0005|              B03406|                NULL|2023-07-01 00:00:17|               NULL|2023-07-01 00:05:35|2023-07-01 00:36:07|          88|         237|     7.218|     1832|              83.97|  0.0|2.31|     7.45|                2.75|        0.0| 0.0|     59.05| 2023-07-01|  2023-07-01|          0|           0|\n",
       "|           HV0003|              B03404|              B03404|2023-06-30 23:59:34|2023-07-01 00:03:57|2023-07-01 00:05:57|2023-07-01 00:22:42|         233|         148|      2.08|     1005|              18.45|  0.0|0.51|     1.64|                2.75|        0.0| 0.0|     12.18| 2023-07-01|  2023-07-01|          0|           0|\n",
       "|           HV0003|              B03404|              B03404|2023-07-01 00:25:50|2023-07-01 00:32:45|2023-07-01 00:34:47|2023-07-01 00:41:31|         114|          79|       0.6|      404|               7.29|  0.0| 0.2|     0.65|                2.75|        0.0| 0.0|      6.03| 2023-07-01|  2023-07-01|          0|           0|\n",
       "|           HV0003|              B03404|              B03404|2023-07-01 00:40:40|2023-07-01 00:44:53|2023-07-01 00:45:03|2023-07-01 01:03:54|         113|         262|      5.38|     1131|              26.19|  0.0|0.72|     2.32|                2.75|        0.0| 0.0|      17.7| 2023-07-01|  2023-07-01|          0|           1|\n",
       "|           HV0003|              B03404|              B03404|2023-07-01 00:19:27|2023-07-01 00:25:09|2023-07-01 00:30:12|2023-07-01 00:48:24|          87|         148|      2.19|     1092|              25.93|  0.0|0.71|      2.3|                2.75|        0.0| 0.0|     18.21| 2023-07-01|  2023-07-01|          0|           0|\n",
       "|           HV0003|              B03404|              B03404|2023-07-01 00:41:14|2023-07-01 00:54:37|2023-07-01 00:54:46|2023-07-01 01:10:18|         148|         164|       2.3|      932|              23.48|  0.0|0.65|     2.08|                2.75|        0.0|2.89|     16.44| 2023-07-01|  2023-07-01|          0|           1|\n",
       "|           HV0003|              B03404|              B03404|2023-07-01 00:49:16|2023-07-01 00:50:26|2023-07-01 00:51:03|2023-07-01 01:04:15|         231|         232|      1.94|      792|              20.37|  0.0|0.56|     1.81|                2.75|        0.0| 0.0|     18.78| 2023-07-01|  2023-07-01|          0|           1|\n",
       "|           HV0003|              B03404|              B03404|2023-07-01 00:10:18|2023-07-01 00:17:10|2023-07-01 00:18:13|2023-07-01 00:31:29|         231|           4|      2.34|      796|              17.23|  0.0|0.47|     1.53|                2.75|        0.0| 0.0|     11.46| 2023-07-01|  2023-07-01|          0|           0|\n",
       "|           HV0003|              B03404|              B03404|2023-07-01 00:30:06|2023-07-01 00:36:50|2023-07-01 00:37:12|2023-07-01 00:48:13|          79|         114|      1.15|      661|               15.4|  0.0|0.42|     1.37|                2.75|        0.0| 0.0|      8.18| 2023-07-01|  2023-07-01|          0|           0|\n",
       "|           HV0003|              B03404|              B03404|2023-07-01 00:45:51|2023-07-01 00:51:54|2023-07-01 00:53:54|2023-07-01 01:14:10|         114|         140|      5.34|     1216|              29.49|  0.0|0.81|     2.62|                2.75|        0.0| 0.0|     21.77| 2023-07-01|  2023-07-01|          0|           1|\n",
       "|           HV0005|              B03406|                NULL|2023-06-30 23:59:05|               NULL|2023-07-01 00:04:20|2023-07-01 00:18:19|          61|          77|     2.946|      839|              15.01|  0.0|0.41|     1.33|                 0.0|        0.0| 0.0|     11.74| 2023-07-01|  2023-07-01|          0|           0|\n",
       "|           HV0005|              B03406|                NULL|2023-07-01 00:28:14|               NULL|2023-07-01 00:32:12|2023-07-01 00:40:43|          61|          17|     2.171|      511|              14.92|  0.0|0.41|     1.33|                 0.0|        0.0| 0.0|      7.64| 2023-07-01|  2023-07-01|          0|           0|\n",
       "|           HV0005|              B03406|                NULL|2023-07-01 00:45:56|               NULL|2023-07-01 00:48:23|2023-07-01 01:08:02|         256|          71|     4.683|     1179|              20.33|  0.0|0.56|     1.81|                 0.0|        0.0| 0.0|      17.2| 2023-07-01|  2023-07-01|          0|           1|\n",
       "|           HV0003|              B03404|              B03404|2023-07-01 00:08:32|2023-07-01 00:10:36|2023-07-01 00:11:06|2023-07-01 00:22:13|         256|          49|      2.21|      667|              12.91|  0.0|0.36|     1.15|                 0.0|        0.0| 1.0|      9.55| 2023-07-01|  2023-07-01|          0|           0|\n",
       "|           HV0003|              B03404|              B03404|2023-07-01 00:19:46|2023-07-01 00:23:48|2023-07-01 00:24:36|2023-07-01 01:13:06|          49|         174|     23.07|     2910|              70.44| 6.55|2.12|     6.83|                 0.0|        0.0| 0.0|     58.04| 2023-07-01|  2023-07-01|          0|           1|\n",
       "|           HV0003|              B03404|              B03404|2023-06-30 23:59:00|2023-07-01 00:00:57|2023-07-01 00:01:03|2023-07-01 00:16:27|          48|         265|      7.97|      924|              35.27| 20.0|1.52|      0.0|                 0.0|        0.0| 0.0|     22.98| 2023-07-01|  2023-07-01|          0|           0|\n",
       "+-----------------+--------------------+--------------------+-------------------+-------------------+-------------------+-------------------+------------+------------+----------+---------+-------------------+-----+----+---------+--------------------+-----------+----+----------+-----------+------------+-----------+------------+\n",
       "only showing top 20 rows"
      ]
     },
     "execution_count": 26,
     "metadata": {},
     "output_type": "execute_result"
    }
   ],
   "source": [
    "# Create columns for date and hour\n",
    "sdf1 = (sdf1\n",
    "  .withColumn(\"pickup_date\", F.col(\"pickup_datetime\").cast(\"date\"))\n",
    "  .withColumn(\"pickup_hour\", F.hour(F.col(\"pickup_datetime\")))\n",
    "  .withColumn(\"dropoff_date\", F.col(\"dropoff_datetime\").cast(\"date\"))\n",
    "  .withColumn(\"dropoff_hour\", F.hour(F.col(\"dropoff_datetime\")))\n",
    ")\n",
    "sdf1"
   ]
  },
  {
   "cell_type": "code",
   "execution_count": 27,
   "metadata": {},
   "outputs": [
    {
     "name": "stderr",
     "output_type": "stream",
     "text": [
      "                                                                                \r"
     ]
    },
    {
     "name": "stdout",
     "output_type": "stream",
     "text": [
      "+-----------+-----------+-----+\n",
      "|pickup_date|pickup_hour|count|\n",
      "+-----------+-----------+-----+\n",
      "| 2023-07-01|          0|33809|\n",
      "| 2023-07-01|          1|26914|\n",
      "| 2023-07-01|          2|21115|\n",
      "| 2023-07-01|          3|17051|\n",
      "| 2023-07-01|          4|14159|\n",
      "| 2023-07-01|          5|11827|\n",
      "| 2023-07-01|          6|13210|\n",
      "| 2023-07-01|          7|15708|\n",
      "| 2023-07-01|          8|19051|\n",
      "| 2023-07-01|          9|22786|\n",
      "| 2023-07-01|         10|24856|\n",
      "| 2023-07-01|         11|27103|\n",
      "| 2023-07-01|         12|28176|\n",
      "| 2023-07-01|         13|28834|\n",
      "| 2023-07-01|         14|30289|\n",
      "| 2023-07-01|         15|31437|\n",
      "| 2023-07-01|         16|31861|\n",
      "| 2023-07-01|         17|33489|\n",
      "| 2023-07-01|         18|35206|\n",
      "| 2023-07-01|         19|35360|\n",
      "+-----------+-----------+-----+\n",
      "only showing top 20 rows\n",
      "\n"
     ]
    },
    {
     "name": "stderr",
     "output_type": "stream",
     "text": [
      "                                                                                \r"
     ]
    },
    {
     "data": {
      "text/plain": [
       "4416"
      ]
     },
     "execution_count": 27,
     "metadata": {},
     "output_type": "execute_result"
    }
   ],
   "source": [
    "# aggregate and count number of hourly instances in each location id\n",
    "pickup_hourly_demand_location = sdf1.groupBy(\"pulocationid\", \"pickup_date\", \"pickup_hour\").count().orderBy([\"pulocationid\"])\n",
    "pickup_hourly_demand = sdf1.groupBy(\"pickup_date\", \"pickup_hour\").count().orderBy([\"pickup_date\", \"pickup_hour\"])\n",
    "dropoff_hourly_demand = sdf1.groupBy(\"dolocationid\", \"dropoff_date\", \"dropoff_hour\").count()\n",
    "\n",
    "pickup_hourly_demand.show()\n",
    "pickup_hourly_demand.count()"
   ]
  },
  {
   "cell_type": "code",
   "execution_count": 28,
   "metadata": {},
   "outputs": [
    {
     "name": "stderr",
     "output_type": "stream",
     "text": [
      "[Stage 106:====================================================>  (22 + 1) / 23]\r"
     ]
    },
    {
     "name": "stdout",
     "output_type": "stream",
     "text": [
      "+------------+-----------+-----------+-----+\n",
      "|pulocationid|pickup_date|pickup_hour|count|\n",
      "+------------+-----------+-----------+-----+\n",
      "|           1| 2023-09-04|         17|    1|\n",
      "|           1| 2023-09-01|         10|    1|\n",
      "|           1| 2023-07-01|         10|    1|\n",
      "|           1| 2023-12-21|          5|    1|\n",
      "|           1| 2023-09-29|         17|    1|\n",
      "|           1| 2023-07-23|          3|    1|\n",
      "|           2| 2023-07-21|         11|    1|\n",
      "|           2| 2023-10-13|         21|    1|\n",
      "|           2| 2023-10-15|         15|    1|\n",
      "|           2| 2023-07-15|         21|    1|\n",
      "|           2| 2023-07-11|         20|    1|\n",
      "|           2| 2023-07-07|         12|    1|\n",
      "|           2| 2023-09-05|         11|    1|\n",
      "|           2| 2023-07-04|         14|    1|\n",
      "|           2| 2023-09-07|          0|    1|\n",
      "|           2| 2023-07-04|         10|    1|\n",
      "|           2| 2023-07-10|         17|    1|\n",
      "|           2| 2023-11-11|         15|    1|\n",
      "|           2| 2023-09-16|         16|    1|\n",
      "|           2| 2023-07-02|         17|    1|\n",
      "+------------+-----------+-----------+-----+\n",
      "only showing top 20 rows\n",
      "\n"
     ]
    },
    {
     "name": "stderr",
     "output_type": "stream",
     "text": [
      "                                                                                \r"
     ]
    }
   ],
   "source": [
    "pickup_hourly_demand_location.show()"
   ]
  },
  {
   "cell_type": "code",
   "execution_count": 30,
   "metadata": {},
   "outputs": [
    {
     "name": "stderr",
     "output_type": "stream",
     "text": [
      "                                                                                \r"
     ]
    }
   ],
   "source": [
    "pickup_hourly_demand.write.csv(\"../data/curated/pickup_hourly_demand.csv\", header=True, mode='overwrite')"
   ]
  },
  {
   "cell_type": "code",
   "execution_count": 31,
   "metadata": {},
   "outputs": [
    {
     "name": "stderr",
     "output_type": "stream",
     "text": [
      "                                                                                \r"
     ]
    }
   ],
   "source": [
    "pickup_hourly_demand_location.write.csv(\"../data/curated/pickup_hourly_demand_location.csv\", header=True, mode='overwrite')"
   ]
  }
 ],
 "metadata": {
  "kernelspec": {
   "display_name": "Python 3.12.4 ('.venv1': venv)",
   "language": "python",
   "name": "python3"
  },
  "language_info": {
   "codemirror_mode": {
    "name": "ipython",
    "version": 3
   },
   "file_extension": ".py",
   "mimetype": "text/x-python",
   "name": "python",
   "nbconvert_exporter": "python",
   "pygments_lexer": "ipython3",
   "version": "3.12.4"
  },
  "orig_nbformat": 4,
  "vscode": {
   "interpreter": {
    "hash": "bc19f976deae78a4b8dd1c0db37710e451de00dcd2e448b10d5869a2fb538e25"
   }
  }
 },
 "nbformat": 4,
 "nbformat_minor": 2
}
