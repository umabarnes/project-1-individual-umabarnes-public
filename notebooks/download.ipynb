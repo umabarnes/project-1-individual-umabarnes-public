{
 "cells": [
  {
   "cell_type": "code",
   "execution_count": 18,
   "metadata": {},
   "outputs": [],
   "source": [
    "from urllib.request import urlretrieve\n",
    "import os\n",
    "import pandas as pd"
   ]
  },
  {
   "cell_type": "code",
   "execution_count": 2,
   "metadata": {},
   "outputs": [],
   "source": [
    "output_relative_dir = '../data/'\n",
    "\n",
    "# check if path exists as it makedir will raise an error if it does exist\n",
    "if not os.path.exists(output_relative_dir):\n",
    "    os.makedirs(output_relative_dir)\n",
    "    \n",
    "# creating paths for each type of data set now, for each type of data set we will need, we will create the paths\n",
    "for target_dir in ('raw', 'curated', 'landing'):\n",
    "    if not os.path.exists(output_relative_dir + target_dir):\n",
    "        os.makedirs(output_relative_dir + target_dir)\n",
    "\n",
    "\n",
    "output_relative_dir = '../data/landing/'     \n",
    "target_dir = ('tlc_data')\n",
    "\n",
    "if not os.path.exists(output_relative_dir + target_dir):\n",
    "    os.makedirs(output_relative_dir + target_dir)"
   ]
  },
  {
   "cell_type": "code",
   "execution_count": 3,
   "metadata": {},
   "outputs": [],
   "source": [
    "YEAR = '2023'\n",
    "MONTHS = range(7, 13)"
   ]
  },
  {
   "cell_type": "code",
   "execution_count": 4,
   "metadata": {},
   "outputs": [],
   "source": [
    "# this is the URL template as of 07/2023\n",
    "URL_TEMPLATE = \"https://d37ci6vzurychx.cloudfront.net/trip-data/fhvhv_tripdata_\"#year-month.parquet"
   ]
  },
  {
   "cell_type": "code",
   "execution_count": 5,
   "metadata": {},
   "outputs": [
    {
     "name": "stdout",
     "output_type": "stream",
     "text": [
      "Begin month 07\n",
      "Completed month 07\n",
      "Begin month 08\n",
      "Completed month 08\n",
      "Begin month 09\n",
      "Completed month 09\n",
      "Begin month 10\n",
      "Completed month 10\n",
      "Begin month 11\n",
      "Completed month 11\n",
      "Begin month 12\n",
      "Completed month 12\n"
     ]
    }
   ],
   "source": [
    "# data output directory is `data/tlc_data/`\n",
    "tlc_output_dir = '../data/landing/tlc_data/'\n",
    "\n",
    "for month in MONTHS:\n",
    "    # 0-fill i.e 1 -> 01, 2 -> 02, etc\n",
    "    month = str(month).zfill(2) \n",
    "    print(f\"Begin month {month}\")\n",
    "    \n",
    "    # generate url\n",
    "    url = f'{URL_TEMPLATE}{YEAR}-{month}.parquet'\n",
    "    # generate output location and filename\n",
    "    output_dir = f\"{tlc_output_dir}/{YEAR}-{month}.parquet\"\n",
    "    # download\n",
    "    urlretrieve(url, output_dir) \n",
    "    \n",
    "    print(f\"Completed month {month}\")"
   ]
  },
  {
   "cell_type": "code",
   "execution_count": 11,
   "metadata": {},
   "outputs": [
    {
     "name": "stdout",
     "output_type": "stream",
     "text": [
      "\u001b[92m\u001b[1mSuccess - your environment is set up.\u001b[0m\n"
     ]
    }
   ],
   "source": [
    "import base64\n",
    "import traceback\n",
    "RED = '\\033[91m'\n",
    "GREEN = '\\033[92m'\n",
    "BOLD = '\\033[1m'\n",
    "RESET = '\\033[0m'\n",
    "\n",
    "try:\n",
    "    from pyspark.sql import SparkSession\n",
    "    # Create a spark session (which will run spark jobs)\n",
    "    spark = (\n",
    "        SparkSession.builder.appName(\"MAST30034 Tutorial\")\n",
    "        .config(\"spark.sql.repl.eagerEval.enabled\", True) \n",
    "        .config(\"spark.sql.parquet.cacheMetadata\", \"true\")\n",
    "        .config(\"spark.sql.session.timeZone\", \"Etc/UTC\")\n",
    "        .getOrCreate()\n",
    "    )\n",
    "    print(f\"{GREEN}{BOLD}Success - your environment is set up.{RESET}\")\n",
    "except Exception as e:\n",
    "    print(f\"{RED}{BOLD}Something went wrong. Reinstall and try again.{RESET}\")\n",
    "    traceback.print_exc()"
   ]
  },
  {
   "cell_type": "markdown",
   "metadata": {},
   "source": [
    "## Inspecting Data"
   ]
  },
  {
   "cell_type": "code",
   "execution_count": 12,
   "metadata": {},
   "outputs": [
    {
     "name": "stdout",
     "output_type": "stream",
     "text": [
      "-RECORD 0-----------------------------------\n",
      " hvfhs_license_num    | HV0003              \n",
      " dispatching_base_num | B03404              \n",
      " originating_base_num | B03404              \n",
      " request_datetime     | 2023-07-01 00:04:21 \n",
      " on_scene_datetime    | 2023-07-01 00:07:59 \n",
      " pickup_datetime      | 2023-07-01 00:08:30 \n",
      " dropoff_datetime     | 2023-07-01 00:33:33 \n",
      " PULocationID         | 72                  \n",
      " DOLocationID         | 26                  \n",
      " trip_miles           | 4.79                \n",
      " trip_time            | 1503                \n",
      " base_passenger_fare  | 22.34               \n",
      " tolls                | 0.0                 \n",
      " bcf                  | 0.61                \n",
      " sales_tax            | 1.98                \n",
      " congestion_surcharge | 0.0                 \n",
      " airport_fee          | 0.0                 \n",
      " tips                 | 0.0                 \n",
      " driver_pay           | 20.42               \n",
      " shared_request_flag  | N                   \n",
      " shared_match_flag    | N                   \n",
      " access_a_ride_flag   |                     \n",
      " wav_request_flag     | N                   \n",
      " wav_match_flag       | N                   \n",
      "only showing top 1 row\n",
      "\n"
     ]
    }
   ],
   "source": [
    "sdf_jul = spark.read.parquet('../data/landing/tlc_data/2023-07.parquet')\n",
    "sdf_jul.show(1, vertical=True, truncate=100)"
   ]
  },
  {
   "cell_type": "code",
   "execution_count": 13,
   "metadata": {},
   "outputs": [
    {
     "data": {
      "text/html": [
       "<table border='1'>\n",
       "<tr><th>hvfhs_license_num</th><th>dispatching_base_num</th><th>originating_base_num</th><th>request_datetime</th><th>on_scene_datetime</th><th>pickup_datetime</th><th>dropoff_datetime</th><th>PULocationID</th><th>DOLocationID</th><th>trip_miles</th><th>trip_time</th><th>base_passenger_fare</th><th>tolls</th><th>bcf</th><th>sales_tax</th><th>congestion_surcharge</th><th>airport_fee</th><th>tips</th><th>driver_pay</th><th>shared_request_flag</th><th>shared_match_flag</th><th>access_a_ride_flag</th><th>wav_request_flag</th><th>wav_match_flag</th></tr>\n",
       "<tr><td>HV0003</td><td>B03404</td><td>B03404</td><td>2023-07-01 00:04:21</td><td>2023-07-01 00:07:59</td><td>2023-07-01 00:08:30</td><td>2023-07-01 00:33:33</td><td>72</td><td>26</td><td>4.79</td><td>1503</td><td>22.34</td><td>0.0</td><td>0.61</td><td>1.98</td><td>0.0</td><td>0.0</td><td>0.0</td><td>20.42</td><td>N</td><td>N</td><td> </td><td>N</td><td>N</td></tr>\n",
       "<tr><td>HV0003</td><td>B03404</td><td>B03404</td><td>2023-07-01 00:40:25</td><td>2023-07-01 00:40:35</td><td>2023-07-01 00:42:10</td><td>2023-07-01 01:08:06</td><td>26</td><td>37</td><td>6.4</td><td>1556</td><td>25.83</td><td>0.0</td><td>0.71</td><td>2.29</td><td>0.0</td><td>0.0</td><td>0.0</td><td>23.03</td><td>N</td><td>N</td><td> </td><td>N</td><td>N</td></tr>\n",
       "<tr><td>HV0003</td><td>B03404</td><td>B03404</td><td>2023-07-01 00:20:31</td><td>2023-07-01 00:24:05</td><td>2023-07-01 00:25:00</td><td>2023-07-01 00:42:38</td><td>263</td><td>232</td><td>5.71</td><td>1058</td><td>26.51</td><td>0.0</td><td>0.73</td><td>2.35</td><td>2.75</td><td>0.0</td><td>6.46</td><td>18.61</td><td>N</td><td>N</td><td> </td><td>N</td><td>N</td></tr>\n",
       "<tr><td>HV0003</td><td>B03404</td><td>B03404</td><td>2023-07-01 00:42:50</td><td>2023-07-01 00:47:37</td><td>2023-07-01 00:48:57</td><td>2023-07-01 00:57:04</td><td>79</td><td>233</td><td>1.75</td><td>487</td><td>16.32</td><td>0.0</td><td>0.45</td><td>1.45</td><td>2.75</td><td>0.0</td><td>0.0</td><td>8.13</td><td>N</td><td>N</td><td> </td><td>N</td><td>N</td></tr>\n",
       "<tr><td>HV0005</td><td>B03406</td><td>NULL</td><td>2023-07-01 00:00:17</td><td>NULL</td><td>2023-07-01 00:05:35</td><td>2023-07-01 00:36:07</td><td>88</td><td>237</td><td>7.218</td><td>1832</td><td>83.97</td><td>0.0</td><td>2.31</td><td>7.45</td><td>2.75</td><td>0.0</td><td>0.0</td><td>59.05</td><td>N</td><td>N</td><td>N</td><td>N</td><td>N</td></tr>\n",
       "</table>\n"
      ],
      "text/plain": [
       "+-----------------+--------------------+--------------------+-------------------+-------------------+-------------------+-------------------+------------+------------+----------+---------+-------------------+-----+----+---------+--------------------+-----------+----+----------+-------------------+-----------------+------------------+----------------+--------------+\n",
       "|hvfhs_license_num|dispatching_base_num|originating_base_num|   request_datetime|  on_scene_datetime|    pickup_datetime|   dropoff_datetime|PULocationID|DOLocationID|trip_miles|trip_time|base_passenger_fare|tolls| bcf|sales_tax|congestion_surcharge|airport_fee|tips|driver_pay|shared_request_flag|shared_match_flag|access_a_ride_flag|wav_request_flag|wav_match_flag|\n",
       "+-----------------+--------------------+--------------------+-------------------+-------------------+-------------------+-------------------+------------+------------+----------+---------+-------------------+-----+----+---------+--------------------+-----------+----+----------+-------------------+-----------------+------------------+----------------+--------------+\n",
       "|           HV0003|              B03404|              B03404|2023-07-01 00:04:21|2023-07-01 00:07:59|2023-07-01 00:08:30|2023-07-01 00:33:33|          72|          26|      4.79|     1503|              22.34|  0.0|0.61|     1.98|                 0.0|        0.0| 0.0|     20.42|                  N|                N|                  |               N|             N|\n",
       "|           HV0003|              B03404|              B03404|2023-07-01 00:40:25|2023-07-01 00:40:35|2023-07-01 00:42:10|2023-07-01 01:08:06|          26|          37|       6.4|     1556|              25.83|  0.0|0.71|     2.29|                 0.0|        0.0| 0.0|     23.03|                  N|                N|                  |               N|             N|\n",
       "|           HV0003|              B03404|              B03404|2023-07-01 00:20:31|2023-07-01 00:24:05|2023-07-01 00:25:00|2023-07-01 00:42:38|         263|         232|      5.71|     1058|              26.51|  0.0|0.73|     2.35|                2.75|        0.0|6.46|     18.61|                  N|                N|                  |               N|             N|\n",
       "|           HV0003|              B03404|              B03404|2023-07-01 00:42:50|2023-07-01 00:47:37|2023-07-01 00:48:57|2023-07-01 00:57:04|          79|         233|      1.75|      487|              16.32|  0.0|0.45|     1.45|                2.75|        0.0| 0.0|      8.13|                  N|                N|                  |               N|             N|\n",
       "|           HV0005|              B03406|                NULL|2023-07-01 00:00:17|               NULL|2023-07-01 00:05:35|2023-07-01 00:36:07|          88|         237|     7.218|     1832|              83.97|  0.0|2.31|     7.45|                2.75|        0.0| 0.0|     59.05|                  N|                N|                 N|               N|             N|\n",
       "+-----------------+--------------------+--------------------+-------------------+-------------------+-------------------+-------------------+------------+------------+----------+---------+-------------------+-----+----+---------+--------------------+-----------+----+----------+-------------------+-----------------+------------------+----------------+--------------+"
      ]
     },
     "execution_count": 13,
     "metadata": {},
     "output_type": "execute_result"
    }
   ],
   "source": [
    "sdf_jul.limit(5)"
   ]
  },
  {
   "cell_type": "code",
   "execution_count": 15,
   "metadata": {},
   "outputs": [],
   "source": [
    "sdf_all = spark.read.parquet('../data/landing/tlc_data')"
   ]
  },
  {
   "cell_type": "code",
   "execution_count": 16,
   "metadata": {},
   "outputs": [
    {
     "data": {
      "text/plain": [
       "(19132131, 117277281)"
      ]
     },
     "execution_count": 16,
     "metadata": {},
     "output_type": "execute_result"
    }
   ],
   "source": [
    "sdf_jul.count(), sdf_all.count()"
   ]
  },
  {
   "cell_type": "code",
   "execution_count": 17,
   "metadata": {},
   "outputs": [
    {
     "name": "stdout",
     "output_type": "stream",
     "text": [
      "root\n",
      " |-- hvfhs_license_num: string (nullable = true)\n",
      " |-- dispatching_base_num: string (nullable = true)\n",
      " |-- originating_base_num: string (nullable = true)\n",
      " |-- request_datetime: timestamp_ntz (nullable = true)\n",
      " |-- on_scene_datetime: timestamp_ntz (nullable = true)\n",
      " |-- pickup_datetime: timestamp_ntz (nullable = true)\n",
      " |-- dropoff_datetime: timestamp_ntz (nullable = true)\n",
      " |-- PULocationID: integer (nullable = true)\n",
      " |-- DOLocationID: integer (nullable = true)\n",
      " |-- trip_miles: double (nullable = true)\n",
      " |-- trip_time: long (nullable = true)\n",
      " |-- base_passenger_fare: double (nullable = true)\n",
      " |-- tolls: double (nullable = true)\n",
      " |-- bcf: double (nullable = true)\n",
      " |-- sales_tax: double (nullable = true)\n",
      " |-- congestion_surcharge: double (nullable = true)\n",
      " |-- airport_fee: double (nullable = true)\n",
      " |-- tips: double (nullable = true)\n",
      " |-- driver_pay: double (nullable = true)\n",
      " |-- shared_request_flag: string (nullable = true)\n",
      " |-- shared_match_flag: string (nullable = true)\n",
      " |-- access_a_ride_flag: string (nullable = true)\n",
      " |-- wav_request_flag: string (nullable = true)\n",
      " |-- wav_match_flag: string (nullable = true)\n",
      "\n"
     ]
    }
   ],
   "source": [
    "sdf_jul.printSchema()"
   ]
  }
 ],
 "metadata": {
  "kernelspec": {
   "display_name": "Python 3.12.4 ('.venv1': venv)",
   "language": "python",
   "name": "python3"
  },
  "language_info": {
   "codemirror_mode": {
    "name": "ipython",
    "version": 3
   },
   "file_extension": ".py",
   "mimetype": "text/x-python",
   "name": "python",
   "nbconvert_exporter": "python",
   "pygments_lexer": "ipython3",
   "version": "3.12.4"
  },
  "orig_nbformat": 4,
  "vscode": {
   "interpreter": {
    "hash": "bc19f976deae78a4b8dd1c0db37710e451de00dcd2e448b10d5869a2fb538e25"
   }
  }
 },
 "nbformat": 4,
 "nbformat_minor": 2
}
