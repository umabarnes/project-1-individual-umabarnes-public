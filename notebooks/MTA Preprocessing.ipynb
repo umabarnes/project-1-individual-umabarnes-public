{
 "cells": [
  {
   "cell_type": "markdown",
   "metadata": {},
   "source": [
    "## MTA Service Announcement Preprocessing"
   ]
  },
  {
   "cell_type": "code",
   "execution_count": 19,
   "metadata": {},
   "outputs": [],
   "source": [
    "from pyspark.sql import SparkSession, functions as F\n",
    "from pyspark.sql.functions import to_timestamp\n",
    "from pyspark.sql.functions import col, expr\n",
    "from pyspark.sql.functions import to_date, hour\n",
    "from pyspark.sql.types import DateType, IntegerType\n",
    "import pandas as pd\n",
    "import datetime\n"
   ]
  },
  {
   "cell_type": "code",
   "execution_count": 2,
   "metadata": {},
   "outputs": [
    {
     "name": "stderr",
     "output_type": "stream",
     "text": [
      "Setting default log level to \"WARN\".\n",
      "To adjust logging level use sc.setLogLevel(newLevel). For SparkR, use setLogLevel(newLevel).\n",
      "24/08/25 13:07:34 WARN NativeCodeLoader: Unable to load native-hadoop library for your platform... using builtin-java classes where applicable\n",
      "24/08/25 13:07:34 WARN Utils: Service 'SparkUI' could not bind on port 4040. Attempting port 4041.\n",
      "24/08/25 13:07:34 WARN Utils: Service 'SparkUI' could not bind on port 4041. Attempting port 4042.\n"
     ]
    }
   ],
   "source": [
    "spark = SparkSession.builder \\\n",
    "    .appName(\"ReadCSV\") \\\n",
    "    .getOrCreate()"
   ]
  },
  {
   "cell_type": "code",
   "execution_count": 3,
   "metadata": {},
   "outputs": [],
   "source": [
    "from pyspark.sql.types import StructType, StructField, StringType, IntegerType\n",
    "\n",
    "# Define the schema explicitly\n",
    "schema = StructType([\n",
    "    StructField(\"Alert ID\", IntegerType(), True),\n",
    "    StructField(\"Event ID\", IntegerType(), True),\n",
    "    StructField(\"Update Number\", IntegerType(), True),\n",
    "    StructField(\"Date\", StringType(), True),\n",
    "    StructField(\"Agency\", StringType(), True),\n",
    "    StructField(\"Status Label\", StringType(), True),\n",
    "    StructField(\"Affected\", StringType(), True),\n",
    "])\n",
    "\n",
    "# Read the CSV file with the defined schema\n",
    "df = spark.read.schema(schema).option(\"header\", \"true\").csv(\"../data/landing/mta.csv\")\n"
   ]
  },
  {
   "cell_type": "code",
   "execution_count": 4,
   "metadata": {},
   "outputs": [
    {
     "name": "stdout",
     "output_type": "stream",
     "text": [
      "root\n",
      " |-- Alert ID: integer (nullable = true)\n",
      " |-- Event ID: integer (nullable = true)\n",
      " |-- Update Number: integer (nullable = true)\n",
      " |-- Date: string (nullable = true)\n",
      " |-- Agency: string (nullable = true)\n",
      " |-- Status Label: string (nullable = true)\n",
      " |-- Affected: string (nullable = true)\n",
      "\n"
     ]
    }
   ],
   "source": [
    "df.printSchema()"
   ]
  },
  {
   "cell_type": "code",
   "execution_count": 20,
   "metadata": {},
   "outputs": [
    {
     "name": "stdout",
     "output_type": "stream",
     "text": [
      "+--------+--------+-------------+--------------------+-----------+--------------------+--------------------+\n",
      "|Alert ID|Event ID|Update Number|                Date|     Agency|        Status Label|            Affected|\n",
      "+--------+--------+-------------+--------------------+-----------+--------------------+--------------------+\n",
      "|  337474|  163057|            0|07/30/2024 11:56:...|NYCT Subway|              delays|                   D|\n",
      "|  337473|  163056|            0|07/30/2024 11:46:...|NYCT Subway|              delays|                   6|\n",
      "|  337469|  163055|            0|07/30/2024 11:42:...|   NYCT Bus|      part-suspended|                M14D|\n",
      "|  337471|  163055|            1|07/30/2024 11:44:...|   NYCT Bus|      part-suspended|                M14D|\n",
      "|  337468|  163054|            0|07/30/2024 11:42:...|   NYCT Bus|              detour|                M14A|\n",
      "|  337470|  163054|            1|07/30/2024 11:43:...|   NYCT Bus|              detour|                M14A|\n",
      "|  337467|  163053|            0|07/30/2024 11:32:...|       LIRR|         some-delays|      Babylon Branch|\n",
      "|  337464|  163052|            0|07/30/2024 11:24:...|       LIRR|         some-delays|      Montauk Branch|\n",
      "|  337466|  163052|            1|07/30/2024 11:29:...|       LIRR|         some-delays|      Montauk Branch|\n",
      "|  337463|  163051|            0|07/30/2024 11:18:...|NYCT Subway|              delays|                   A|\n",
      "|  337461|  163050|            0|07/30/2024 11:07:...|NYCT Subway|              delays|                   1|\n",
      "|  337462|  163050|            1|07/30/2024 11:09:...|NYCT Subway|              delays|                   1|\n",
      "|  337460|  163049|            0|07/30/2024 10:58:...|NYCT Subway|stops-skipped | d...|               B | Q|\n",
      "|  337465|  163049|            1|07/30/2024 11:25:...|NYCT Subway|              delays|               B | Q|\n",
      "|  337458|  163048|            0|07/30/2024 10:55:...|NYCT Subway|              delays|                   6|\n",
      "|  337459|  163048|            1|07/30/2024 10:58:...|NYCT Subway|              delays|                   6|\n",
      "|  337457|  163047|            0|07/30/2024 10:54:...|       LIRR|         some-delays|Port Washington B...|\n",
      "|  337455|  163046|            0|07/30/2024 10:39:...|        MNR|         some-delays|           New Haven|\n",
      "|  337450|  163045|            0|07/30/2024 10:26:...|   NYCT Bus|       cancellations|                 BM1|\n",
      "|  337447|  163044|            0|07/30/2024 10:18:...|   NYCT Bus|              detour|                 Q32|\n",
      "+--------+--------+-------------+--------------------+-----------+--------------------+--------------------+\n",
      "only showing top 20 rows\n",
      "\n"
     ]
    }
   ],
   "source": [
    "df.show()"
   ]
  },
  {
   "cell_type": "code",
   "execution_count": 21,
   "metadata": {},
   "outputs": [
    {
     "data": {
      "text/plain": [
       "334431"
      ]
     },
     "execution_count": 21,
     "metadata": {},
     "output_type": "execute_result"
    }
   ],
   "source": [
    "df.count()"
   ]
  },
  {
   "cell_type": "code",
   "execution_count": 23,
   "metadata": {},
   "outputs": [
    {
     "data": {
      "text/plain": [
       "334431"
      ]
     },
     "execution_count": 23,
     "metadata": {},
     "output_type": "execute_result"
    }
   ],
   "source": [
    "# Filter based on the minimum possible values for numerical features\n",
    "df = df.where((F.col('Update Number') >= 0) &\n",
    "              (F.col('Alert ID') >= 0) &\n",
    "              (F.col('Event ID') >= 0))\n",
    "\n",
    "df.count()"
   ]
  },
  {
   "cell_type": "code",
   "execution_count": 6,
   "metadata": {},
   "outputs": [
    {
     "name": "stdout",
     "output_type": "stream",
     "text": [
      "+--------+-------------+--------------------+-----------+--------------------+\n",
      "|Alert ID|Update Number|                Date|     Agency|        Status Label|\n",
      "+--------+-------------+--------------------+-----------+--------------------+\n",
      "|  337474|            0|07/30/2024 11:56:...|NYCT Subway|              delays|\n",
      "|  337473|            0|07/30/2024 11:46:...|NYCT Subway|              delays|\n",
      "|  337469|            0|07/30/2024 11:42:...|   NYCT Bus|      part-suspended|\n",
      "|  337471|            1|07/30/2024 11:44:...|   NYCT Bus|      part-suspended|\n",
      "|  337468|            0|07/30/2024 11:42:...|   NYCT Bus|              detour|\n",
      "|  337470|            1|07/30/2024 11:43:...|   NYCT Bus|              detour|\n",
      "|  337467|            0|07/30/2024 11:32:...|       LIRR|         some-delays|\n",
      "|  337464|            0|07/30/2024 11:24:...|       LIRR|         some-delays|\n",
      "|  337466|            1|07/30/2024 11:29:...|       LIRR|         some-delays|\n",
      "|  337463|            0|07/30/2024 11:18:...|NYCT Subway|              delays|\n",
      "|  337461|            0|07/30/2024 11:07:...|NYCT Subway|              delays|\n",
      "|  337462|            1|07/30/2024 11:09:...|NYCT Subway|              delays|\n",
      "|  337460|            0|07/30/2024 10:58:...|NYCT Subway|stops-skipped | d...|\n",
      "|  337465|            1|07/30/2024 11:25:...|NYCT Subway|              delays|\n",
      "|  337458|            0|07/30/2024 10:55:...|NYCT Subway|              delays|\n",
      "|  337459|            1|07/30/2024 10:58:...|NYCT Subway|              delays|\n",
      "|  337457|            0|07/30/2024 10:54:...|       LIRR|         some-delays|\n",
      "|  337455|            0|07/30/2024 10:39:...|        MNR|         some-delays|\n",
      "|  337450|            0|07/30/2024 10:26:...|   NYCT Bus|       cancellations|\n",
      "|  337447|            0|07/30/2024 10:18:...|   NYCT Bus|              detour|\n",
      "+--------+-------------+--------------------+-----------+--------------------+\n",
      "only showing top 20 rows\n",
      "\n"
     ]
    }
   ],
   "source": [
    "df_converted = df.drop('Affected').drop('Event ID')\n",
    "df_converted.show()"
   ]
  },
  {
   "cell_type": "code",
   "execution_count": 7,
   "metadata": {},
   "outputs": [
    {
     "name": "stderr",
     "output_type": "stream",
     "text": [
      "[Stage 2:=========>                                                 (1 + 5) / 6]\r"
     ]
    },
    {
     "name": "stdout",
     "output_type": "stream",
     "text": [
      "+--------+-------------+-------------------+-----------+------------------------------+\n",
      "|Alert ID|Update Number|Date               |Agency     |Status Label                  |\n",
      "+--------+-------------+-------------------+-----------+------------------------------+\n",
      "|233465  |1            |2023-07-01 00:01:00|NYCT Bus   |buses-detoured                |\n",
      "|233466  |2            |2023-07-01 00:05:00|LIRR       |delays                        |\n",
      "|233467  |0            |2023-07-01 00:10:00|LIRR       |some-delays                   |\n",
      "|233468  |1            |2023-07-01 00:12:00|NYCT Subway|delays                        |\n",
      "|233469  |0            |2023-07-01 00:17:00|NYCT Subway|express-to-local | some-delays|\n",
      "|233470  |0            |2023-07-01 00:21:00|LIRR       |some-delays                   |\n",
      "|233471  |0            |2023-07-01 00:23:00|LIRR       |some-delays                   |\n",
      "|233472  |3            |2023-07-01 00:26:00|LIRR       |some-delays                   |\n",
      "|233473  |1            |2023-07-01 00:29:00|NYCT Subway|delays                        |\n",
      "|233474  |0            |2023-07-01 00:32:00|NYCT Subway|some-delays | local-to-express|\n",
      "|233475  |4            |2023-07-01 00:32:00|LIRR       |some-delays                   |\n",
      "|233476  |5            |2023-07-01 00:40:00|LIRR       |delays                        |\n",
      "|233477  |0            |2023-07-01 00:55:00|NYCT Subway|delays                        |\n",
      "|233478  |6            |2023-07-01 01:00:00|LIRR       |delays                        |\n",
      "|233479  |1            |2023-07-01 01:02:00|NYCT Subway|stations-skipped              |\n",
      "|233480  |0            |2023-07-01 01:03:00|NYCT Subway|delays                        |\n",
      "|233481  |7            |2023-07-01 01:04:00|LIRR       |delays                        |\n",
      "|233482  |1            |2023-07-01 01:10:00|NYCT Subway|delays                        |\n",
      "|233483  |1            |2023-07-01 01:11:00|NYCT Subway|delays                        |\n",
      "|233484  |8            |2023-07-01 01:14:00|LIRR       |delays                        |\n",
      "+--------+-------------+-------------------+-----------+------------------------------+\n",
      "only showing top 20 rows\n",
      "\n",
      "root\n",
      " |-- Alert ID: integer (nullable = true)\n",
      " |-- Update Number: integer (nullable = true)\n",
      " |-- Date: timestamp (nullable = true)\n",
      " |-- Agency: string (nullable = true)\n",
      " |-- Status Label: string (nullable = true)\n",
      "\n"
     ]
    },
    {
     "name": "stderr",
     "output_type": "stream",
     "text": [
      "                                                                                \r"
     ]
    }
   ],
   "source": [
    "# Define the date format used in the CSV\n",
    "date_format = \"MM/dd/yyyy hh:mm:ss a\"\n",
    "\n",
    "# Convert the Date column to timestamp\n",
    "df_converted = df_converted.withColumn(\"Date\", to_timestamp(col(\"Date\"), date_format))\n",
    "\n",
    "# Now want to make sure to include necessary dates\n",
    "# Define the date range\n",
    "start_date = '2023-07-01'\n",
    "end_date = '2023-12-31'\n",
    "\n",
    "# Filter the DataFrame\n",
    "df_converted = df_converted.filter((col(\"Date\") >= start_date) & (col(\"Date\") <= end_date)).orderBy(\"Date\")\n",
    "\n",
    "df_converted.show(truncate=False)\n",
    "df_converted.printSchema()"
   ]
  },
  {
   "cell_type": "code",
   "execution_count": 8,
   "metadata": {},
   "outputs": [
    {
     "name": "stdout",
     "output_type": "stream",
     "text": [
      "+--------+-------------+-------------------+-----------+------------------------------+----------+----+\n",
      "|Alert ID|Update Number|Date               |Agency     |Status Label                  |date_only |hour|\n",
      "+--------+-------------+-------------------+-----------+------------------------------+----------+----+\n",
      "|233465  |1            |2023-07-01 00:01:00|NYCT Bus   |buses-detoured                |2023-07-01|0   |\n",
      "|233468  |1            |2023-07-01 00:12:00|NYCT Subway|delays                        |2023-07-01|0   |\n",
      "|233469  |0            |2023-07-01 00:17:00|NYCT Subway|express-to-local | some-delays|2023-07-01|0   |\n",
      "|233473  |1            |2023-07-01 00:29:00|NYCT Subway|delays                        |2023-07-01|0   |\n",
      "|233474  |0            |2023-07-01 00:32:00|NYCT Subway|some-delays | local-to-express|2023-07-01|0   |\n",
      "|233477  |0            |2023-07-01 00:55:00|NYCT Subway|delays                        |2023-07-01|0   |\n",
      "|233479  |1            |2023-07-01 01:02:00|NYCT Subway|stations-skipped              |2023-07-01|1   |\n",
      "|233480  |0            |2023-07-01 01:03:00|NYCT Subway|delays                        |2023-07-01|1   |\n",
      "|233482  |1            |2023-07-01 01:10:00|NYCT Subway|delays                        |2023-07-01|1   |\n",
      "|233483  |1            |2023-07-01 01:11:00|NYCT Subway|delays                        |2023-07-01|1   |\n",
      "|233487  |2            |2023-07-01 01:25:00|NYCT Subway|delays                        |2023-07-01|1   |\n",
      "|233488  |1            |2023-07-01 01:33:00|NYCT Bus   |delays                        |2023-07-01|1   |\n",
      "|233492  |0            |2023-07-01 01:55:00|NYCT Subway|delays                        |2023-07-01|1   |\n",
      "|233493  |2            |2023-07-01 01:58:00|NYCT Subway|delays                        |2023-07-01|1   |\n",
      "|233498  |1            |2023-07-01 02:25:00|NYCT Subway|delays                        |2023-07-01|2   |\n",
      "|233501  |0            |2023-07-01 02:36:00|NYCT Subway|delays                        |2023-07-01|2   |\n",
      "|233503  |0            |2023-07-01 02:41:00|NYCT Bus   |buses-detoured                |2023-07-01|2   |\n",
      "|233504  |1            |2023-07-01 02:46:00|NYCT Bus   |buses-detoured                |2023-07-01|2   |\n",
      "|233510  |1            |2023-07-01 03:58:00|NYCT Subway|delays                        |2023-07-01|3   |\n",
      "|233511  |0            |2023-07-01 04:02:00|NYCT Subway|delays                        |2023-07-01|4   |\n",
      "+--------+-------------+-------------------+-----------+------------------------------+----------+----+\n",
      "only showing top 20 rows\n",
      "\n"
     ]
    }
   ],
   "source": [
    "# Need to remove any rows which involve service announcements affecting the Long Island Rail Road (LIRR) and Metro-North Rail Road (MNR) service as it is not contained in our defined geographical area\n",
    "df_converted = df_converted.filter(~df_converted[\"Agency\"].contains(\"LIRR\"))\n",
    "df_converted = df_converted.filter(~df_converted[\"Agency\"].contains(\"MNR\"))\n",
    "df_converted = df_converted.filter(~df_converted[\"Agency\"].contains(\"BT\"))\n",
    "\n",
    "# Extract the date from the 'Date' column\n",
    "df_converted = df_converted.withColumn('date_only', to_date(df_converted['Date']))\n",
    "\n",
    "# Extract the hour from the 'Date' column\n",
    "df_converted = df_converted.withColumn('hour', hour(df_converted['Date']))\n",
    "\n",
    "\n",
    "df_converted.show(truncate=False)\n"
   ]
  },
  {
   "cell_type": "code",
   "execution_count": 9,
   "metadata": {},
   "outputs": [
    {
     "name": "stdout",
     "output_type": "stream",
     "text": [
      "+----------+----+---------+------------+\n",
      "|      date|hour|bus_count|subway_count|\n",
      "+----------+----+---------+------------+\n",
      "|2023-12-28|   9|        0|           7|\n",
      "|2023-12-30|  23|        1|           5|\n",
      "|2023-10-10|  10|        8|           5|\n",
      "|2023-08-04|   0|        5|           6|\n",
      "|2023-07-25|   9|        4|           2|\n",
      "|2023-11-01|   8|        1|           3|\n",
      "|2023-09-16|   8|        1|           0|\n",
      "|2023-10-21|   9|        2|           0|\n",
      "|2023-07-08|   4|        0|           9|\n",
      "|2023-07-05|  18|        2|           6|\n",
      "|2023-07-09|   2|        0|           4|\n",
      "|2023-08-21|   7|        0|           6|\n",
      "|2023-09-29|   5|        3|           2|\n",
      "|2023-09-21|  12|        5|          12|\n",
      "|2023-07-14|  11|        9|          12|\n",
      "|2023-12-07|  17|        2|          13|\n",
      "|2023-09-19|  14|        1|           4|\n",
      "|2023-07-18|   8|        1|           5|\n",
      "|2023-10-05|  17|        0|           5|\n",
      "|2023-11-17|  15|        0|           8|\n",
      "+----------+----+---------+------------+\n",
      "only showing top 20 rows\n",
      "\n"
     ]
    }
   ],
   "source": [
    "from pyspark.sql import functions as F\n",
    "\n",
    "# Group by 'date_only', 'hour', and 'Agency' and count the occurrences\n",
    "grouped_df = df_converted.groupBy(\"date_only\", \"hour\", \"Agency\").count()\n",
    "\n",
    "# Pivot the 'Agency' column to create separate columns for each agency\n",
    "pivot_df = grouped_df.groupBy(\"date_only\", \"hour\") \\\n",
    "    .pivot(\"Agency\", [\"NYCT Bus\", \"NYCT Subway\"]) \\\n",
    "    .agg(F.first(\"count\"))\n",
    "\n",
    "# Rename the columns to 'bus_count', 'subway_count', and 'bt_count'\n",
    "pivot_df = pivot_df.withColumnRenamed(\"NYCT Bus\", \"bus_count\") \\\n",
    "                   .withColumnRenamed(\"NYCT Subway\", \"subway_count\")\n",
    "\n",
    "# Fill null values with 0, in case some combinations don't have counts\n",
    "pivot_df = pivot_df.fillna(0)\n",
    "\n",
    "# rename dat_only to date for consistency\n",
    "pivot_df = pivot_df.withColumnRenamed(\"date_only\", \"date\")\n",
    "\n",
    "# Show the results\n",
    "pivot_df.show()\n",
    "\n"
   ]
  },
  {
   "cell_type": "code",
   "execution_count": 10,
   "metadata": {},
   "outputs": [
    {
     "data": {
      "text/plain": [
       "4416"
      ]
     },
     "execution_count": 10,
     "metadata": {},
     "output_type": "execute_result"
    }
   ],
   "source": [
    "# checking to see if all dates are included\n",
    "(30+30+31+31+31+31)*24"
   ]
  },
  {
   "cell_type": "code",
   "execution_count": 11,
   "metadata": {},
   "outputs": [
    {
     "data": {
      "text/plain": [
       "4281"
      ]
     },
     "execution_count": 11,
     "metadata": {},
     "output_type": "execute_result"
    }
   ],
   "source": [
    "pivot_df.count()"
   ]
  },
  {
   "cell_type": "code",
   "execution_count": 12,
   "metadata": {},
   "outputs": [],
   "source": [
    "# not all dates are included, now need to include them all\n",
    "all_dates = pd.date_range(start=start_date, end=end_date).date\n",
    "\n",
    "# Generate all hours\n",
    "all_hours = list(range(0, 24))\n",
    "\n",
    "# Create DataFrame with all date and hour combinations\n",
    "all_combinations = [(date, hour) for date in all_dates for hour in all_hours]\n",
    "all_combinations_df = spark.createDataFrame(all_combinations, [\"date\", \"hour\"])\n",
    "\n",
    "# Ensure 'date' is of DateType and 'hour' is of IntegerType\n",
    "all_combinations_df = all_combinations_df.withColumn(\"date\", col(\"date\").cast(DateType()))\n",
    "all_combinations_df = all_combinations_df.withColumn(\"hour\", col(\"hour\").cast(IntegerType()))"
   ]
  },
  {
   "cell_type": "code",
   "execution_count": 14,
   "metadata": {},
   "outputs": [
    {
     "name": "stdout",
     "output_type": "stream",
     "text": [
      "+----------+----+---------+------------+\n",
      "|      date|hour|bus_count|subway_count|\n",
      "+----------+----+---------+------------+\n",
      "|2023-07-01|   0|        1|           5|\n",
      "|2023-07-01|   1|        1|           7|\n",
      "|2023-07-01|   2|        2|           2|\n",
      "|2023-07-01|   3|        0|           1|\n",
      "|2023-07-01|   4|        0|          11|\n",
      "|2023-07-01|   5|        0|           7|\n",
      "|2023-07-01|   6|        0|           3|\n",
      "|2023-07-01|   7|        0|           6|\n",
      "|2023-07-01|   8|        4|           4|\n",
      "|2023-07-01|   9|        1|           3|\n",
      "|2023-07-01|  10|        0|           6|\n",
      "|2023-07-01|  11|        0|           5|\n",
      "|2023-07-01|  12|        3|           4|\n",
      "|2023-07-01|  13|        0|           3|\n",
      "|2023-07-01|  14|        0|           4|\n",
      "|2023-07-01|  15|        2|           6|\n",
      "|2023-07-01|  16|        0|           1|\n",
      "|2023-07-01|  17|        0|           2|\n",
      "|2023-07-01|  18|        1|           2|\n",
      "|2023-07-01|  19|        1|           4|\n",
      "+----------+----+---------+------------+\n",
      "only showing top 20 rows\n",
      "\n"
     ]
    },
    {
     "name": "stderr",
     "output_type": "stream",
     "text": [
      "                                                                                \r"
     ]
    },
    {
     "name": "stderr",
     "output_type": "stream",
     "text": [
      "24/08/25 13:07:54 WARN GarbageCollectionMetrics: To enable non-built-in garbage collector(s) List(G1 Concurrent GC), users should configure it(them) to spark.eventLog.gcMetrics.youngGenerationGarbageCollectors or spark.eventLog.gcMetrics.oldGenerationGarbageCollectors\n"
     ]
    }
   ],
   "source": [
    "# Perform a full outer join with the original DataFrame\n",
    "full_df = all_combinations_df.join(pivot_df, on=[\"date\", \"hour\"], how=\"left\")\n",
    "\n",
    "# Fill missing counts with 0\n",
    "full_df = full_df.fillna({\"bus_count\": 0, \"subway_count\": 0})\n",
    "\n",
    "# Sort the DataFrame by 'date' and 'hour'\n",
    "full_df = full_df.orderBy([\"date\", \"hour\"])\n",
    "\n",
    "# Show the resulting DataFrame\n",
    "full_df.show()"
   ]
  },
  {
   "cell_type": "code",
   "execution_count": 15,
   "metadata": {},
   "outputs": [
    {
     "name": "stdout",
     "output_type": "stream",
     "text": [
      "Number of rows: 4416\n"
     ]
    }
   ],
   "source": [
    "# Checking to see if all dates and hours are now included\n",
    "#  Get the number of columns in the DataFrame\n",
    "num_rows = full_df.count()\n",
    "\n",
    "# Print the number of rows\n",
    "print(f\"Number of rows: {num_rows}\")"
   ]
  },
  {
   "cell_type": "code",
   "execution_count": 17,
   "metadata": {},
   "outputs": [],
   "source": [
    "full_df.write.mode(\"overwrite\").option(\"header\", \"true\").csv(\"../data/curated/hourly_service_counts.csv\")\n",
    "\n"
   ]
  }
 ],
 "metadata": {
  "kernelspec": {
   "display_name": "Python 3.12.4 ('.venv1': venv)",
   "language": "python",
   "name": "python3"
  },
  "language_info": {
   "codemirror_mode": {
    "name": "ipython",
    "version": 3
   },
   "file_extension": ".py",
   "mimetype": "text/x-python",
   "name": "python",
   "nbconvert_exporter": "python",
   "pygments_lexer": "ipython3",
   "version": "3.12.4"
  },
  "orig_nbformat": 4,
  "vscode": {
   "interpreter": {
    "hash": "bc19f976deae78a4b8dd1c0db37710e451de00dcd2e448b10d5869a2fb538e25"
   }
  }
 },
 "nbformat": 4,
 "nbformat_minor": 2
}
