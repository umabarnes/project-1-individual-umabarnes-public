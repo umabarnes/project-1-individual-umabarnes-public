{
 "cells": [
  {
   "cell_type": "code",
   "execution_count": 1,
   "metadata": {},
   "outputs": [],
   "source": [
    "import pandas as pd\n",
    "from pyspark.sql import SparkSession, functions as F\n",
    "from pyspark.sql.functions import col"
   ]
  },
  {
   "cell_type": "code",
   "execution_count": 2,
   "metadata": {},
   "outputs": [
    {
     "name": "stderr",
     "output_type": "stream",
     "text": [
      "Setting default log level to \"WARN\".\n",
      "To adjust logging level use sc.setLogLevel(newLevel). For SparkR, use setLogLevel(newLevel).\n",
      "24/08/25 17:00:41 WARN NativeCodeLoader: Unable to load native-hadoop library for your platform... using builtin-java classes where applicable\n",
      "24/08/25 17:00:42 WARN Utils: Service 'SparkUI' could not bind on port 4040. Attempting port 4041.\n"
     ]
    }
   ],
   "source": [
    "# Create a spark session (which will run spark jobs)\n",
    "spark = (\n",
    "    SparkSession.builder.appName(\"MAST30034 Tutorial 2\")\n",
    "    .config(\"spark.sql.repl.eagerEval.enabled\", True)\n",
    "    .config(\"spark.sql.parquet.cacheMetadata\", \"true\")\n",
    "    .config(\"spark.sql.session.timeZone\", \"Etc/UTC\")\n",
    "    .config('spark.driver.memory', '4g')\n",
    "    .config('spark.executor.memory', '2g')\n",
    "    .getOrCreate()\n",
    ")"
   ]
  },
  {
   "cell_type": "code",
   "execution_count": 99,
   "metadata": {},
   "outputs": [],
   "source": [
    "SAMPLE_SIZE = 0.05"
   ]
  },
  {
   "cell_type": "code",
   "execution_count": 100,
   "metadata": {},
   "outputs": [
    {
     "name": "stderr",
     "output_type": "stream",
     "text": [
      "                                                                                \r"
     ]
    },
    {
     "ename": "KeyboardInterrupt",
     "evalue": "",
     "output_type": "error",
     "traceback": [
      "\u001b[0;31m---------------------------------------------------------------------------\u001b[0m",
      "\u001b[0;31mKeyboardInterrupt\u001b[0m                         Traceback (most recent call last)",
      "Cell \u001b[0;32mIn[100], line 3\u001b[0m\n\u001b[1;32m      1\u001b[0m \u001b[38;5;28;01mimport\u001b[39;00m \u001b[38;5;21;01mpandas\u001b[39;00m \u001b[38;5;28;01mas\u001b[39;00m \u001b[38;5;21;01mpd\u001b[39;00m\n\u001b[1;32m      2\u001b[0m sdf_jul \u001b[38;5;241m=\u001b[39m spark\u001b[38;5;241m.\u001b[39mread\u001b[38;5;241m.\u001b[39mparquet(\u001b[38;5;124m'\u001b[39m\u001b[38;5;124m../data/tlc_data/2023-07.parquet\u001b[39m\u001b[38;5;124m'\u001b[39m)\n\u001b[0;32m----> 3\u001b[0m df \u001b[38;5;241m=\u001b[39m \u001b[43msdf_jul\u001b[49m\u001b[38;5;241;43m.\u001b[39;49m\u001b[43msample\u001b[49m\u001b[43m(\u001b[49m\u001b[43mSAMPLE_SIZE\u001b[49m\u001b[43m,\u001b[49m\u001b[43m \u001b[49m\u001b[43mseed\u001b[49m\u001b[43m \u001b[49m\u001b[38;5;241;43m=\u001b[39;49m\u001b[38;5;241;43m0\u001b[39;49m\u001b[43m)\u001b[49m\u001b[38;5;241;43m.\u001b[39;49m\u001b[43mtoPandas\u001b[49m\u001b[43m(\u001b[49m\u001b[43m)\u001b[49m\n\u001b[1;32m      5\u001b[0m df\u001b[38;5;241m.\u001b[39mto_csv(\u001b[38;5;124m'\u001b[39m\u001b[38;5;124m../data/sample_data/sample_data.csv\u001b[39m\u001b[38;5;124m'\u001b[39m, index\u001b[38;5;241m=\u001b[39m\u001b[38;5;28;01mFalse\u001b[39;00m)\n\u001b[1;32m      6\u001b[0m df\u001b[38;5;241m.\u001b[39mto_parquet(\u001b[38;5;124m'\u001b[39m\u001b[38;5;124m../data/sample_data/sample_data.parquet\u001b[39m\u001b[38;5;124m'\u001b[39m)\n",
      "File \u001b[0;32m~/Desktop/UNI/project-1-individual-umabarnes/.venv1/lib/python3.12/site-packages/pyspark/sql/pandas/conversion.py:202\u001b[0m, in \u001b[0;36mPandasConversionMixin.toPandas\u001b[0;34m(self)\u001b[0m\n\u001b[1;32m    199\u001b[0m             \u001b[39mraise\u001b[39;00m\n\u001b[1;32m    201\u001b[0m \u001b[39m# Below is toPandas without Arrow optimization.\u001b[39;00m\n\u001b[0;32m--> 202\u001b[0m rows \u001b[39m=\u001b[39m \u001b[39mself\u001b[39;49m\u001b[39m.\u001b[39;49mcollect()\n\u001b[1;32m    203\u001b[0m \u001b[39mif\u001b[39;00m \u001b[39mlen\u001b[39m(rows) \u001b[39m>\u001b[39m \u001b[39m0\u001b[39m:\n\u001b[1;32m    204\u001b[0m     pdf \u001b[39m=\u001b[39m pd\u001b[39m.\u001b[39mDataFrame\u001b[39m.\u001b[39mfrom_records(\n\u001b[1;32m    205\u001b[0m         rows, index\u001b[39m=\u001b[39m\u001b[39mrange\u001b[39m(\u001b[39mlen\u001b[39m(rows)), columns\u001b[39m=\u001b[39m\u001b[39mself\u001b[39m\u001b[39m.\u001b[39mcolumns  \u001b[39m# type: ignore[arg-type]\u001b[39;00m\n\u001b[1;32m    206\u001b[0m     )\n",
      "File \u001b[0;32m~/Desktop/UNI/project-1-individual-umabarnes/.venv1/lib/python3.12/site-packages/pyspark/sql/dataframe.py:1262\u001b[0m, in \u001b[0;36mDataFrame.collect\u001b[0;34m(self)\u001b[0m\n\u001b[1;32m   1260\u001b[0m \u001b[39mwith\u001b[39;00m SCCallSiteSync(\u001b[39mself\u001b[39m\u001b[39m.\u001b[39m_sc):\n\u001b[1;32m   1261\u001b[0m     sock_info \u001b[39m=\u001b[39m \u001b[39mself\u001b[39m\u001b[39m.\u001b[39m_jdf\u001b[39m.\u001b[39mcollectToPython()\n\u001b[0;32m-> 1262\u001b[0m \u001b[39mreturn\u001b[39;00m \u001b[39mlist\u001b[39;49m(_load_from_socket(sock_info, BatchedSerializer(CPickleSerializer())))\n",
      "File \u001b[0;32m~/Desktop/UNI/project-1-individual-umabarnes/.venv1/lib/python3.12/site-packages/pyspark/serializers.py:152\u001b[0m, in \u001b[0;36mFramedSerializer.load_stream\u001b[0;34m(self, stream)\u001b[0m\n\u001b[1;32m    150\u001b[0m \u001b[39mwhile\u001b[39;00m \u001b[39mTrue\u001b[39;00m:\n\u001b[1;32m    151\u001b[0m     \u001b[39mtry\u001b[39;00m:\n\u001b[0;32m--> 152\u001b[0m         \u001b[39myield\u001b[39;00m \u001b[39mself\u001b[39;49m\u001b[39m.\u001b[39;49m_read_with_length(stream)\n\u001b[1;32m    153\u001b[0m     \u001b[39mexcept\u001b[39;00m \u001b[39mEOFError\u001b[39;00m:\n\u001b[1;32m    154\u001b[0m         \u001b[39mreturn\u001b[39;00m\n",
      "File \u001b[0;32m~/Desktop/UNI/project-1-individual-umabarnes/.venv1/lib/python3.12/site-packages/pyspark/serializers.py:174\u001b[0m, in \u001b[0;36mFramedSerializer._read_with_length\u001b[0;34m(self, stream)\u001b[0m\n\u001b[1;32m    172\u001b[0m \u001b[39mif\u001b[39;00m \u001b[39mlen\u001b[39m(obj) \u001b[39m<\u001b[39m length:\n\u001b[1;32m    173\u001b[0m     \u001b[39mraise\u001b[39;00m \u001b[39mEOFError\u001b[39;00m\n\u001b[0;32m--> 174\u001b[0m \u001b[39mreturn\u001b[39;00m \u001b[39mself\u001b[39;49m\u001b[39m.\u001b[39;49mloads(obj)\n",
      "File \u001b[0;32m~/Desktop/UNI/project-1-individual-umabarnes/.venv1/lib/python3.12/site-packages/pyspark/serializers.py:472\u001b[0m, in \u001b[0;36mCloudPickleSerializer.loads\u001b[0;34m(self, obj, encoding)\u001b[0m\n\u001b[1;32m    471\u001b[0m \u001b[39mdef\u001b[39;00m \u001b[39mloads\u001b[39m(\u001b[39mself\u001b[39m, obj, encoding\u001b[39m=\u001b[39m\u001b[39m\"\u001b[39m\u001b[39mbytes\u001b[39m\u001b[39m\"\u001b[39m):\n\u001b[0;32m--> 472\u001b[0m     \u001b[39mreturn\u001b[39;00m cloudpickle\u001b[39m.\u001b[39;49mloads(obj, encoding\u001b[39m=\u001b[39;49mencoding)\n",
      "File \u001b[0;32m~/Desktop/UNI/project-1-individual-umabarnes/.venv1/lib/python3.12/site-packages/pyspark/sql/types.py:2194\u001b[0m, in \u001b[0;36m_create_row_inbound_converter.<locals>.<lambda>\u001b[0;34m(*a)\u001b[0m\n\u001b[1;32m   2193\u001b[0m \u001b[39mdef\u001b[39;00m \u001b[39m_create_row_inbound_converter\u001b[39m(dataType: DataType) \u001b[39m-\u001b[39m\u001b[39m>\u001b[39m Callable:\n\u001b[0;32m-> 2194\u001b[0m     \u001b[39mreturn\u001b[39;00m \u001b[39mlambda\u001b[39;00m \u001b[39m*\u001b[39ma: dataType\u001b[39m.\u001b[39;49mfromInternal(a)\n",
      "File \u001b[0;32m~/Desktop/UNI/project-1-individual-umabarnes/.venv1/lib/python3.12/site-packages/pyspark/sql/types.py:1088\u001b[0m, in \u001b[0;36mStructType.fromInternal\u001b[0;34m(self, obj)\u001b[0m\n\u001b[1;32m   1084\u001b[0m values: Union[Tuple, List]\n\u001b[1;32m   1085\u001b[0m \u001b[39mif\u001b[39;00m \u001b[39mself\u001b[39m\u001b[39m.\u001b[39m_needSerializeAnyField:\n\u001b[1;32m   1086\u001b[0m     \u001b[39m# Only calling fromInternal function for fields that need conversion\u001b[39;00m\n\u001b[1;32m   1087\u001b[0m     values \u001b[39m=\u001b[39m [\n\u001b[0;32m-> 1088\u001b[0m         f\u001b[39m.\u001b[39;49mfromInternal(v) \u001b[39mif\u001b[39;00m c \u001b[39melse\u001b[39;00m v\n\u001b[1;32m   1089\u001b[0m         \u001b[39mfor\u001b[39;00m f, v, c \u001b[39min\u001b[39;00m \u001b[39mzip\u001b[39m(\u001b[39mself\u001b[39m\u001b[39m.\u001b[39mfields, obj, \u001b[39mself\u001b[39m\u001b[39m.\u001b[39m_needConversion)\n\u001b[1;32m   1090\u001b[0m     ]\n\u001b[1;32m   1091\u001b[0m \u001b[39melse\u001b[39;00m:\n\u001b[1;32m   1092\u001b[0m     values \u001b[39m=\u001b[39m obj\n",
      "File \u001b[0;32m~/Desktop/UNI/project-1-individual-umabarnes/.venv1/lib/python3.12/site-packages/pyspark/sql/types.py:720\u001b[0m, in \u001b[0;36mStructField.fromInternal\u001b[0;34m(self, obj)\u001b[0m\n\u001b[1;32m    719\u001b[0m \u001b[39mdef\u001b[39;00m \u001b[39mfromInternal\u001b[39m(\u001b[39mself\u001b[39m, obj: T) \u001b[39m-\u001b[39m\u001b[39m>\u001b[39m T:\n\u001b[0;32m--> 720\u001b[0m     \u001b[39mreturn\u001b[39;00m \u001b[39mself\u001b[39;49m\u001b[39m.\u001b[39;49mdataType\u001b[39m.\u001b[39;49mfromInternal(obj)\n",
      "File \u001b[0;32m~/Desktop/UNI/project-1-individual-umabarnes/.venv1/lib/python3.12/site-packages/pyspark/sql/types.py:303\u001b[0m, in \u001b[0;36mTimestampNTZType.fromInternal\u001b[0;34m(self, ts)\u001b[0m\n\u001b[1;32m    300\u001b[0m \u001b[39mdef\u001b[39;00m \u001b[39mfromInternal\u001b[39m(\u001b[39mself\u001b[39m, ts: \u001b[39mint\u001b[39m) \u001b[39m-\u001b[39m\u001b[39m>\u001b[39m datetime\u001b[39m.\u001b[39mdatetime:\n\u001b[1;32m    301\u001b[0m     \u001b[39mif\u001b[39;00m ts \u001b[39mis\u001b[39;00m \u001b[39mnot\u001b[39;00m \u001b[39mNone\u001b[39;00m:\n\u001b[1;32m    302\u001b[0m         \u001b[39m# using int to avoid precision loss in float\u001b[39;00m\n\u001b[0;32m--> 303\u001b[0m         \u001b[39mreturn\u001b[39;00m datetime\u001b[39m.\u001b[39;49mdatetime\u001b[39m.\u001b[39;49mutcfromtimestamp(ts \u001b[39m/\u001b[39;49m\u001b[39m/\u001b[39;49m \u001b[39m1000000\u001b[39;49m)\u001b[39m.\u001b[39mreplace(\n\u001b[1;32m    304\u001b[0m             microsecond\u001b[39m=\u001b[39mts \u001b[39m%\u001b[39m \u001b[39m1000000\u001b[39m\n\u001b[1;32m    305\u001b[0m         )\n",
      "\u001b[0;31mKeyboardInterrupt\u001b[0m: "
     ]
    }
   ],
   "source": [
    "import pandas as pd\n",
    "sdf_jul = spark.read.parquet('../data/tlc_data/2023-07.parquet')\n",
    "df = sdf_jul.sample(SAMPLE_SIZE, seed =0).toPandas()\n",
    "\n",
    "df.to_csv('../data/sample_data/sample_data.csv', index=False)\n",
    "df.to_parquet('../data/sample_data/sample_data.parquet')\n"
   ]
  },
  {
   "cell_type": "code",
   "execution_count": 7,
   "metadata": {},
   "outputs": [],
   "source": [
    "sdf_jul = spark.read.parquet('../data/tlc_data/2023-07.parquet')\n",
    "sdf_aug = spark.read.parquet('../data/tlc_data/2023-08.parquet')\n",
    "sdf_sep = spark.read.parquet('../data/tlc_data/2023-09.parquet')\n",
    "sdf_oct = spark.read.parquet('../data/tlc_data/2023-10.parquet')\n",
    "sdf_nov = spark.read.parquet('../data/tlc_data/2023-11.parquet')\n",
    "sdf_dec = spark.read.parquet('../data/tlc_data/2023-12.parquet')"
   ]
  },
  {
   "cell_type": "code",
   "execution_count": 8,
   "metadata": {},
   "outputs": [
    {
     "name": "stderr",
     "output_type": "stream",
     "text": [
      "                                                                                \r"
     ]
    },
    {
     "data": {
      "text/html": [
       "<table border='1'>\n",
       "<tr><th>hvfhs_license_num</th><th>dispatching_base_num</th><th>originating_base_num</th><th>request_datetime</th><th>on_scene_datetime</th><th>pickup_datetime</th><th>dropoff_datetime</th><th>PULocationID</th><th>DOLocationID</th><th>trip_miles</th><th>trip_time</th><th>base_passenger_fare</th><th>tolls</th><th>bcf</th><th>sales_tax</th><th>congestion_surcharge</th><th>airport_fee</th><th>tips</th><th>driver_pay</th><th>shared_request_flag</th><th>shared_match_flag</th><th>access_a_ride_flag</th><th>wav_request_flag</th><th>wav_match_flag</th></tr>\n",
       "<tr><td>HV0003</td><td>B03404</td><td>B03404</td><td>2023-07-01 00:04:21</td><td>2023-07-01 00:07:59</td><td>2023-07-01 00:08:30</td><td>2023-07-01 00:33:33</td><td>72</td><td>26</td><td>4.79</td><td>1503</td><td>22.34</td><td>0.0</td><td>0.61</td><td>1.98</td><td>0.0</td><td>0.0</td><td>0.0</td><td>20.42</td><td>N</td><td>N</td><td> </td><td>N</td><td>N</td></tr>\n",
       "<tr><td>HV0003</td><td>B03404</td><td>B03404</td><td>2023-07-01 00:40:25</td><td>2023-07-01 00:40:35</td><td>2023-07-01 00:42:10</td><td>2023-07-01 01:08:06</td><td>26</td><td>37</td><td>6.4</td><td>1556</td><td>25.83</td><td>0.0</td><td>0.71</td><td>2.29</td><td>0.0</td><td>0.0</td><td>0.0</td><td>23.03</td><td>N</td><td>N</td><td> </td><td>N</td><td>N</td></tr>\n",
       "<tr><td>HV0003</td><td>B03404</td><td>B03404</td><td>2023-07-01 00:20:31</td><td>2023-07-01 00:24:05</td><td>2023-07-01 00:25:00</td><td>2023-07-01 00:42:38</td><td>263</td><td>232</td><td>5.71</td><td>1058</td><td>26.51</td><td>0.0</td><td>0.73</td><td>2.35</td><td>2.75</td><td>0.0</td><td>6.46</td><td>18.61</td><td>N</td><td>N</td><td> </td><td>N</td><td>N</td></tr>\n",
       "<tr><td>HV0003</td><td>B03404</td><td>B03404</td><td>2023-07-01 00:42:50</td><td>2023-07-01 00:47:37</td><td>2023-07-01 00:48:57</td><td>2023-07-01 00:57:04</td><td>79</td><td>233</td><td>1.75</td><td>487</td><td>16.32</td><td>0.0</td><td>0.45</td><td>1.45</td><td>2.75</td><td>0.0</td><td>0.0</td><td>8.13</td><td>N</td><td>N</td><td> </td><td>N</td><td>N</td></tr>\n",
       "<tr><td>HV0005</td><td>B03406</td><td>NULL</td><td>2023-07-01 00:00:17</td><td>NULL</td><td>2023-07-01 00:05:35</td><td>2023-07-01 00:36:07</td><td>88</td><td>237</td><td>7.218</td><td>1832</td><td>83.97</td><td>0.0</td><td>2.31</td><td>7.45</td><td>2.75</td><td>0.0</td><td>0.0</td><td>59.05</td><td>N</td><td>N</td><td>N</td><td>N</td><td>N</td></tr>\n",
       "</table>\n"
      ],
      "text/plain": [
       "+-----------------+--------------------+--------------------+-------------------+-------------------+-------------------+-------------------+------------+------------+----------+---------+-------------------+-----+----+---------+--------------------+-----------+----+----------+-------------------+-----------------+------------------+----------------+--------------+\n",
       "|hvfhs_license_num|dispatching_base_num|originating_base_num|   request_datetime|  on_scene_datetime|    pickup_datetime|   dropoff_datetime|PULocationID|DOLocationID|trip_miles|trip_time|base_passenger_fare|tolls| bcf|sales_tax|congestion_surcharge|airport_fee|tips|driver_pay|shared_request_flag|shared_match_flag|access_a_ride_flag|wav_request_flag|wav_match_flag|\n",
       "+-----------------+--------------------+--------------------+-------------------+-------------------+-------------------+-------------------+------------+------------+----------+---------+-------------------+-----+----+---------+--------------------+-----------+----+----------+-------------------+-----------------+------------------+----------------+--------------+\n",
       "|           HV0003|              B03404|              B03404|2023-07-01 00:04:21|2023-07-01 00:07:59|2023-07-01 00:08:30|2023-07-01 00:33:33|          72|          26|      4.79|     1503|              22.34|  0.0|0.61|     1.98|                 0.0|        0.0| 0.0|     20.42|                  N|                N|                  |               N|             N|\n",
       "|           HV0003|              B03404|              B03404|2023-07-01 00:40:25|2023-07-01 00:40:35|2023-07-01 00:42:10|2023-07-01 01:08:06|          26|          37|       6.4|     1556|              25.83|  0.0|0.71|     2.29|                 0.0|        0.0| 0.0|     23.03|                  N|                N|                  |               N|             N|\n",
       "|           HV0003|              B03404|              B03404|2023-07-01 00:20:31|2023-07-01 00:24:05|2023-07-01 00:25:00|2023-07-01 00:42:38|         263|         232|      5.71|     1058|              26.51|  0.0|0.73|     2.35|                2.75|        0.0|6.46|     18.61|                  N|                N|                  |               N|             N|\n",
       "|           HV0003|              B03404|              B03404|2023-07-01 00:42:50|2023-07-01 00:47:37|2023-07-01 00:48:57|2023-07-01 00:57:04|          79|         233|      1.75|      487|              16.32|  0.0|0.45|     1.45|                2.75|        0.0| 0.0|      8.13|                  N|                N|                  |               N|             N|\n",
       "|           HV0005|              B03406|                NULL|2023-07-01 00:00:17|               NULL|2023-07-01 00:05:35|2023-07-01 00:36:07|          88|         237|     7.218|     1832|              83.97|  0.0|2.31|     7.45|                2.75|        0.0| 0.0|     59.05|                  N|                N|                 N|               N|             N|\n",
       "+-----------------+--------------------+--------------------+-------------------+-------------------+-------------------+-------------------+------------+------------+----------+---------+-------------------+-----+----+---------+--------------------+-----------+----+----------+-------------------+-----------------+------------------+----------------+--------------+"
      ]
     },
     "execution_count": 8,
     "metadata": {},
     "output_type": "execute_result"
    }
   ],
   "source": [
    "sdf_jul.limit(5)"
   ]
  },
  {
   "cell_type": "code",
   "execution_count": 9,
   "metadata": {},
   "outputs": [
    {
     "name": "stdout",
     "output_type": "stream",
     "text": [
      "root\n",
      " |-- hvfhs_license_num: string (nullable = true)\n",
      " |-- dispatching_base_num: string (nullable = true)\n",
      " |-- originating_base_num: string (nullable = true)\n",
      " |-- request_datetime: timestamp_ntz (nullable = true)\n",
      " |-- on_scene_datetime: timestamp_ntz (nullable = true)\n",
      " |-- pickup_datetime: timestamp_ntz (nullable = true)\n",
      " |-- dropoff_datetime: timestamp_ntz (nullable = true)\n",
      " |-- PULocationID: integer (nullable = true)\n",
      " |-- DOLocationID: integer (nullable = true)\n",
      " |-- trip_miles: double (nullable = true)\n",
      " |-- trip_time: long (nullable = true)\n",
      " |-- base_passenger_fare: double (nullable = true)\n",
      " |-- tolls: double (nullable = true)\n",
      " |-- bcf: double (nullable = true)\n",
      " |-- sales_tax: double (nullable = true)\n",
      " |-- congestion_surcharge: double (nullable = true)\n",
      " |-- airport_fee: double (nullable = true)\n",
      " |-- tips: double (nullable = true)\n",
      " |-- driver_pay: double (nullable = true)\n",
      " |-- shared_request_flag: string (nullable = true)\n",
      " |-- shared_match_flag: string (nullable = true)\n",
      " |-- access_a_ride_flag: string (nullable = true)\n",
      " |-- wav_request_flag: string (nullable = true)\n",
      " |-- wav_match_flag: string (nullable = true)\n",
      "\n"
     ]
    }
   ],
   "source": [
    "sdf_jul.printSchema()"
   ]
  },
  {
   "cell_type": "code",
   "execution_count": 10,
   "metadata": {},
   "outputs": [
    {
     "name": "stdout",
     "output_type": "stream",
     "text": [
      "root\n",
      " |-- hvfhs_license_num: string (nullable = true)\n",
      " |-- dispatching_base_num: string (nullable = true)\n",
      " |-- originating_base_num: string (nullable = true)\n",
      " |-- request_datetime: timestamp_ntz (nullable = true)\n",
      " |-- on_scene_datetime: timestamp_ntz (nullable = true)\n",
      " |-- pickup_datetime: timestamp_ntz (nullable = true)\n",
      " |-- dropoff_datetime: timestamp_ntz (nullable = true)\n",
      " |-- PULocationID: integer (nullable = true)\n",
      " |-- DOLocationID: integer (nullable = true)\n",
      " |-- trip_miles: double (nullable = true)\n",
      " |-- trip_time: long (nullable = true)\n",
      " |-- base_passenger_fare: double (nullable = true)\n",
      " |-- tolls: double (nullable = true)\n",
      " |-- bcf: double (nullable = true)\n",
      " |-- sales_tax: double (nullable = true)\n",
      " |-- congestion_surcharge: double (nullable = true)\n",
      " |-- airport_fee: double (nullable = true)\n",
      " |-- tips: double (nullable = true)\n",
      " |-- driver_pay: double (nullable = true)\n",
      " |-- shared_request_flag: string (nullable = true)\n",
      " |-- shared_match_flag: string (nullable = true)\n",
      " |-- access_a_ride_flag: string (nullable = true)\n",
      " |-- wav_request_flag: string (nullable = true)\n",
      " |-- wav_match_flag: string (nullable = true)\n",
      "\n"
     ]
    }
   ],
   "source": [
    "sdf_aug.printSchema()"
   ]
  },
  {
   "cell_type": "code",
   "execution_count": 11,
   "metadata": {},
   "outputs": [
    {
     "name": "stdout",
     "output_type": "stream",
     "text": [
      "root\n",
      " |-- hvfhs_license_num: string (nullable = true)\n",
      " |-- dispatching_base_num: string (nullable = true)\n",
      " |-- originating_base_num: string (nullable = true)\n",
      " |-- request_datetime: timestamp_ntz (nullable = true)\n",
      " |-- on_scene_datetime: timestamp_ntz (nullable = true)\n",
      " |-- pickup_datetime: timestamp_ntz (nullable = true)\n",
      " |-- dropoff_datetime: timestamp_ntz (nullable = true)\n",
      " |-- PULocationID: integer (nullable = true)\n",
      " |-- DOLocationID: integer (nullable = true)\n",
      " |-- trip_miles: double (nullable = true)\n",
      " |-- trip_time: long (nullable = true)\n",
      " |-- base_passenger_fare: double (nullable = true)\n",
      " |-- tolls: double (nullable = true)\n",
      " |-- bcf: double (nullable = true)\n",
      " |-- sales_tax: double (nullable = true)\n",
      " |-- congestion_surcharge: double (nullable = true)\n",
      " |-- airport_fee: double (nullable = true)\n",
      " |-- tips: double (nullable = true)\n",
      " |-- driver_pay: double (nullable = true)\n",
      " |-- shared_request_flag: string (nullable = true)\n",
      " |-- shared_match_flag: string (nullable = true)\n",
      " |-- access_a_ride_flag: string (nullable = true)\n",
      " |-- wav_request_flag: string (nullable = true)\n",
      " |-- wav_match_flag: string (nullable = true)\n",
      "\n"
     ]
    }
   ],
   "source": [
    "sdf_sep.printSchema()"
   ]
  },
  {
   "cell_type": "code",
   "execution_count": 12,
   "metadata": {},
   "outputs": [
    {
     "name": "stdout",
     "output_type": "stream",
     "text": [
      "root\n",
      " |-- hvfhs_license_num: string (nullable = true)\n",
      " |-- dispatching_base_num: string (nullable = true)\n",
      " |-- originating_base_num: string (nullable = true)\n",
      " |-- request_datetime: timestamp_ntz (nullable = true)\n",
      " |-- on_scene_datetime: timestamp_ntz (nullable = true)\n",
      " |-- pickup_datetime: timestamp_ntz (nullable = true)\n",
      " |-- dropoff_datetime: timestamp_ntz (nullable = true)\n",
      " |-- pulocationid: integer (nullable = true)\n",
      " |-- dolocationid: integer (nullable = true)\n",
      " |-- trip_miles: double (nullable = true)\n",
      " |-- trip_time: long (nullable = true)\n",
      " |-- base_passenger_fare: double (nullable = true)\n",
      " |-- tolls: double (nullable = true)\n",
      " |-- bcf: double (nullable = true)\n",
      " |-- sales_tax: double (nullable = true)\n",
      " |-- congestion_surcharge: double (nullable = true)\n",
      " |-- airport_fee: double (nullable = true)\n",
      " |-- tips: double (nullable = true)\n",
      " |-- driver_pay: double (nullable = true)\n",
      " |-- shared_request_flag: string (nullable = true)\n",
      " |-- shared_match_flag: string (nullable = true)\n",
      " |-- access_a_ride_flag: string (nullable = true)\n",
      " |-- wav_request_flag: string (nullable = true)\n",
      " |-- wav_match_flag: string (nullable = true)\n",
      "\n"
     ]
    }
   ],
   "source": [
    "# now, we want to ensure everything has consistent casing to make our lives easier\n",
    "consistent_col_casing = [F.col(col_name).alias(col_name.lower()) for col_name in sdf_jul.columns]\n",
    "sdf_jul = sdf_jul.select(*consistent_col_casing)\n",
    "sdf_aug = sdf_aug.select(*consistent_col_casing)\n",
    "sdf_sep = sdf_sep.select(*consistent_col_casing)\n",
    "sdf_oct = sdf_oct.select(*consistent_col_casing)\n",
    "sdf_nov = sdf_nov.select(*consistent_col_casing)\n",
    "sdf_dec = sdf_dec.select(*consistent_col_casing)\n",
    "\n",
    "sdf_jul.printSchema()\n",
    "sdf_schema = sdf_jul.schema\n"
   ]
  },
  {
   "cell_type": "code",
   "execution_count": 13,
   "metadata": {},
   "outputs": [],
   "source": [
    "#from pyspark.sql import functions as F\n",
    "#\n",
    "## List of months\n",
    "#months = ['01', '02', '03', '04', '05', '06', '07', '08', '09', '10', '11', '12']\n",
    "#base_path = '../data/tlc_data/'\n",
    "#\n",
    "#for month in months:\n",
    "#    # Construct file path for the month\n",
    "#    path = f'{base_path}2023-{month}.parquet'\n",
    "#    \n",
    "#    # Read the DataFrame\n",
    "#    sdf = spark.read.parquet(path)\n",
    "#    \n",
    "#    # Normalize column names to lowercase\n",
    "#    consistent_col_casing = [F.col(col_name).alias(col_name.lower()) for col_name in sdf.columns]\n",
    "#    sdf = sdf.select(*consistent_col_casing)\n",
    "#\n",
    "#    var_name = f'sdf_{month}'\n",
    "#\n",
    "#    exec(f'{var_name} = sdf')\n",
    "#\n"
   ]
  },
  {
   "cell_type": "code",
   "execution_count": 14,
   "metadata": {},
   "outputs": [],
   "source": [
    "sdf_malformed = spark.read.parquet('../data/tlc_data/2023-07.parquet')\n",
    "\n",
    "# select all columns from the existing malformed dataframe and cast it to the required schema\n",
    "sdf_malformed = sdf_malformed \\\n",
    "    .select([F.col(c).cast(sdf_schema[i].dataType) for i, c in enumerate(sdf_malformed.columns)])"
   ]
  },
  {
   "cell_type": "code",
   "execution_count": 15,
   "metadata": {},
   "outputs": [
    {
     "name": "stderr",
     "output_type": "stream",
     "text": [
      "ERROR:root:KeyboardInterrupt while sending command.                 (0 + 1) / 1]\n",
      "Traceback (most recent call last):\n",
      "  File \"/Users/umabarnes/Desktop/UNI/project-1-individual-umabarnes/.venv1/lib/python3.12/site-packages/py4j/java_gateway.py\", line 1038, in send_command\n",
      "    response = connection.send_command(command)\n",
      "               ^^^^^^^^^^^^^^^^^^^^^^^^^^^^^^^^\n",
      "  File \"/Users/umabarnes/Desktop/UNI/project-1-individual-umabarnes/.venv1/lib/python3.12/site-packages/py4j/clientserver.py\", line 511, in send_command\n",
      "    answer = smart_decode(self.stream.readline()[:-1])\n",
      "                          ^^^^^^^^^^^^^^^^^^^^^^\n",
      "  File \"/opt/homebrew/Cellar/python@3.12/3.12.4/Frameworks/Python.framework/Versions/3.12/lib/python3.12/socket.py\", line 708, in readinto\n",
      "    return self._sock.recv_into(b)\n",
      "           ^^^^^^^^^^^^^^^^^^^^^^^\n",
      "KeyboardInterrupt\n"
     ]
    },
    {
     "ename": "KeyboardInterrupt",
     "evalue": "",
     "output_type": "error",
     "traceback": [
      "\u001b[0;31m---------------------------------------------------------------------------\u001b[0m",
      "\u001b[0;31mKeyboardInterrupt\u001b[0m                         Traceback (most recent call last)",
      "Cell \u001b[0;32mIn[15], line 14\u001b[0m\n\u001b[1;32m      3\u001b[0m output_path \u001b[38;5;241m=\u001b[39m \u001b[38;5;124mf\u001b[39m\u001b[38;5;124m'\u001b[39m\u001b[38;5;124m../data/tlc_data/raw/2023-\u001b[39m\u001b[38;5;132;01m{\u001b[39;00m\u001b[38;5;28mstr\u001b[39m(month)\u001b[38;5;241m.\u001b[39mzfill(\u001b[38;5;241m2\u001b[39m)\u001b[38;5;132;01m}\u001b[39;00m\u001b[38;5;124m.parquet\u001b[39m\u001b[38;5;124m'\u001b[39m\n\u001b[1;32m      5\u001b[0m \u001b[38;5;66;03m# read and write in one single statement, not great but it is what it is\u001b[39;00m\n\u001b[1;32m      6\u001b[0m \u001b[38;5;66;03m# do not copy this, this is not best practice\u001b[39;00m\n\u001b[1;32m      7\u001b[0m sdf \u001b[38;5;241m=\u001b[39m \u001b[43mspark\u001b[49m\u001b[43m \u001b[49m\u001b[43m\\\u001b[49m\n\u001b[1;32m      8\u001b[0m \u001b[43m    \u001b[49m\u001b[38;5;241;43m.\u001b[39;49m\u001b[43mread\u001b[49m\u001b[43m \u001b[49m\u001b[43m\\\u001b[49m\n\u001b[1;32m      9\u001b[0m \u001b[43m    \u001b[49m\u001b[38;5;241;43m.\u001b[39;49m\u001b[43mschema\u001b[49m\u001b[43m(\u001b[49m\u001b[43msdf_schema\u001b[49m\u001b[43m)\u001b[49m\u001b[43m \u001b[49m\u001b[43m\\\u001b[49m\n\u001b[1;32m     10\u001b[0m \u001b[43m    \u001b[49m\u001b[38;5;241;43m.\u001b[39;49m\u001b[43mparquet\u001b[49m\u001b[43m(\u001b[49m\u001b[43minput_path\u001b[49m\u001b[43m)\u001b[49m\u001b[43m \u001b[49m\u001b[43m\\\u001b[49m\n\u001b[1;32m     11\u001b[0m \u001b[43m    \u001b[49m\u001b[38;5;241;43m.\u001b[39;49m\u001b[43mcoalesce\u001b[49m\u001b[43m(\u001b[49m\u001b[38;5;241;43m1\u001b[39;49m\u001b[43m)\u001b[49m\u001b[43m \u001b[49m\u001b[43m\\\u001b[49m\n\u001b[1;32m     12\u001b[0m \u001b[43m    \u001b[49m\u001b[38;5;241;43m.\u001b[39;49m\u001b[43mwrite\u001b[49m\u001b[43m \u001b[49m\u001b[43m\\\u001b[49m\n\u001b[1;32m     13\u001b[0m \u001b[43m    \u001b[49m\u001b[38;5;241;43m.\u001b[39;49m\u001b[43mmode\u001b[49m\u001b[43m(\u001b[49m\u001b[38;5;124;43m'\u001b[39;49m\u001b[38;5;124;43moverwrite\u001b[39;49m\u001b[38;5;124;43m'\u001b[39;49m\u001b[43m)\u001b[49m\u001b[43m \u001b[49m\u001b[43m\\\u001b[49m\n\u001b[0;32m---> 14\u001b[0m \u001b[43m    \u001b[49m\u001b[38;5;241;43m.\u001b[39;49m\u001b[43mparquet\u001b[49m\u001b[43m(\u001b[49m\u001b[43moutput_path\u001b[49m\u001b[43m)\u001b[49m\n",
      "File \u001b[0;32m~/Desktop/UNI/project-1-individual-umabarnes/.venv1/lib/python3.12/site-packages/pyspark/sql/readwriter.py:1721\u001b[0m, in \u001b[0;36mDataFrameWriter.parquet\u001b[0;34m(self, path, mode, partitionBy, compression)\u001b[0m\n\u001b[1;32m   1719\u001b[0m     \u001b[39mself\u001b[39m\u001b[39m.\u001b[39mpartitionBy(partitionBy)\n\u001b[1;32m   1720\u001b[0m \u001b[39mself\u001b[39m\u001b[39m.\u001b[39m_set_opts(compression\u001b[39m=\u001b[39mcompression)\n\u001b[0;32m-> 1721\u001b[0m \u001b[39mself\u001b[39;49m\u001b[39m.\u001b[39;49m_jwrite\u001b[39m.\u001b[39;49mparquet(path)\n",
      "File \u001b[0;32m~/Desktop/UNI/project-1-individual-umabarnes/.venv1/lib/python3.12/site-packages/py4j/java_gateway.py:1321\u001b[0m, in \u001b[0;36mJavaMember.__call__\u001b[0;34m(self, *args)\u001b[0m\n\u001b[1;32m   1314\u001b[0m args_command, temp_args \u001b[39m=\u001b[39m \u001b[39mself\u001b[39m\u001b[39m.\u001b[39m_build_args(\u001b[39m*\u001b[39margs)\n\u001b[1;32m   1316\u001b[0m command \u001b[39m=\u001b[39m proto\u001b[39m.\u001b[39mCALL_COMMAND_NAME \u001b[39m+\u001b[39m\\\n\u001b[1;32m   1317\u001b[0m     \u001b[39mself\u001b[39m\u001b[39m.\u001b[39mcommand_header \u001b[39m+\u001b[39m\\\n\u001b[1;32m   1318\u001b[0m     args_command \u001b[39m+\u001b[39m\\\n\u001b[1;32m   1319\u001b[0m     proto\u001b[39m.\u001b[39mEND_COMMAND_PART\n\u001b[0;32m-> 1321\u001b[0m answer \u001b[39m=\u001b[39m \u001b[39mself\u001b[39;49m\u001b[39m.\u001b[39;49mgateway_client\u001b[39m.\u001b[39;49msend_command(command)\n\u001b[1;32m   1322\u001b[0m return_value \u001b[39m=\u001b[39m get_return_value(\n\u001b[1;32m   1323\u001b[0m     answer, \u001b[39mself\u001b[39m\u001b[39m.\u001b[39mgateway_client, \u001b[39mself\u001b[39m\u001b[39m.\u001b[39mtarget_id, \u001b[39mself\u001b[39m\u001b[39m.\u001b[39mname)\n\u001b[1;32m   1325\u001b[0m \u001b[39mfor\u001b[39;00m temp_arg \u001b[39min\u001b[39;00m temp_args:\n",
      "File \u001b[0;32m~/Desktop/UNI/project-1-individual-umabarnes/.venv1/lib/python3.12/site-packages/py4j/java_gateway.py:1038\u001b[0m, in \u001b[0;36mGatewayClient.send_command\u001b[0;34m(self, command, retry, binary)\u001b[0m\n\u001b[1;32m   1036\u001b[0m connection \u001b[39m=\u001b[39m \u001b[39mself\u001b[39m\u001b[39m.\u001b[39m_get_connection()\n\u001b[1;32m   1037\u001b[0m \u001b[39mtry\u001b[39;00m:\n\u001b[0;32m-> 1038\u001b[0m     response \u001b[39m=\u001b[39m connection\u001b[39m.\u001b[39;49msend_command(command)\n\u001b[1;32m   1039\u001b[0m     \u001b[39mif\u001b[39;00m binary:\n\u001b[1;32m   1040\u001b[0m         \u001b[39mreturn\u001b[39;00m response, \u001b[39mself\u001b[39m\u001b[39m.\u001b[39m_create_connection_guard(connection)\n",
      "File \u001b[0;32m~/Desktop/UNI/project-1-individual-umabarnes/.venv1/lib/python3.12/site-packages/py4j/clientserver.py:511\u001b[0m, in \u001b[0;36mClientServerConnection.send_command\u001b[0;34m(self, command)\u001b[0m\n\u001b[1;32m    509\u001b[0m \u001b[39mtry\u001b[39;00m:\n\u001b[1;32m    510\u001b[0m     \u001b[39mwhile\u001b[39;00m \u001b[39mTrue\u001b[39;00m:\n\u001b[0;32m--> 511\u001b[0m         answer \u001b[39m=\u001b[39m smart_decode(\u001b[39mself\u001b[39;49m\u001b[39m.\u001b[39;49mstream\u001b[39m.\u001b[39;49mreadline()[:\u001b[39m-\u001b[39m\u001b[39m1\u001b[39m])\n\u001b[1;32m    512\u001b[0m         logger\u001b[39m.\u001b[39mdebug(\u001b[39m\"\u001b[39m\u001b[39mAnswer received: \u001b[39m\u001b[39m{0}\u001b[39;00m\u001b[39m\"\u001b[39m\u001b[39m.\u001b[39mformat(answer))\n\u001b[1;32m    513\u001b[0m         \u001b[39m# Happens when a the other end is dead. There might be an empty\u001b[39;00m\n\u001b[1;32m    514\u001b[0m         \u001b[39m# answer before the socket raises an error.\u001b[39;00m\n",
      "File \u001b[0;32m/opt/homebrew/Cellar/python@3.12/3.12.4/Frameworks/Python.framework/Versions/3.12/lib/python3.12/socket.py:708\u001b[0m, in \u001b[0;36mSocketIO.readinto\u001b[0;34m(self, b)\u001b[0m\n\u001b[1;32m    706\u001b[0m \u001b[39mwhile\u001b[39;00m \u001b[39mTrue\u001b[39;00m:\n\u001b[1;32m    707\u001b[0m     \u001b[39mtry\u001b[39;00m:\n\u001b[0;32m--> 708\u001b[0m         \u001b[39mreturn\u001b[39;00m \u001b[39mself\u001b[39;49m\u001b[39m.\u001b[39;49m_sock\u001b[39m.\u001b[39;49mrecv_into(b)\n\u001b[1;32m    709\u001b[0m     \u001b[39mexcept\u001b[39;00m timeout:\n\u001b[1;32m    710\u001b[0m         \u001b[39mself\u001b[39m\u001b[39m.\u001b[39m_timeout_occurred \u001b[39m=\u001b[39m \u001b[39mTrue\u001b[39;00m\n",
      "\u001b[0;31mKeyboardInterrupt\u001b[0m: "
     ]
    }
   ],
   "source": [
    "for month in range(7, 13):\n",
    "    input_path = f'../data/tlc_data/2023-{str(month).zfill(2)}.parquet'\n",
    "    output_path = f'../data/tlc_data/raw/2023-{str(month).zfill(2)}.parquet'\n",
    "    \n",
    "    # read and write in one single statement, not great but it is what it is\n",
    "    # do not copy this, this is not best practice\n",
    "    sdf = spark \\\n",
    "        .read \\\n",
    "        .schema(sdf_schema) \\\n",
    "        .parquet(input_path) \\\n",
    "        .coalesce(1) \\\n",
    "        .write \\\n",
    "        .mode('overwrite') \\\n",
    "        .parquet(output_path)"
   ]
  },
  {
   "cell_type": "code",
   "execution_count": 16,
   "metadata": {},
   "outputs": [
    {
     "name": "stderr",
     "output_type": "stream",
     "text": [
      "                                                                                \r"
     ]
    },
    {
     "data": {
      "text/plain": [
       "98145150"
      ]
     },
     "execution_count": 16,
     "metadata": {},
     "output_type": "execute_result"
    }
   ],
   "source": [
    "sdf = spark.read.schema(sdf_schema).parquet('../data/tlc_data/raw/*')\n",
    "#sdf.show(1, vertical=True, truncate=100)\n",
    "sdf.limit(10)\n",
    "sdf.count()\n"
   ]
  },
  {
   "cell_type": "code",
   "execution_count": 17,
   "metadata": {},
   "outputs": [
    {
     "name": "stdout",
     "output_type": "stream",
     "text": [
      "root\n",
      " |-- hvfhs_license_num: string (nullable = true)\n",
      " |-- dispatching_base_num: string (nullable = true)\n",
      " |-- originating_base_num: string (nullable = true)\n",
      " |-- request_datetime: timestamp_ntz (nullable = true)\n",
      " |-- on_scene_datetime: timestamp_ntz (nullable = true)\n",
      " |-- pickup_datetime: timestamp_ntz (nullable = true)\n",
      " |-- dropoff_datetime: timestamp_ntz (nullable = true)\n",
      " |-- pulocationid: integer (nullable = true)\n",
      " |-- dolocationid: integer (nullable = true)\n",
      " |-- trip_miles: double (nullable = true)\n",
      " |-- trip_time: long (nullable = true)\n",
      " |-- base_passenger_fare: double (nullable = true)\n",
      " |-- tolls: double (nullable = true)\n",
      " |-- bcf: double (nullable = true)\n",
      " |-- sales_tax: double (nullable = true)\n",
      " |-- congestion_surcharge: double (nullable = true)\n",
      " |-- airport_fee: double (nullable = true)\n",
      " |-- tips: double (nullable = true)\n",
      " |-- driver_pay: double (nullable = true)\n",
      " |-- shared_request_flag: string (nullable = true)\n",
      " |-- shared_match_flag: string (nullable = true)\n",
      " |-- access_a_ride_flag: string (nullable = true)\n",
      " |-- wav_request_flag: string (nullable = true)\n",
      " |-- wav_match_flag: string (nullable = true)\n",
      "\n"
     ]
    }
   ],
   "source": [
    "sdf.printSchema()"
   ]
  },
  {
   "cell_type": "code",
   "execution_count": 18,
   "metadata": {},
   "outputs": [
    {
     "data": {
      "text/html": [
       "<table border='1'>\n",
       "<tr><th>hvfhs_license_num</th><th>dispatching_base_num</th><th>originating_base_num</th><th>request_datetime</th><th>on_scene_datetime</th><th>pickup_datetime</th><th>dropoff_datetime</th><th>pulocationid</th><th>dolocationid</th><th>trip_miles</th><th>trip_time</th><th>base_passenger_fare</th><th>tolls</th><th>bcf</th><th>sales_tax</th><th>congestion_surcharge</th><th>airport_fee</th><th>tips</th><th>driver_pay</th><th>shared_request_flag</th><th>shared_match_flag</th><th>access_a_ride_flag</th><th>wav_request_flag</th><th>wav_match_flag</th></tr>\n",
       "<tr><td>HV0005</td><td>B03406</td><td>NULL</td><td>2023-08-01 00:08:07</td><td>NULL</td><td>2023-08-01 00:14:16</td><td>2023-08-01 00:30:04</td><td>95</td><td>130</td><td>4.181</td><td>948</td><td>15.58</td><td>0.0</td><td>0.33</td><td>1.08</td><td>0.0</td><td>0.0</td><td>0.0</td><td>14.53</td><td>N</td><td>N</td><td>N</td><td>N</td><td>N</td></tr>\n",
       "<tr><td>HV0005</td><td>B03406</td><td>NULL</td><td>2023-08-01 00:33:16</td><td>NULL</td><td>2023-08-01 00:37:57</td><td>2023-08-01 00:56:44</td><td>130</td><td>203</td><td>7.632</td><td>1127</td><td>25.79</td><td>0.0</td><td>0.71</td><td>2.29</td><td>0.0</td><td>0.0</td><td>0.0</td><td>20.78</td><td>N</td><td>N</td><td>N</td><td>N</td><td>N</td></tr>\n",
       "<tr><td>HV0003</td><td>B03404</td><td>B03404</td><td>2023-08-01 00:34:25</td><td>2023-08-01 00:36:23</td><td>2023-08-01 00:36:44</td><td>2023-08-01 00:49:11</td><td>161</td><td>68</td><td>2.78</td><td>747</td><td>33.73</td><td>0.0</td><td>0.93</td><td>2.99</td><td>2.75</td><td>0.0</td><td>0.0</td><td>18.77</td><td>N</td><td>N</td><td> </td><td>N</td><td>N</td></tr>\n",
       "<tr><td>HV0003</td><td>B03404</td><td>B03404</td><td>2023-08-01 00:09:21</td><td>2023-08-01 00:13:01</td><td>2023-08-01 00:13:08</td><td>2023-08-01 00:20:58</td><td>211</td><td>232</td><td>1.19</td><td>470</td><td>9.98</td><td>0.0</td><td>0.27</td><td>0.89</td><td>2.75</td><td>0.0</td><td>0.0</td><td>9.13</td><td>N</td><td>N</td><td> </td><td>N</td><td>Y</td></tr>\n",
       "<tr><td>HV0003</td><td>B03404</td><td>B03404</td><td>2023-08-01 00:25:44</td><td>2023-08-01 00:30:37</td><td>2023-08-01 00:31:20</td><td>2023-08-01 00:46:05</td><td>148</td><td>48</td><td>3.34</td><td>885</td><td>19.85</td><td>0.0</td><td>0.55</td><td>1.76</td><td>2.75</td><td>0.0</td><td>0.0</td><td>16.7</td><td>N</td><td>N</td><td> </td><td>N</td><td>Y</td></tr>\n",
       "<tr><td>HV0003</td><td>B03404</td><td>B03404</td><td>2023-08-01 00:49:58</td><td>2023-08-01 00:51:25</td><td>2023-08-01 00:55:34</td><td>2023-08-01 01:04:30</td><td>68</td><td>113</td><td>1.21</td><td>536</td><td>10.05</td><td>0.0</td><td>0.28</td><td>0.89</td><td>2.75</td><td>0.0</td><td>0.0</td><td>9.78</td><td>N</td><td>N</td><td> </td><td>N</td><td>Y</td></tr>\n",
       "<tr><td>HV0003</td><td>B03404</td><td>B03404</td><td>2023-08-01 00:07:05</td><td>2023-08-01 00:15:43</td><td>2023-08-01 00:16:37</td><td>2023-08-01 00:35:52</td><td>138</td><td>65</td><td>9.72</td><td>1155</td><td>29.68</td><td>0.0</td><td>0.88</td><td>2.86</td><td>0.0</td><td>2.5</td><td>7.18</td><td>26.13</td><td>N</td><td>N</td><td> </td><td>N</td><td>N</td></tr>\n",
       "<tr><td>HV0003</td><td>B03404</td><td>B03404</td><td>2023-08-01 00:17:14</td><td>2023-08-01 00:20:17</td><td>2023-08-01 00:20:30</td><td>2023-08-01 00:37:51</td><td>233</td><td>231</td><td>5.45</td><td>1041</td><td>16.0</td><td>0.0</td><td>0.44</td><td>1.42</td><td>0.75</td><td>0.0</td><td>0.0</td><td>21.03</td><td>Y</td><td>N</td><td> </td><td>N</td><td>Y</td></tr>\n",
       "<tr><td>HV0003</td><td>B03404</td><td>B03404</td><td>2023-08-01 00:38:01</td><td>2023-08-01 00:43:04</td><td>2023-08-01 00:44:56</td><td>2023-08-01 00:58:18</td><td>231</td><td>148</td><td>1.99</td><td>802</td><td>14.49</td><td>0.0</td><td>0.4</td><td>1.29</td><td>2.75</td><td>0.0</td><td>0.0</td><td>12.89</td><td>N</td><td>N</td><td> </td><td>N</td><td>Y</td></tr>\n",
       "<tr><td>HV0005</td><td>B03406</td><td>NULL</td><td>2023-08-01 00:17:17</td><td>NULL</td><td>2023-08-01 00:26:48</td><td>2023-08-01 00:34:53</td><td>138</td><td>260</td><td>2.393</td><td>485</td><td>11.76</td><td>0.0</td><td>0.39</td><td>1.26</td><td>0.0</td><td>2.5</td><td>0.0</td><td>7.76</td><td>N</td><td>N</td><td>N</td><td>N</td><td>N</td></tr>\n",
       "</table>\n"
      ],
      "text/plain": [
       "+-----------------+--------------------+--------------------+-------------------+-------------------+-------------------+-------------------+------------+------------+----------+---------+-------------------+-----+----+---------+--------------------+-----------+----+----------+-------------------+-----------------+------------------+----------------+--------------+\n",
       "|hvfhs_license_num|dispatching_base_num|originating_base_num|   request_datetime|  on_scene_datetime|    pickup_datetime|   dropoff_datetime|pulocationid|dolocationid|trip_miles|trip_time|base_passenger_fare|tolls| bcf|sales_tax|congestion_surcharge|airport_fee|tips|driver_pay|shared_request_flag|shared_match_flag|access_a_ride_flag|wav_request_flag|wav_match_flag|\n",
       "+-----------------+--------------------+--------------------+-------------------+-------------------+-------------------+-------------------+------------+------------+----------+---------+-------------------+-----+----+---------+--------------------+-----------+----+----------+-------------------+-----------------+------------------+----------------+--------------+\n",
       "|           HV0005|              B03406|                NULL|2023-08-01 00:08:07|               NULL|2023-08-01 00:14:16|2023-08-01 00:30:04|          95|         130|     4.181|      948|              15.58|  0.0|0.33|     1.08|                 0.0|        0.0| 0.0|     14.53|                  N|                N|                 N|               N|             N|\n",
       "|           HV0005|              B03406|                NULL|2023-08-01 00:33:16|               NULL|2023-08-01 00:37:57|2023-08-01 00:56:44|         130|         203|     7.632|     1127|              25.79|  0.0|0.71|     2.29|                 0.0|        0.0| 0.0|     20.78|                  N|                N|                 N|               N|             N|\n",
       "|           HV0003|              B03404|              B03404|2023-08-01 00:34:25|2023-08-01 00:36:23|2023-08-01 00:36:44|2023-08-01 00:49:11|         161|          68|      2.78|      747|              33.73|  0.0|0.93|     2.99|                2.75|        0.0| 0.0|     18.77|                  N|                N|                  |               N|             N|\n",
       "|           HV0003|              B03404|              B03404|2023-08-01 00:09:21|2023-08-01 00:13:01|2023-08-01 00:13:08|2023-08-01 00:20:58|         211|         232|      1.19|      470|               9.98|  0.0|0.27|     0.89|                2.75|        0.0| 0.0|      9.13|                  N|                N|                  |               N|             Y|\n",
       "|           HV0003|              B03404|              B03404|2023-08-01 00:25:44|2023-08-01 00:30:37|2023-08-01 00:31:20|2023-08-01 00:46:05|         148|          48|      3.34|      885|              19.85|  0.0|0.55|     1.76|                2.75|        0.0| 0.0|      16.7|                  N|                N|                  |               N|             Y|\n",
       "|           HV0003|              B03404|              B03404|2023-08-01 00:49:58|2023-08-01 00:51:25|2023-08-01 00:55:34|2023-08-01 01:04:30|          68|         113|      1.21|      536|              10.05|  0.0|0.28|     0.89|                2.75|        0.0| 0.0|      9.78|                  N|                N|                  |               N|             Y|\n",
       "|           HV0003|              B03404|              B03404|2023-08-01 00:07:05|2023-08-01 00:15:43|2023-08-01 00:16:37|2023-08-01 00:35:52|         138|          65|      9.72|     1155|              29.68|  0.0|0.88|     2.86|                 0.0|        2.5|7.18|     26.13|                  N|                N|                  |               N|             N|\n",
       "|           HV0003|              B03404|              B03404|2023-08-01 00:17:14|2023-08-01 00:20:17|2023-08-01 00:20:30|2023-08-01 00:37:51|         233|         231|      5.45|     1041|               16.0|  0.0|0.44|     1.42|                0.75|        0.0| 0.0|     21.03|                  Y|                N|                  |               N|             Y|\n",
       "|           HV0003|              B03404|              B03404|2023-08-01 00:38:01|2023-08-01 00:43:04|2023-08-01 00:44:56|2023-08-01 00:58:18|         231|         148|      1.99|      802|              14.49|  0.0| 0.4|     1.29|                2.75|        0.0| 0.0|     12.89|                  N|                N|                  |               N|             Y|\n",
       "|           HV0005|              B03406|                NULL|2023-08-01 00:17:17|               NULL|2023-08-01 00:26:48|2023-08-01 00:34:53|         138|         260|     2.393|      485|              11.76|  0.0|0.39|     1.26|                 0.0|        2.5| 0.0|      7.76|                  N|                N|                 N|               N|             N|\n",
       "+-----------------+--------------------+--------------------+-------------------+-------------------+-------------------+-------------------+------------+------------+----------+---------+-------------------+-----+----+---------+--------------------+-----------+----+----------+-------------------+-----------------+------------------+----------------+--------------+"
      ]
     },
     "execution_count": 18,
     "metadata": {},
     "output_type": "execute_result"
    }
   ],
   "source": [
    "# Filter based on the minimum possible values for numerical features\n",
    "sdf1 = sdf.where((F.col('trip_miles') > 0.5) &\n",
    "               (F.col('trip_time') > 60) &\n",
    "               (F.col('trip_time') < 18000) &\n",
    "               (F.col('trip_time') > 0) &\n",
    "               (F.col('driver_pay') > 0) &\n",
    "               (F.col('base_passenger_fare') >= 0) &\n",
    "               (F.col('tolls') >= 0) &\n",
    "               (F.col('bcf') >= 0) &\n",
    "               (F.col('sales_tax') >= 0) &\n",
    "               (F.col('congestion_surcharge') >= 0) &\n",
    "               (F.col('airport_fee') >= 0) &\n",
    "               (F.col('tips') >= 0) &\n",
    "               (F.col('pulocationid') >= 1) &\n",
    "               (F.col('pulocationid') <= 263))\n",
    "\n",
    "sdf1.limit(10)\n"
   ]
  },
  {
   "cell_type": "code",
   "execution_count": 19,
   "metadata": {},
   "outputs": [
    {
     "name": "stderr",
     "output_type": "stream",
     "text": [
      "                                                                                \r"
     ]
    }
   ],
   "source": [
    "# Filter the columns to cover 99.99 percentile of the data for numerical features\n",
    "\n",
    "sdf1 = sdf1.where((F.col('trip_miles') <= sdf1.selectExpr('percentile(trip_miles, 0.9999)').collect()[0][0]) &\n",
    "                (F.col('trip_time') <= sdf1.selectExpr('percentile(trip_time, 0.9999)').collect()[0][0]) &\n",
    "                (F.col('driver_pay') <= sdf1.selectExpr('percentile(driver_pay, 0.9999)').collect()[0][0]) &\n",
    "                (F.col('base_passenger_fare') <= sdf1.selectExpr('percentile(base_passenger_fare, 0.9999)').collect()[0][0]) &\n",
    "                (F.col('tolls') <= sdf1.selectExpr('percentile(tolls, 0.9999)').collect()[0][0]) &\n",
    "                (F.col('bcf') <= sdf1.selectExpr('percentile(bcf, 0.9999)').collect()[0][0]) &\n",
    "                (F.col('sales_tax') <= sdf1.selectExpr('percentile(sales_tax, 0.9999)').collect()[0][0]) &\n",
    "                (F.col('tips') <= sdf1.selectExpr('percentile(tips, 0.9999)').collect()[0][0]))\n",
    "\n"
   ]
  },
  {
   "cell_type": "code",
   "execution_count": 20,
   "metadata": {},
   "outputs": [
    {
     "name": "stderr",
     "output_type": "stream",
     "text": [
      "24/08/25 17:02:43 WARN SparkStringUtils: Truncated the string representation of a plan since it was too large. This behavior can be adjusted by setting 'spark.sql.debug.maxToStringFields'.\n",
      "                                                                                \r"
     ]
    },
    {
     "data": {
      "text/html": [
       "<table border='1'>\n",
       "<tr><th>summary</th><th>trip_miles</th><th>trip_time</th><th>driver_pay</th><th>base_passenger_fare</th><th>tolls</th><th>bcf</th><th>sales_tax</th><th>congestion_surcharge</th><th>airport_fee</th><th>tips</th><th>pulocationid</th></tr>\n",
       "<tr><td>count</td><td>96957668</td><td>96957668</td><td>96957668</td><td>96957668</td><td>96957668</td><td>96957668</td><td>96957668</td><td>96957668</td><td>96957668</td><td>96957668</td><td>96957668</td></tr>\n",
       "<tr><td>mean</td><td>5.158726577540867</td><td>1238.999410639703</td><td>20.269167745648307</td><td>25.685965203598116</td><td>1.1870772616990046</td><td>0.7410297956040781</td><td>2.1543794781644436</td><td>1.082532930763145</td><td>0.2245075479744418</td><td>1.2117575237066684</td><td>138.86755130084194</td></tr>\n",
       "<tr><td>stddev</td><td>5.775491058907246</td><td>880.1131181981086</td><td>16.67151760364797</td><td>21.241111629936302</td><td>3.9681004526812176</td><td>0.6537762187686577</td><td>1.7610716033147285</td><td>1.3390974518103758</td><td>0.7178014248644767</td><td>3.37736206393322</td><td>74.59569511381902</td></tr>\n",
       "<tr><td>min</td><td>0.501</td><td>61</td><td>0.01</td><td>0.0</td><td>0.0</td><td>0.0</td><td>0.0</td><td>0.0</td><td>0.0</td><td>0.0</td><td>1</td></tr>\n",
       "<tr><td>max</td><td>99.076</td><td>10016</td><td>259.28</td><td>346.55</td><td>43.91</td><td>10.06</td><td>25.19</td><td>11.0</td><td>10.0</td><td>55.0</td><td>263</td></tr>\n",
       "</table>\n"
      ],
      "text/plain": [
       "+-------+-----------------+-----------------+------------------+-------------------+------------------+------------------+------------------+--------------------+------------------+------------------+------------------+\n",
       "|summary|       trip_miles|        trip_time|        driver_pay|base_passenger_fare|             tolls|               bcf|         sales_tax|congestion_surcharge|       airport_fee|              tips|      pulocationid|\n",
       "+-------+-----------------+-----------------+------------------+-------------------+------------------+------------------+------------------+--------------------+------------------+------------------+------------------+\n",
       "|  count|         96957668|         96957668|          96957668|           96957668|          96957668|          96957668|          96957668|            96957668|          96957668|          96957668|          96957668|\n",
       "|   mean|5.158726577540867|1238.999410639703|20.269167745648307| 25.685965203598116|1.1870772616990046|0.7410297956040781|2.1543794781644436|   1.082532930763145|0.2245075479744418|1.2117575237066684|138.86755130084194|\n",
       "| stddev|5.775491058907246|880.1131181981086| 16.67151760364797| 21.241111629936302|3.9681004526812176|0.6537762187686577|1.7610716033147285|  1.3390974518103758|0.7178014248644767|  3.37736206393322| 74.59569511381902|\n",
       "|    min|            0.501|               61|              0.01|                0.0|               0.0|               0.0|               0.0|                 0.0|               0.0|               0.0|                 1|\n",
       "|    max|           99.076|            10016|            259.28|             346.55|             43.91|             10.06|             25.19|                11.0|              10.0|              55.0|               263|\n",
       "+-------+-----------------+-----------------+------------------+-------------------+------------------+------------------+------------------+--------------------+------------------+------------------+------------------+"
      ]
     },
     "execution_count": 20,
     "metadata": {},
     "output_type": "execute_result"
    }
   ],
   "source": [
    "# check the descriptive statistics of all numerical columns\n",
    "\n",
    "sdf1.select(['trip_miles',\n",
    "             'trip_time',\n",
    "             'driver_pay',\n",
    "             'base_passenger_fare',\n",
    "             'tolls',\n",
    "             'bcf',\n",
    "             'sales_tax',\n",
    "             'congestion_surcharge',\n",
    "             'airport_fee',\n",
    "             'tips',\n",
    "             'pulocationid']).describe()"
   ]
  },
  {
   "cell_type": "code",
   "execution_count": 21,
   "metadata": {},
   "outputs": [],
   "source": [
    "# valid_values = ['Y', 'N']\n",
    "# sdf = sdf.withColumn(\n",
    "#     'shared_request_flag', \n",
    "#     F.when(F.col('shared_request_flag').isin(valid_values), (F.col(\"shared_request_flag\") == 'Y').cast('BOOLEAN')).otherwise(F.col('shared_request_flag'))\n",
    "# )\n",
    "\n",
    "# sdf = sdf.withColumn(\n",
    "#     'shared_match_flag', (F.col(\"shared_match_flag\") == 'Y').cast('BOOLEAN')\n",
    "# )\n",
    "\n",
    "# sdf = sdf.withColumn(\n",
    "#     'access_a_ride_flag', (F.col(\"access_a_ride_flag\") == 'Y').cast('BOOLEAN')\n",
    "# )\n",
    "\n",
    "# sdf = sdf.withColumn(\n",
    "#     'wav_request_flag', (F.col(\"wav_request_flag\") == 'Y').cast('BOOLEAN')\n",
    "# )\n",
    "\n",
    "# sdf = sdf.withColumn(\n",
    "#     'wav_match_flag', (F.col(\"wav_match_flag\") == 'Y').cast('BOOLEAN')\n",
    "# )\n",
    "\n",
    "\n",
    "# #sdf.show(1, vertical=True, truncate=100)\n",
    "# sdf.limit(10)"
   ]
  },
  {
   "cell_type": "code",
   "execution_count": 22,
   "metadata": {},
   "outputs": [
    {
     "data": {
      "text/html": [
       "<table border='1'>\n",
       "<tr><th>hvfhs_license_num</th><th>dispatching_base_num</th><th>originating_base_num</th><th>request_datetime</th><th>on_scene_datetime</th><th>pickup_datetime</th><th>dropoff_datetime</th><th>pulocationid</th><th>dolocationid</th><th>trip_miles</th><th>trip_time</th><th>base_passenger_fare</th><th>tolls</th><th>bcf</th><th>sales_tax</th><th>congestion_surcharge</th><th>airport_fee</th><th>tips</th><th>driver_pay</th><th>pickup_date</th><th>dropoff_date</th></tr>\n",
       "<tr><td>HV0005</td><td>B03406</td><td>NULL</td><td>2023-08-01 00:08:07</td><td>NULL</td><td>2023-08-01 00:14:16</td><td>2023-08-01 00:30:04</td><td>95</td><td>130</td><td>4.181</td><td>948</td><td>15.58</td><td>0.0</td><td>0.33</td><td>1.08</td><td>0.0</td><td>0.0</td><td>0.0</td><td>14.53</td><td>2023-08-01</td><td>2023-08-01</td></tr>\n",
       "<tr><td>HV0005</td><td>B03406</td><td>NULL</td><td>2023-08-01 00:33:16</td><td>NULL</td><td>2023-08-01 00:37:57</td><td>2023-08-01 00:56:44</td><td>130</td><td>203</td><td>7.632</td><td>1127</td><td>25.79</td><td>0.0</td><td>0.71</td><td>2.29</td><td>0.0</td><td>0.0</td><td>0.0</td><td>20.78</td><td>2023-08-01</td><td>2023-08-01</td></tr>\n",
       "<tr><td>HV0003</td><td>B03404</td><td>B03404</td><td>2023-08-01 00:34:25</td><td>2023-08-01 00:36:23</td><td>2023-08-01 00:36:44</td><td>2023-08-01 00:49:11</td><td>161</td><td>68</td><td>2.78</td><td>747</td><td>33.73</td><td>0.0</td><td>0.93</td><td>2.99</td><td>2.75</td><td>0.0</td><td>0.0</td><td>18.77</td><td>2023-08-01</td><td>2023-08-01</td></tr>\n",
       "<tr><td>HV0003</td><td>B03404</td><td>B03404</td><td>2023-08-01 00:09:21</td><td>2023-08-01 00:13:01</td><td>2023-08-01 00:13:08</td><td>2023-08-01 00:20:58</td><td>211</td><td>232</td><td>1.19</td><td>470</td><td>9.98</td><td>0.0</td><td>0.27</td><td>0.89</td><td>2.75</td><td>0.0</td><td>0.0</td><td>9.13</td><td>2023-08-01</td><td>2023-08-01</td></tr>\n",
       "<tr><td>HV0003</td><td>B03404</td><td>B03404</td><td>2023-08-01 00:25:44</td><td>2023-08-01 00:30:37</td><td>2023-08-01 00:31:20</td><td>2023-08-01 00:46:05</td><td>148</td><td>48</td><td>3.34</td><td>885</td><td>19.85</td><td>0.0</td><td>0.55</td><td>1.76</td><td>2.75</td><td>0.0</td><td>0.0</td><td>16.7</td><td>2023-08-01</td><td>2023-08-01</td></tr>\n",
       "</table>\n"
      ],
      "text/plain": [
       "+-----------------+--------------------+--------------------+-------------------+-------------------+-------------------+-------------------+------------+------------+----------+---------+-------------------+-----+----+---------+--------------------+-----------+----+----------+-----------+------------+\n",
       "|hvfhs_license_num|dispatching_base_num|originating_base_num|   request_datetime|  on_scene_datetime|    pickup_datetime|   dropoff_datetime|pulocationid|dolocationid|trip_miles|trip_time|base_passenger_fare|tolls| bcf|sales_tax|congestion_surcharge|airport_fee|tips|driver_pay|pickup_date|dropoff_date|\n",
       "+-----------------+--------------------+--------------------+-------------------+-------------------+-------------------+-------------------+------------+------------+----------+---------+-------------------+-----+----+---------+--------------------+-----------+----+----------+-----------+------------+\n",
       "|           HV0005|              B03406|                NULL|2023-08-01 00:08:07|               NULL|2023-08-01 00:14:16|2023-08-01 00:30:04|          95|         130|     4.181|      948|              15.58|  0.0|0.33|     1.08|                 0.0|        0.0| 0.0|     14.53| 2023-08-01|  2023-08-01|\n",
       "|           HV0005|              B03406|                NULL|2023-08-01 00:33:16|               NULL|2023-08-01 00:37:57|2023-08-01 00:56:44|         130|         203|     7.632|     1127|              25.79|  0.0|0.71|     2.29|                 0.0|        0.0| 0.0|     20.78| 2023-08-01|  2023-08-01|\n",
       "|           HV0003|              B03404|              B03404|2023-08-01 00:34:25|2023-08-01 00:36:23|2023-08-01 00:36:44|2023-08-01 00:49:11|         161|          68|      2.78|      747|              33.73|  0.0|0.93|     2.99|                2.75|        0.0| 0.0|     18.77| 2023-08-01|  2023-08-01|\n",
       "|           HV0003|              B03404|              B03404|2023-08-01 00:09:21|2023-08-01 00:13:01|2023-08-01 00:13:08|2023-08-01 00:20:58|         211|         232|      1.19|      470|               9.98|  0.0|0.27|     0.89|                2.75|        0.0| 0.0|      9.13| 2023-08-01|  2023-08-01|\n",
       "|           HV0003|              B03404|              B03404|2023-08-01 00:25:44|2023-08-01 00:30:37|2023-08-01 00:31:20|2023-08-01 00:46:05|         148|          48|      3.34|      885|              19.85|  0.0|0.55|     1.76|                2.75|        0.0| 0.0|      16.7| 2023-08-01|  2023-08-01|\n",
       "+-----------------+--------------------+--------------------+-------------------+-------------------+-------------------+-------------------+------------+------------+----------+---------+-------------------+-----+----+---------+--------------------+-----------+----+----------+-----------+------------+"
      ]
     },
     "execution_count": 22,
     "metadata": {},
     "output_type": "execute_result"
    }
   ],
   "source": [
    "\n",
    "sdf1 = sdf1.drop(\"shared_request_flag\", \"shared_match_flag\", \"access_a_ride_flag\", \"wav_request_flag\", \"wav_match_flag\")\n",
    "\n",
    "# Extract the date as a standalone feature\n",
    "sdf1 = sdf1.withColumn(\"pickup_date\", \n",
    "                   F.to_date(F.col(\"pickup_datetime\")))\n",
    "\n",
    "sdf1 = sdf1.withColumn(\"dropoff_date\",\n",
    "                   F.to_date(F.col(\"dropoff_datetime\")))\n",
    "sdf1.limit(5)"
   ]
  },
  {
   "cell_type": "code",
   "execution_count": 23,
   "metadata": {},
   "outputs": [
    {
     "name": "stderr",
     "output_type": "stream",
     "text": [
      "                                                                                \r"
     ]
    },
    {
     "name": "stdout",
     "output_type": "stream",
     "text": [
      "pickup_datetime:\n",
      "\tMin: 2023-08-01 00:00:00 \n",
      "\tMax: 2023-12-31 23:59:59\n"
     ]
    },
    {
     "name": "stderr",
     "output_type": "stream",
     "text": [
      "[Stage 67:==========================================>             (18 + 6) / 24]\r"
     ]
    },
    {
     "name": "stdout",
     "output_type": "stream",
     "text": [
      "\n",
      "dropoff_datetime:\n",
      "\tMin: 2023-08-01 00:03:17 \n",
      "\tMax: 2024-01-01 02:18:05 \n",
      "\n"
     ]
    },
    {
     "name": "stderr",
     "output_type": "stream",
     "text": [
      "                                                                                \r"
     ]
    }
   ],
   "source": [
    "# Check earliest and latest of datetime variables\n",
    "print(\"pickup_datetime:\\n\\tMin:\", sdf1.agg({\"pickup_datetime\": \"min\"}).collect()[0][0], \n",
    "    \"\\n\\tMax:\", sdf1.agg({\"pickup_datetime\": \"max\"}).collect()[0][0]),\n",
    "\n",
    "print(\"\\ndropoff_datetime:\\n\\tMin:\", sdf1.agg({\"dropoff_datetime\": \"min\"}).collect()[0][0],\n",
    "     \"\\n\\tMax:\", sdf1.agg({\"dropoff_datetime\": \"max\"}).collect()[0][0], '\\n')\n"
   ]
  },
  {
   "cell_type": "code",
   "execution_count": 24,
   "metadata": {},
   "outputs": [
    {
     "name": "stderr",
     "output_type": "stream",
     "text": [
      "                                                                                \r"
     ]
    },
    {
     "name": "stdout",
     "output_type": "stream",
     "text": [
      "-RECORD 0----------------------------------\n",
      " summary              | count              \n",
      " trip_miles           | 96957668           \n",
      " trip_time            | 96957668           \n",
      " base_passenger_fare  | 96957668           \n",
      " tolls                | 96957668           \n",
      " bcf                  | 96957668           \n",
      " sales_tax            | 96957668           \n",
      " congestion_surcharge | 96957668           \n",
      " airport_fee          | 96957668           \n",
      " tips                 | 96957668           \n",
      " driver_pay           | 96957668           \n",
      "-RECORD 1----------------------------------\n",
      " summary              | mean               \n",
      " trip_miles           | 5.158726577540867  \n",
      " trip_time            | 1238.999410639703  \n",
      " base_passenger_fare  | 25.685965203598116 \n",
      " tolls                | 1.1870772616990046 \n",
      " bcf                  | 0.7410297956040781 \n",
      " sales_tax            | 2.1543794781644436 \n",
      " congestion_surcharge | 1.082532930763145  \n",
      " airport_fee          | 0.2245075479744418 \n",
      " tips                 | 1.2117575237066684 \n",
      " driver_pay           | 20.269167745648307 \n",
      "-RECORD 2----------------------------------\n",
      " summary              | stddev             \n",
      " trip_miles           | 5.775491058907246  \n",
      " trip_time            | 880.1131181981086  \n",
      " base_passenger_fare  | 21.241111629936302 \n",
      " tolls                | 3.9681004526812176 \n",
      " bcf                  | 0.6537762187686577 \n",
      " sales_tax            | 1.7610716033147285 \n",
      " congestion_surcharge | 1.3390974518103758 \n",
      " airport_fee          | 0.7178014248644767 \n",
      " tips                 | 3.37736206393322   \n",
      " driver_pay           | 16.67151760364797  \n",
      "-RECORD 3----------------------------------\n",
      " summary              | min                \n",
      " trip_miles           | 0.501              \n",
      " trip_time            | 61                 \n",
      " base_passenger_fare  | 0.0                \n",
      " tolls                | 0.0                \n",
      " bcf                  | 0.0                \n",
      " sales_tax            | 0.0                \n",
      " congestion_surcharge | 0.0                \n",
      " airport_fee          | 0.0                \n",
      " tips                 | 0.0                \n",
      " driver_pay           | 0.01               \n",
      "-RECORD 4----------------------------------\n",
      " summary              | max                \n",
      " trip_miles           | 99.076             \n",
      " trip_time            | 10016              \n",
      " base_passenger_fare  | 346.55             \n",
      " tolls                | 43.91              \n",
      " bcf                  | 10.06              \n",
      " sales_tax            | 25.19              \n",
      " congestion_surcharge | 11.0               \n",
      " airport_fee          | 10.0               \n",
      " tips                 | 55.0               \n",
      " driver_pay           | 259.28             \n",
      "\n"
     ]
    }
   ],
   "source": [
    "# Check other variables\n",
    "sdf1.select(['trip_miles', \n",
    "           'trip_time', \n",
    "           'base_passenger_fare', \n",
    "           'tolls', \n",
    "           'bcf', \n",
    "           'sales_tax', \n",
    "           'congestion_surcharge',\n",
    "           'airport_fee',\n",
    "           'tips',\n",
    "           'driver_pay',]).describe().show(vertical=True)\n"
   ]
  },
  {
   "cell_type": "code",
   "execution_count": 25,
   "metadata": {},
   "outputs": [
    {
     "name": "stderr",
     "output_type": "stream",
     "text": [
      "                                                                                \r"
     ]
    },
    {
     "data": {
      "text/plain": [
       "96957668"
      ]
     },
     "execution_count": 25,
     "metadata": {},
     "output_type": "execute_result"
    }
   ],
   "source": [
    "sdf1\n",
    "sdf1.count()"
   ]
  },
  {
   "cell_type": "code",
   "execution_count": 34,
   "metadata": {},
   "outputs": [
    {
     "name": "stderr",
     "output_type": "stream",
     "text": [
      "                                                                                \r"
     ]
    },
    {
     "name": "stdout",
     "output_type": "stream",
     "text": [
      "1187482\n",
      "1.2099242805171728\n"
     ]
    },
    {
     "name": "stderr",
     "output_type": "stream",
     "text": [
      "[Stage 127:====================================>                  (16 + 8) / 24]\r"
     ]
    },
    {
     "name": "stdout",
     "output_type": "stream",
     "text": [
      "96957668\n"
     ]
    },
    {
     "name": "stderr",
     "output_type": "stream",
     "text": [
      "                                                                                \r"
     ]
    }
   ],
   "source": [
    "sdf_count = sdf.count()\n",
    "sdf1_count = sdf1.count()\n",
    "\n",
    "# total records removed\n",
    "diff= sdf_count-sdf1_count\n",
    "print(diff)\n",
    "percentage_removed = (diff/sdf_count)*100\n",
    "print(percentage_removed)\n",
    "print(sdf1.count())"
   ]
  },
  {
   "cell_type": "markdown",
   "metadata": {},
   "source": [
    "# Feature Engineering"
   ]
  },
  {
   "cell_type": "markdown",
   "metadata": {},
   "source": [
    "#### Extract hourly pickup and dropoff demand in each location id"
   ]
  },
  {
   "cell_type": "code",
   "execution_count": 26,
   "metadata": {},
   "outputs": [
    {
     "data": {
      "text/html": [
       "<table border='1'>\n",
       "<tr><th>hvfhs_license_num</th><th>dispatching_base_num</th><th>originating_base_num</th><th>request_datetime</th><th>on_scene_datetime</th><th>pickup_datetime</th><th>dropoff_datetime</th><th>pulocationid</th><th>dolocationid</th><th>trip_miles</th><th>trip_time</th><th>base_passenger_fare</th><th>tolls</th><th>bcf</th><th>sales_tax</th><th>congestion_surcharge</th><th>airport_fee</th><th>tips</th><th>driver_pay</th><th>pickup_date</th><th>dropoff_date</th><th>pickup_hour</th><th>dropoff_hour</th></tr>\n",
       "<tr><td>HV0005</td><td>B03406</td><td>NULL</td><td>2023-08-01 00:08:07</td><td>NULL</td><td>2023-08-01 00:14:16</td><td>2023-08-01 00:30:04</td><td>95</td><td>130</td><td>4.181</td><td>948</td><td>15.58</td><td>0.0</td><td>0.33</td><td>1.08</td><td>0.0</td><td>0.0</td><td>0.0</td><td>14.53</td><td>2023-08-01</td><td>2023-08-01</td><td>0</td><td>0</td></tr>\n",
       "<tr><td>HV0005</td><td>B03406</td><td>NULL</td><td>2023-08-01 00:33:16</td><td>NULL</td><td>2023-08-01 00:37:57</td><td>2023-08-01 00:56:44</td><td>130</td><td>203</td><td>7.632</td><td>1127</td><td>25.79</td><td>0.0</td><td>0.71</td><td>2.29</td><td>0.0</td><td>0.0</td><td>0.0</td><td>20.78</td><td>2023-08-01</td><td>2023-08-01</td><td>0</td><td>0</td></tr>\n",
       "<tr><td>HV0003</td><td>B03404</td><td>B03404</td><td>2023-08-01 00:34:25</td><td>2023-08-01 00:36:23</td><td>2023-08-01 00:36:44</td><td>2023-08-01 00:49:11</td><td>161</td><td>68</td><td>2.78</td><td>747</td><td>33.73</td><td>0.0</td><td>0.93</td><td>2.99</td><td>2.75</td><td>0.0</td><td>0.0</td><td>18.77</td><td>2023-08-01</td><td>2023-08-01</td><td>0</td><td>0</td></tr>\n",
       "<tr><td>HV0003</td><td>B03404</td><td>B03404</td><td>2023-08-01 00:09:21</td><td>2023-08-01 00:13:01</td><td>2023-08-01 00:13:08</td><td>2023-08-01 00:20:58</td><td>211</td><td>232</td><td>1.19</td><td>470</td><td>9.98</td><td>0.0</td><td>0.27</td><td>0.89</td><td>2.75</td><td>0.0</td><td>0.0</td><td>9.13</td><td>2023-08-01</td><td>2023-08-01</td><td>0</td><td>0</td></tr>\n",
       "<tr><td>HV0003</td><td>B03404</td><td>B03404</td><td>2023-08-01 00:25:44</td><td>2023-08-01 00:30:37</td><td>2023-08-01 00:31:20</td><td>2023-08-01 00:46:05</td><td>148</td><td>48</td><td>3.34</td><td>885</td><td>19.85</td><td>0.0</td><td>0.55</td><td>1.76</td><td>2.75</td><td>0.0</td><td>0.0</td><td>16.7</td><td>2023-08-01</td><td>2023-08-01</td><td>0</td><td>0</td></tr>\n",
       "<tr><td>HV0003</td><td>B03404</td><td>B03404</td><td>2023-08-01 00:49:58</td><td>2023-08-01 00:51:25</td><td>2023-08-01 00:55:34</td><td>2023-08-01 01:04:30</td><td>68</td><td>113</td><td>1.21</td><td>536</td><td>10.05</td><td>0.0</td><td>0.28</td><td>0.89</td><td>2.75</td><td>0.0</td><td>0.0</td><td>9.78</td><td>2023-08-01</td><td>2023-08-01</td><td>0</td><td>1</td></tr>\n",
       "<tr><td>HV0003</td><td>B03404</td><td>B03404</td><td>2023-08-01 00:07:05</td><td>2023-08-01 00:15:43</td><td>2023-08-01 00:16:37</td><td>2023-08-01 00:35:52</td><td>138</td><td>65</td><td>9.72</td><td>1155</td><td>29.68</td><td>0.0</td><td>0.88</td><td>2.86</td><td>0.0</td><td>2.5</td><td>7.18</td><td>26.13</td><td>2023-08-01</td><td>2023-08-01</td><td>0</td><td>0</td></tr>\n",
       "<tr><td>HV0003</td><td>B03404</td><td>B03404</td><td>2023-08-01 00:17:14</td><td>2023-08-01 00:20:17</td><td>2023-08-01 00:20:30</td><td>2023-08-01 00:37:51</td><td>233</td><td>231</td><td>5.45</td><td>1041</td><td>16.0</td><td>0.0</td><td>0.44</td><td>1.42</td><td>0.75</td><td>0.0</td><td>0.0</td><td>21.03</td><td>2023-08-01</td><td>2023-08-01</td><td>0</td><td>0</td></tr>\n",
       "<tr><td>HV0003</td><td>B03404</td><td>B03404</td><td>2023-08-01 00:38:01</td><td>2023-08-01 00:43:04</td><td>2023-08-01 00:44:56</td><td>2023-08-01 00:58:18</td><td>231</td><td>148</td><td>1.99</td><td>802</td><td>14.49</td><td>0.0</td><td>0.4</td><td>1.29</td><td>2.75</td><td>0.0</td><td>0.0</td><td>12.89</td><td>2023-08-01</td><td>2023-08-01</td><td>0</td><td>0</td></tr>\n",
       "<tr><td>HV0005</td><td>B03406</td><td>NULL</td><td>2023-08-01 00:17:17</td><td>NULL</td><td>2023-08-01 00:26:48</td><td>2023-08-01 00:34:53</td><td>138</td><td>260</td><td>2.393</td><td>485</td><td>11.76</td><td>0.0</td><td>0.39</td><td>1.26</td><td>0.0</td><td>2.5</td><td>0.0</td><td>7.76</td><td>2023-08-01</td><td>2023-08-01</td><td>0</td><td>0</td></tr>\n",
       "<tr><td>HV0005</td><td>B03406</td><td>NULL</td><td>2023-08-01 00:33:39</td><td>NULL</td><td>2023-08-01 00:40:09</td><td>2023-08-01 00:55:02</td><td>260</td><td>173</td><td>2.759</td><td>893</td><td>14.97</td><td>0.0</td><td>0.41</td><td>1.33</td><td>0.0</td><td>0.0</td><td>2.51</td><td>12.13</td><td>2023-08-01</td><td>2023-08-01</td><td>0</td><td>0</td></tr>\n",
       "<tr><td>HV0005</td><td>B03406</td><td>NULL</td><td>2023-08-01 00:53:26</td><td>NULL</td><td>2023-08-01 00:59:52</td><td>2023-08-01 01:06:04</td><td>173</td><td>56</td><td>1.081</td><td>372</td><td>7.17</td><td>0.0</td><td>0.2</td><td>0.64</td><td>0.0</td><td>0.0</td><td>3.0</td><td>5.47</td><td>2023-08-01</td><td>2023-08-01</td><td>0</td><td>1</td></tr>\n",
       "<tr><td>HV0005</td><td>B03406</td><td>NULL</td><td>2023-08-01 00:07:45</td><td>NULL</td><td>2023-08-01 00:13:50</td><td>2023-08-01 00:26:34</td><td>198</td><td>37</td><td>1.616</td><td>764</td><td>9.72</td><td>0.0</td><td>0.27</td><td>0.86</td><td>0.0</td><td>0.0</td><td>0.0</td><td>9.39</td><td>2023-08-01</td><td>2023-08-01</td><td>0</td><td>0</td></tr>\n",
       "<tr><td>HV0005</td><td>B03406</td><td>NULL</td><td>2023-08-01 00:26:08</td><td>NULL</td><td>2023-08-01 00:31:09</td><td>2023-08-01 00:40:19</td><td>37</td><td>37</td><td>1.839</td><td>550</td><td>10.99</td><td>0.0</td><td>0.24</td><td>0.76</td><td>0.0</td><td>0.0</td><td>0.0</td><td>7.66</td><td>2023-08-01</td><td>2023-08-01</td><td>0</td><td>0</td></tr>\n",
       "<tr><td>HV0005</td><td>B03406</td><td>NULL</td><td>2023-08-01 00:55:32</td><td>NULL</td><td>2023-08-01 00:59:51</td><td>2023-08-01 01:09:41</td><td>36</td><td>198</td><td>2.121</td><td>590</td><td>10.53</td><td>0.0</td><td>0.29</td><td>0.94</td><td>0.0</td><td>0.0</td><td>2.0</td><td>8.4</td><td>2023-08-01</td><td>2023-08-01</td><td>0</td><td>1</td></tr>\n",
       "<tr><td>HV0005</td><td>B03406</td><td>NULL</td><td>2023-08-01 00:39:28</td><td>NULL</td><td>2023-08-01 00:49:24</td><td>2023-08-01 00:55:54</td><td>73</td><td>171</td><td>1.43</td><td>390</td><td>7.0</td><td>0.0</td><td>0.19</td><td>0.62</td><td>0.0</td><td>0.0</td><td>0.0</td><td>5.59</td><td>2023-08-01</td><td>2023-08-01</td><td>0</td><td>0</td></tr>\n",
       "<tr><td>HV0003</td><td>B03404</td><td>B03404</td><td>2023-08-01 00:10:29</td><td>2023-08-01 00:16:37</td><td>2023-08-01 00:18:50</td><td>2023-08-01 00:34:11</td><td>58</td><td>174</td><td>6.15</td><td>921</td><td>12.51</td><td>0.0</td><td>0.34</td><td>1.11</td><td>0.0</td><td>0.0</td><td>0.0</td><td>18.59</td><td>2023-08-01</td><td>2023-08-01</td><td>0</td><td>0</td></tr>\n",
       "<tr><td>HV0003</td><td>B03404</td><td>B03404</td><td>2023-08-01 00:17:15</td><td>2023-08-01 00:18:08</td><td>2023-08-01 00:20:09</td><td>2023-08-01 00:25:08</td><td>161</td><td>170</td><td>0.88</td><td>299</td><td>7.63</td><td>0.0</td><td>0.21</td><td>0.68</td><td>2.75</td><td>0.0</td><td>0.0</td><td>5.6</td><td>2023-08-01</td><td>2023-08-01</td><td>0</td><td>0</td></tr>\n",
       "<tr><td>HV0003</td><td>B03404</td><td>B03404</td><td>2023-08-01 00:27:22</td><td>2023-08-01 00:28:08</td><td>2023-08-01 00:29:16</td><td>2023-08-01 00:52:43</td><td>170</td><td>95</td><td>9.98</td><td>1407</td><td>32.11</td><td>6.55</td><td>1.06</td><td>3.43</td><td>2.75</td><td>0.0</td><td>0.0</td><td>26.34</td><td>2023-08-01</td><td>2023-08-01</td><td>0</td><td>0</td></tr>\n",
       "<tr><td>HV0003</td><td>B03404</td><td>B03404</td><td>2023-08-01 00:08:21</td><td>2023-08-01 00:12:07</td><td>2023-08-01 00:13:22</td><td>2023-08-01 00:32:40</td><td>217</td><td>188</td><td>4.05</td><td>1158</td><td>17.86</td><td>0.0</td><td>0.49</td><td>1.59</td><td>0.0</td><td>0.0</td><td>0.0</td><td>17.52</td><td>2023-08-01</td><td>2023-08-01</td><td>0</td><td>0</td></tr>\n",
       "</table>\n",
       "only showing top 20 rows\n"
      ],
      "text/plain": [
       "+-----------------+--------------------+--------------------+-------------------+-------------------+-------------------+-------------------+------------+------------+----------+---------+-------------------+-----+----+---------+--------------------+-----------+----+----------+-----------+------------+-----------+------------+\n",
       "|hvfhs_license_num|dispatching_base_num|originating_base_num|   request_datetime|  on_scene_datetime|    pickup_datetime|   dropoff_datetime|pulocationid|dolocationid|trip_miles|trip_time|base_passenger_fare|tolls| bcf|sales_tax|congestion_surcharge|airport_fee|tips|driver_pay|pickup_date|dropoff_date|pickup_hour|dropoff_hour|\n",
       "+-----------------+--------------------+--------------------+-------------------+-------------------+-------------------+-------------------+------------+------------+----------+---------+-------------------+-----+----+---------+--------------------+-----------+----+----------+-----------+------------+-----------+------------+\n",
       "|           HV0005|              B03406|                NULL|2023-08-01 00:08:07|               NULL|2023-08-01 00:14:16|2023-08-01 00:30:04|          95|         130|     4.181|      948|              15.58|  0.0|0.33|     1.08|                 0.0|        0.0| 0.0|     14.53| 2023-08-01|  2023-08-01|          0|           0|\n",
       "|           HV0005|              B03406|                NULL|2023-08-01 00:33:16|               NULL|2023-08-01 00:37:57|2023-08-01 00:56:44|         130|         203|     7.632|     1127|              25.79|  0.0|0.71|     2.29|                 0.0|        0.0| 0.0|     20.78| 2023-08-01|  2023-08-01|          0|           0|\n",
       "|           HV0003|              B03404|              B03404|2023-08-01 00:34:25|2023-08-01 00:36:23|2023-08-01 00:36:44|2023-08-01 00:49:11|         161|          68|      2.78|      747|              33.73|  0.0|0.93|     2.99|                2.75|        0.0| 0.0|     18.77| 2023-08-01|  2023-08-01|          0|           0|\n",
       "|           HV0003|              B03404|              B03404|2023-08-01 00:09:21|2023-08-01 00:13:01|2023-08-01 00:13:08|2023-08-01 00:20:58|         211|         232|      1.19|      470|               9.98|  0.0|0.27|     0.89|                2.75|        0.0| 0.0|      9.13| 2023-08-01|  2023-08-01|          0|           0|\n",
       "|           HV0003|              B03404|              B03404|2023-08-01 00:25:44|2023-08-01 00:30:37|2023-08-01 00:31:20|2023-08-01 00:46:05|         148|          48|      3.34|      885|              19.85|  0.0|0.55|     1.76|                2.75|        0.0| 0.0|      16.7| 2023-08-01|  2023-08-01|          0|           0|\n",
       "|           HV0003|              B03404|              B03404|2023-08-01 00:49:58|2023-08-01 00:51:25|2023-08-01 00:55:34|2023-08-01 01:04:30|          68|         113|      1.21|      536|              10.05|  0.0|0.28|     0.89|                2.75|        0.0| 0.0|      9.78| 2023-08-01|  2023-08-01|          0|           1|\n",
       "|           HV0003|              B03404|              B03404|2023-08-01 00:07:05|2023-08-01 00:15:43|2023-08-01 00:16:37|2023-08-01 00:35:52|         138|          65|      9.72|     1155|              29.68|  0.0|0.88|     2.86|                 0.0|        2.5|7.18|     26.13| 2023-08-01|  2023-08-01|          0|           0|\n",
       "|           HV0003|              B03404|              B03404|2023-08-01 00:17:14|2023-08-01 00:20:17|2023-08-01 00:20:30|2023-08-01 00:37:51|         233|         231|      5.45|     1041|               16.0|  0.0|0.44|     1.42|                0.75|        0.0| 0.0|     21.03| 2023-08-01|  2023-08-01|          0|           0|\n",
       "|           HV0003|              B03404|              B03404|2023-08-01 00:38:01|2023-08-01 00:43:04|2023-08-01 00:44:56|2023-08-01 00:58:18|         231|         148|      1.99|      802|              14.49|  0.0| 0.4|     1.29|                2.75|        0.0| 0.0|     12.89| 2023-08-01|  2023-08-01|          0|           0|\n",
       "|           HV0005|              B03406|                NULL|2023-08-01 00:17:17|               NULL|2023-08-01 00:26:48|2023-08-01 00:34:53|         138|         260|     2.393|      485|              11.76|  0.0|0.39|     1.26|                 0.0|        2.5| 0.0|      7.76| 2023-08-01|  2023-08-01|          0|           0|\n",
       "|           HV0005|              B03406|                NULL|2023-08-01 00:33:39|               NULL|2023-08-01 00:40:09|2023-08-01 00:55:02|         260|         173|     2.759|      893|              14.97|  0.0|0.41|     1.33|                 0.0|        0.0|2.51|     12.13| 2023-08-01|  2023-08-01|          0|           0|\n",
       "|           HV0005|              B03406|                NULL|2023-08-01 00:53:26|               NULL|2023-08-01 00:59:52|2023-08-01 01:06:04|         173|          56|     1.081|      372|               7.17|  0.0| 0.2|     0.64|                 0.0|        0.0| 3.0|      5.47| 2023-08-01|  2023-08-01|          0|           1|\n",
       "|           HV0005|              B03406|                NULL|2023-08-01 00:07:45|               NULL|2023-08-01 00:13:50|2023-08-01 00:26:34|         198|          37|     1.616|      764|               9.72|  0.0|0.27|     0.86|                 0.0|        0.0| 0.0|      9.39| 2023-08-01|  2023-08-01|          0|           0|\n",
       "|           HV0005|              B03406|                NULL|2023-08-01 00:26:08|               NULL|2023-08-01 00:31:09|2023-08-01 00:40:19|          37|          37|     1.839|      550|              10.99|  0.0|0.24|     0.76|                 0.0|        0.0| 0.0|      7.66| 2023-08-01|  2023-08-01|          0|           0|\n",
       "|           HV0005|              B03406|                NULL|2023-08-01 00:55:32|               NULL|2023-08-01 00:59:51|2023-08-01 01:09:41|          36|         198|     2.121|      590|              10.53|  0.0|0.29|     0.94|                 0.0|        0.0| 2.0|       8.4| 2023-08-01|  2023-08-01|          0|           1|\n",
       "|           HV0005|              B03406|                NULL|2023-08-01 00:39:28|               NULL|2023-08-01 00:49:24|2023-08-01 00:55:54|          73|         171|      1.43|      390|                7.0|  0.0|0.19|     0.62|                 0.0|        0.0| 0.0|      5.59| 2023-08-01|  2023-08-01|          0|           0|\n",
       "|           HV0003|              B03404|              B03404|2023-08-01 00:10:29|2023-08-01 00:16:37|2023-08-01 00:18:50|2023-08-01 00:34:11|          58|         174|      6.15|      921|              12.51|  0.0|0.34|     1.11|                 0.0|        0.0| 0.0|     18.59| 2023-08-01|  2023-08-01|          0|           0|\n",
       "|           HV0003|              B03404|              B03404|2023-08-01 00:17:15|2023-08-01 00:18:08|2023-08-01 00:20:09|2023-08-01 00:25:08|         161|         170|      0.88|      299|               7.63|  0.0|0.21|     0.68|                2.75|        0.0| 0.0|       5.6| 2023-08-01|  2023-08-01|          0|           0|\n",
       "|           HV0003|              B03404|              B03404|2023-08-01 00:27:22|2023-08-01 00:28:08|2023-08-01 00:29:16|2023-08-01 00:52:43|         170|          95|      9.98|     1407|              32.11| 6.55|1.06|     3.43|                2.75|        0.0| 0.0|     26.34| 2023-08-01|  2023-08-01|          0|           0|\n",
       "|           HV0003|              B03404|              B03404|2023-08-01 00:08:21|2023-08-01 00:12:07|2023-08-01 00:13:22|2023-08-01 00:32:40|         217|         188|      4.05|     1158|              17.86|  0.0|0.49|     1.59|                 0.0|        0.0| 0.0|     17.52| 2023-08-01|  2023-08-01|          0|           0|\n",
       "+-----------------+--------------------+--------------------+-------------------+-------------------+-------------------+-------------------+------------+------------+----------+---------+-------------------+-----+----+---------+--------------------+-----------+----+----------+-----------+------------+-----------+------------+\n",
       "only showing top 20 rows"
      ]
     },
     "execution_count": 26,
     "metadata": {},
     "output_type": "execute_result"
    }
   ],
   "source": [
    "# Create columns for date and hour\n",
    "sdf1 = (sdf1\n",
    "  .withColumn(\"pickup_date\", F.col(\"pickup_datetime\").cast(\"date\"))\n",
    "  .withColumn(\"pickup_hour\", F.hour(F.col(\"pickup_datetime\")))\n",
    "  .withColumn(\"dropoff_date\", F.col(\"dropoff_datetime\").cast(\"date\"))\n",
    "  .withColumn(\"dropoff_hour\", F.hour(F.col(\"dropoff_datetime\")))\n",
    ")\n",
    "sdf1"
   ]
  },
  {
   "cell_type": "code",
   "execution_count": 27,
   "metadata": {},
   "outputs": [
    {
     "name": "stderr",
     "output_type": "stream",
     "text": [
      "                                                                                \r"
     ]
    },
    {
     "name": "stdout",
     "output_type": "stream",
     "text": [
      "+-----------+-----------+-----+\n",
      "|pickup_date|pickup_hour|count|\n",
      "+-----------+-----------+-----+\n",
      "| 2023-08-01|          0|14686|\n",
      "| 2023-08-01|          1| 8839|\n",
      "| 2023-08-01|          2| 5756|\n",
      "| 2023-08-01|          3| 4752|\n",
      "| 2023-08-01|          4| 6409|\n",
      "| 2023-08-01|          5| 9758|\n",
      "| 2023-08-01|          6|16376|\n",
      "| 2023-08-01|          7|24934|\n",
      "| 2023-08-01|          8|32685|\n",
      "| 2023-08-01|          9|30174|\n",
      "| 2023-08-01|         10|24703|\n",
      "| 2023-08-01|         11|23045|\n",
      "| 2023-08-01|         12|23524|\n",
      "| 2023-08-01|         13|24488|\n",
      "| 2023-08-01|         14|25879|\n",
      "| 2023-08-01|         15|26446|\n",
      "| 2023-08-01|         16|27674|\n",
      "| 2023-08-01|         17|31544|\n",
      "| 2023-08-01|         18|32495|\n",
      "| 2023-08-01|         19|29458|\n",
      "+-----------+-----------+-----+\n",
      "only showing top 20 rows\n",
      "\n"
     ]
    },
    {
     "name": "stderr",
     "output_type": "stream",
     "text": [
      "                                                                                \r"
     ]
    },
    {
     "data": {
      "text/plain": [
       "3672"
      ]
     },
     "execution_count": 27,
     "metadata": {},
     "output_type": "execute_result"
    }
   ],
   "source": [
    "# aggregate and count number of hourly instances in each location id\n",
    "\n",
    "pickup_hourly_demand = sdf1.groupBy(\"pickup_date\", \"pickup_hour\").count().orderBy([\"pickup_date\", \"pickup_hour\"])\n",
    "dropoff_hourly_demand = sdf1.groupBy(\"dolocationid\", \"dropoff_date\", \"dropoff_hour\").count()\n",
    "\n",
    "pickup_hourly_demand.show()\n",
    "pickup_hourly_demand.count()"
   ]
  },
  {
   "cell_type": "code",
   "execution_count": 28,
   "metadata": {},
   "outputs": [
    {
     "name": "stderr",
     "output_type": "stream",
     "text": [
      "                                                                                \r"
     ]
    }
   ],
   "source": [
    "pickup_hourly_demand.write.csv(\"../data/curated/pickup_hourly_rideshare.csv\", header=True, mode='overwrite')"
   ]
  },
  {
   "cell_type": "code",
   "execution_count": 29,
   "metadata": {},
   "outputs": [],
   "source": [
    "# aggregate and count number of hourly instances in each location id\n",
    "\n",
    "pickup_daily_demand = sdf1.groupBy(\"pulocationid\", \"pickup_date\").count()\n",
    "dropoff_daily_demand = sdf1.groupBy(\"dolocationid\", \"dropoff_date\").count()\n"
   ]
  },
  {
   "cell_type": "code",
   "execution_count": 30,
   "metadata": {},
   "outputs": [
    {
     "name": "stderr",
     "output_type": "stream",
     "text": [
      "                                                                                \r"
     ]
    },
    {
     "ename": "NameError",
     "evalue": "name 'hourly_rideshare' is not defined",
     "output_type": "error",
     "traceback": [
      "\u001b[0;31m---------------------------------------------------------------------------\u001b[0m",
      "\u001b[0;31mNameError\u001b[0m                                 Traceback (most recent call last)",
      "Cell \u001b[0;32mIn[30], line 2\u001b[0m\n\u001b[1;32m      1\u001b[0m pickup_hourly_demand \u001b[38;5;241m=\u001b[39m pickup_hourly_demand\u001b[38;5;241m.\u001b[39mtoPandas()\n\u001b[0;32m----> 2\u001b[0m \u001b[43mhourly_rideshare\u001b[49m\u001b[38;5;241m.\u001b[39mto_csv(\u001b[38;5;124m\"\u001b[39m\u001b[38;5;124m../data/curated/pickup_hourly_rideshare.csv\u001b[39m\u001b[38;5;124m\"\u001b[39m, index\u001b[38;5;241m=\u001b[39m\u001b[38;5;28;01mFalse\u001b[39;00m, header\u001b[38;5;241m=\u001b[39m\u001b[38;5;28;01mTrue\u001b[39;00m)\n",
      "\u001b[0;31mNameError\u001b[0m: name 'hourly_rideshare' is not defined"
     ]
    }
   ],
   "source": [
    "pickup_hourly_demand = pickup_hourly_demand.toPandas()\n",
    "hourly_rideshare.to_csv(\"../data/curated/pickup_hourly_rideshare.csv\", index=False, header=True)\n"
   ]
  },
  {
   "cell_type": "code",
   "execution_count": null,
   "metadata": {},
   "outputs": [
    {
     "name": "stderr",
     "output_type": "stream",
     "text": [
      "                                                                                \r"
     ]
    }
   ],
   "source": [
    "pickup_hourly_demand.write \\\n",
    "    .format(\"csv\") \\\n",
    "    .option(\"header\", \"true\") \\\n",
    "    .mode(\"overwrite\") \\\n",
    "    .save(\"../data/curated/pickup_hourly_demand.csv\")"
   ]
  },
  {
   "cell_type": "code",
   "execution_count": null,
   "metadata": {},
   "outputs": [
    {
     "ename": "AttributeError",
     "evalue": "'DataFrame' object has no attribute 'limit'",
     "output_type": "error",
     "traceback": [
      "\u001b[0;31m---------------------------------------------------------------------------\u001b[0m",
      "\u001b[0;31mAttributeError\u001b[0m                            Traceback (most recent call last)",
      "\u001b[0;32m/var/folders/5b/_4xfpt552zl2s4838tp16dzw0000gn/T/ipykernel_47518/4005394114.py\u001b[0m in \u001b[0;36m?\u001b[0;34m()\u001b[0m\n\u001b[0;32m----> 1\u001b[0;31m \u001b[0mhourly_rideshare\u001b[0m\u001b[0;34m.\u001b[0m\u001b[0mlimit\u001b[0m\u001b[0;34m(\u001b[0m\u001b[0;36m5\u001b[0m\u001b[0;34m)\u001b[0m\u001b[0;34m\u001b[0m\u001b[0;34m\u001b[0m\u001b[0m\n\u001b[0m",
      "\u001b[0;32m~/Desktop/UNI/project-1-individual-umabarnes/.venv1/lib/python3.12/site-packages/pandas/core/generic.py\u001b[0m in \u001b[0;36m?\u001b[0;34m(self, name)\u001b[0m\n\u001b[1;32m   6295\u001b[0m             \u001b[0;32mand\u001b[0m \u001b[0mname\u001b[0m \u001b[0;32mnot\u001b[0m \u001b[0;32min\u001b[0m \u001b[0mself\u001b[0m\u001b[0;34m.\u001b[0m\u001b[0m_accessors\u001b[0m\u001b[0;34m\u001b[0m\u001b[0;34m\u001b[0m\u001b[0m\n\u001b[1;32m   6296\u001b[0m             \u001b[0;32mand\u001b[0m \u001b[0mself\u001b[0m\u001b[0;34m.\u001b[0m\u001b[0m_info_axis\u001b[0m\u001b[0;34m.\u001b[0m\u001b[0m_can_hold_identifiers_and_holds_name\u001b[0m\u001b[0;34m(\u001b[0m\u001b[0mname\u001b[0m\u001b[0;34m)\u001b[0m\u001b[0;34m\u001b[0m\u001b[0;34m\u001b[0m\u001b[0m\n\u001b[1;32m   6297\u001b[0m         \u001b[0;34m)\u001b[0m\u001b[0;34m:\u001b[0m\u001b[0;34m\u001b[0m\u001b[0;34m\u001b[0m\u001b[0m\n\u001b[1;32m   6298\u001b[0m             \u001b[0;32mreturn\u001b[0m \u001b[0mself\u001b[0m\u001b[0;34m[\u001b[0m\u001b[0mname\u001b[0m\u001b[0;34m]\u001b[0m\u001b[0;34m\u001b[0m\u001b[0;34m\u001b[0m\u001b[0m\n\u001b[0;32m-> 6299\u001b[0;31m         \u001b[0;32mreturn\u001b[0m \u001b[0mobject\u001b[0m\u001b[0;34m.\u001b[0m\u001b[0m__getattribute__\u001b[0m\u001b[0;34m(\u001b[0m\u001b[0mself\u001b[0m\u001b[0;34m,\u001b[0m \u001b[0mname\u001b[0m\u001b[0;34m)\u001b[0m\u001b[0;34m\u001b[0m\u001b[0;34m\u001b[0m\u001b[0m\n\u001b[0m",
      "\u001b[0;31mAttributeError\u001b[0m: 'DataFrame' object has no attribute 'limit'"
     ]
    }
   ],
   "source": [
    "hourly_rideshare.limit(5)"
   ]
  },
  {
   "cell_type": "code",
   "execution_count": null,
   "metadata": {},
   "outputs": [
    {
     "name": "stderr",
     "output_type": "stream",
     "text": [
      "                                                                                \r"
     ]
    },
    {
     "data": {
      "text/html": [
       "<table border='1'>\n",
       "<tr><th>pulocationid</th><th>pickup_date</th><th>pickup_hour</th><th>count</th></tr>\n",
       "<tr><td>219</td><td>2023-07-01</td><td>0</td><td>44</td></tr>\n",
       "<tr><td>112</td><td>2023-07-01</td><td>1</td><td>426</td></tr>\n",
       "<tr><td>248</td><td>2023-07-01</td><td>1</td><td>43</td></tr>\n",
       "<tr><td>15</td><td>2023-07-01</td><td>4</td><td>6</td></tr>\n",
       "<tr><td>24</td><td>2023-07-01</td><td>6</td><td>18</td></tr>\n",
       "</table>\n"
      ],
      "text/plain": [
       "+------------+-----------+-----------+-----+\n",
       "|pulocationid|pickup_date|pickup_hour|count|\n",
       "+------------+-----------+-----------+-----+\n",
       "|         219| 2023-07-01|          0|   44|\n",
       "|         112| 2023-07-01|          1|  426|\n",
       "|         248| 2023-07-01|          1|   43|\n",
       "|          15| 2023-07-01|          4|    6|\n",
       "|          24| 2023-07-01|          6|   18|\n",
       "+------------+-----------+-----------+-----+"
      ]
     },
     "execution_count": 92,
     "metadata": {},
     "output_type": "execute_result"
    }
   ],
   "source": [
    "pickup_hourly_demand.limit(5)"
   ]
  },
  {
   "cell_type": "code",
   "execution_count": null,
   "metadata": {},
   "outputs": [
    {
     "name": "stderr",
     "output_type": "stream",
     "text": [
      "                                                                                \r"
     ]
    },
    {
     "data": {
      "text/html": [
       "<table border='1'>\n",
       "<tr><th>summary</th><th>dolocationid</th><th>count</th></tr>\n",
       "<tr><td>count</td><td>39996</td><td>39996</td></tr>\n",
       "<tr><td>mean</td><td>132.74962496249626</td><td>2424.184118411841</td></tr>\n",
       "<tr><td>stddev</td><td>76.51006007232569</td><td>2679.157777773382</td></tr>\n",
       "<tr><td>min</td><td>1</td><td>1</td></tr>\n",
       "<tr><td>max</td><td>265</td><td>36207</td></tr>\n",
       "</table>\n"
      ],
      "text/plain": [
       "+-------+------------------+-----------------+\n",
       "|summary|      dolocationid|            count|\n",
       "+-------+------------------+-----------------+\n",
       "|  count|             39996|            39996|\n",
       "|   mean|132.74962496249626|2424.184118411841|\n",
       "| stddev| 76.51006007232569|2679.157777773382|\n",
       "|    min|                 1|                1|\n",
       "|    max|               265|            36207|\n",
       "+-------+------------------+-----------------+"
      ]
     },
     "execution_count": 33,
     "metadata": {},
     "output_type": "execute_result"
    }
   ],
   "source": [
    "dropoff_daily_demand.describe()"
   ]
  },
  {
   "cell_type": "markdown",
   "metadata": {},
   "source": [
    "## Calculate Borough Counts"
   ]
  },
  {
   "cell_type": "code",
   "execution_count": null,
   "metadata": {},
   "outputs": [
    {
     "data": {
      "text/html": [
       "<table border='1'>\n",
       "<tr><th>hvfhs_license_num</th><th>dispatching_base_num</th><th>originating_base_num</th><th>request_datetime</th><th>on_scene_datetime</th><th>pickup_datetime</th><th>dropoff_datetime</th><th>pulocationid</th><th>dolocationid</th><th>trip_miles</th><th>trip_time</th><th>base_passenger_fare</th><th>tolls</th><th>bcf</th><th>sales_tax</th><th>congestion_surcharge</th><th>airport_fee</th><th>tips</th><th>driver_pay</th><th>pickup_date</th><th>dropoff_date</th></tr>\n",
       "<tr><td>HV0003</td><td>B03404</td><td>B03404</td><td>2023-07-01 00:04:21</td><td>2023-07-01 00:07:59</td><td>2023-07-01 00:08:30</td><td>2023-07-01 00:33:33</td><td>72</td><td>26</td><td>4.79</td><td>1503</td><td>22.34</td><td>0.0</td><td>0.61</td><td>1.98</td><td>0.0</td><td>0.0</td><td>0.0</td><td>20.42</td><td>2023-07-01</td><td>2023-07-01</td></tr>\n",
       "<tr><td>HV0003</td><td>B03404</td><td>B03404</td><td>2023-07-01 00:40:25</td><td>2023-07-01 00:40:35</td><td>2023-07-01 00:42:10</td><td>2023-07-01 01:08:06</td><td>26</td><td>37</td><td>6.4</td><td>1556</td><td>25.83</td><td>0.0</td><td>0.71</td><td>2.29</td><td>0.0</td><td>0.0</td><td>0.0</td><td>23.03</td><td>2023-07-01</td><td>2023-07-01</td></tr>\n",
       "<tr><td>HV0003</td><td>B03404</td><td>B03404</td><td>2023-07-01 00:20:31</td><td>2023-07-01 00:24:05</td><td>2023-07-01 00:25:00</td><td>2023-07-01 00:42:38</td><td>263</td><td>232</td><td>5.71</td><td>1058</td><td>26.51</td><td>0.0</td><td>0.73</td><td>2.35</td><td>2.75</td><td>0.0</td><td>6.46</td><td>18.61</td><td>2023-07-01</td><td>2023-07-01</td></tr>\n",
       "<tr><td>HV0003</td><td>B03404</td><td>B03404</td><td>2023-07-01 00:42:50</td><td>2023-07-01 00:47:37</td><td>2023-07-01 00:48:57</td><td>2023-07-01 00:57:04</td><td>79</td><td>233</td><td>1.75</td><td>487</td><td>16.32</td><td>0.0</td><td>0.45</td><td>1.45</td><td>2.75</td><td>0.0</td><td>0.0</td><td>8.13</td><td>2023-07-01</td><td>2023-07-01</td></tr>\n",
       "<tr><td>HV0005</td><td>B03406</td><td>NULL</td><td>2023-07-01 00:00:17</td><td>NULL</td><td>2023-07-01 00:05:35</td><td>2023-07-01 00:36:07</td><td>88</td><td>237</td><td>7.218</td><td>1832</td><td>83.97</td><td>0.0</td><td>2.31</td><td>7.45</td><td>2.75</td><td>0.0</td><td>0.0</td><td>59.05</td><td>2023-07-01</td><td>2023-07-01</td></tr>\n",
       "</table>\n"
      ],
      "text/plain": [
       "+-----------------+--------------------+--------------------+-------------------+-------------------+-------------------+-------------------+------------+------------+----------+---------+-------------------+-----+----+---------+--------------------+-----------+----+----------+-----------+------------+\n",
       "|hvfhs_license_num|dispatching_base_num|originating_base_num|   request_datetime|  on_scene_datetime|    pickup_datetime|   dropoff_datetime|pulocationid|dolocationid|trip_miles|trip_time|base_passenger_fare|tolls| bcf|sales_tax|congestion_surcharge|airport_fee|tips|driver_pay|pickup_date|dropoff_date|\n",
       "+-----------------+--------------------+--------------------+-------------------+-------------------+-------------------+-------------------+------------+------------+----------+---------+-------------------+-----+----+---------+--------------------+-----------+----+----------+-----------+------------+\n",
       "|           HV0003|              B03404|              B03404|2023-07-01 00:04:21|2023-07-01 00:07:59|2023-07-01 00:08:30|2023-07-01 00:33:33|          72|          26|      4.79|     1503|              22.34|  0.0|0.61|     1.98|                 0.0|        0.0| 0.0|     20.42| 2023-07-01|  2023-07-01|\n",
       "|           HV0003|              B03404|              B03404|2023-07-01 00:40:25|2023-07-01 00:40:35|2023-07-01 00:42:10|2023-07-01 01:08:06|          26|          37|       6.4|     1556|              25.83|  0.0|0.71|     2.29|                 0.0|        0.0| 0.0|     23.03| 2023-07-01|  2023-07-01|\n",
       "|           HV0003|              B03404|              B03404|2023-07-01 00:20:31|2023-07-01 00:24:05|2023-07-01 00:25:00|2023-07-01 00:42:38|         263|         232|      5.71|     1058|              26.51|  0.0|0.73|     2.35|                2.75|        0.0|6.46|     18.61| 2023-07-01|  2023-07-01|\n",
       "|           HV0003|              B03404|              B03404|2023-07-01 00:42:50|2023-07-01 00:47:37|2023-07-01 00:48:57|2023-07-01 00:57:04|          79|         233|      1.75|      487|              16.32|  0.0|0.45|     1.45|                2.75|        0.0| 0.0|      8.13| 2023-07-01|  2023-07-01|\n",
       "|           HV0005|              B03406|                NULL|2023-07-01 00:00:17|               NULL|2023-07-01 00:05:35|2023-07-01 00:36:07|          88|         237|     7.218|     1832|              83.97|  0.0|2.31|     7.45|                2.75|        0.0| 0.0|     59.05| 2023-07-01|  2023-07-01|\n",
       "+-----------------+--------------------+--------------------+-------------------+-------------------+-------------------+-------------------+------------+------------+----------+---------+-------------------+-----+----+---------+--------------------+-----------+----+----------+-----------+------------+"
      ]
     },
     "execution_count": 16,
     "metadata": {},
     "output_type": "execute_result"
    }
   ],
   "source": [
    "id_count = sdf.limit(5)"
   ]
  }
 ],
 "metadata": {
  "kernelspec": {
   "display_name": "Python 3.12.4 ('.venv1': venv)",
   "language": "python",
   "name": "python3"
  },
  "language_info": {
   "codemirror_mode": {
    "name": "ipython",
    "version": 3
   },
   "file_extension": ".py",
   "mimetype": "text/x-python",
   "name": "python",
   "nbconvert_exporter": "python",
   "pygments_lexer": "ipython3",
   "version": "3.12.4"
  },
  "orig_nbformat": 4,
  "vscode": {
   "interpreter": {
    "hash": "bc19f976deae78a4b8dd1c0db37710e451de00dcd2e448b10d5869a2fb538e25"
   }
  }
 },
 "nbformat": 4,
 "nbformat_minor": 2
}
