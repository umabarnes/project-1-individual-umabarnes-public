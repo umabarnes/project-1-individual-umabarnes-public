{
 "cells": [
  {
   "cell_type": "markdown",
   "metadata": {},
   "source": [
    "## MTA Service Announcement Preprocessing"
   ]
  },
  {
   "cell_type": "markdown",
   "metadata": {},
   "source": [
    "- MTA Service Alerts: Beginning 2020 can be dound here: https://data.ny.gov/Transportation/MTA-Service-Alerts-Beginning-April-2020/7kct-peq7/about_data \n",
    "- Data Dictionary can be downloaded here: https://data.ny.gov/api/views/7kct-peq7/files/b328bd7e-d79f-4344-b6f5-a8dec1897169?download=true&filename=MTA_ServiceAlerts_DataDictionary.pdf\n",
    "- Data overview can be downloaded here: https://data.ny.gov/api/views/7kct-peq7/files/802a019e-34fb-4bd5-a297-81aa7a183e6f?download=true&filename=MTA_ServiceAlerts_Overview.pdf\n"
   ]
  },
  {
   "cell_type": "code",
   "execution_count": 19,
   "metadata": {},
   "outputs": [],
   "source": [
    "from pyspark.sql import SparkSession, functions as F\n",
    "from pyspark.sql.functions import to_timestamp\n",
    "from pyspark.sql.functions import col, expr\n",
    "from pyspark.sql.functions import to_date, hour\n",
    "from pyspark.sql.types import DateType, IntegerType\n",
    "import pandas as pd\n",
    "import datetime\n",
    "from urllib.request import urlretrieve"
   ]
  },
  {
   "cell_type": "code",
   "execution_count": 20,
   "metadata": {},
   "outputs": [],
   "source": [
    "spark = SparkSession.builder \\\n",
    "    .appName(\"mta_preprocessing\") \\\n",
    "    .getOrCreate()"
   ]
  },
  {
   "cell_type": "code",
   "execution_count": 21,
   "metadata": {},
   "outputs": [
    {
     "name": "stdout",
     "output_type": "stream",
     "text": [
      "+--------+--------+-------------+--------------------+-----------+--------------------+--------------------+\n",
      "|Alert ID|Event ID|Update Number|                Date|     Agency|        Status Label|            Affected|\n",
      "+--------+--------+-------------+--------------------+-----------+--------------------+--------------------+\n",
      "|  337474|  163057|            0|07/30/2024 11:56:...|NYCT Subway|              delays|                   D|\n",
      "|  337473|  163056|            0|07/30/2024 11:46:...|NYCT Subway|              delays|                   6|\n",
      "|  337469|  163055|            0|07/30/2024 11:42:...|   NYCT Bus|      part-suspended|                M14D|\n",
      "|  337471|  163055|            1|07/30/2024 11:44:...|   NYCT Bus|      part-suspended|                M14D|\n",
      "|  337468|  163054|            0|07/30/2024 11:42:...|   NYCT Bus|              detour|                M14A|\n",
      "|  337470|  163054|            1|07/30/2024 11:43:...|   NYCT Bus|              detour|                M14A|\n",
      "|  337467|  163053|            0|07/30/2024 11:32:...|       LIRR|         some-delays|      Babylon Branch|\n",
      "|  337464|  163052|            0|07/30/2024 11:24:...|       LIRR|         some-delays|      Montauk Branch|\n",
      "|  337466|  163052|            1|07/30/2024 11:29:...|       LIRR|         some-delays|      Montauk Branch|\n",
      "|  337463|  163051|            0|07/30/2024 11:18:...|NYCT Subway|              delays|                   A|\n",
      "|  337461|  163050|            0|07/30/2024 11:07:...|NYCT Subway|              delays|                   1|\n",
      "|  337462|  163050|            1|07/30/2024 11:09:...|NYCT Subway|              delays|                   1|\n",
      "|  337460|  163049|            0|07/30/2024 10:58:...|NYCT Subway|stops-skipped | d...|               B | Q|\n",
      "|  337465|  163049|            1|07/30/2024 11:25:...|NYCT Subway|              delays|               B | Q|\n",
      "|  337458|  163048|            0|07/30/2024 10:55:...|NYCT Subway|              delays|                   6|\n",
      "|  337459|  163048|            1|07/30/2024 10:58:...|NYCT Subway|              delays|                   6|\n",
      "|  337457|  163047|            0|07/30/2024 10:54:...|       LIRR|         some-delays|Port Washington B...|\n",
      "|  337455|  163046|            0|07/30/2024 10:39:...|        MNR|         some-delays|           New Haven|\n",
      "|  337450|  163045|            0|07/30/2024 10:26:...|   NYCT Bus|       cancellations|                 BM1|\n",
      "|  337447|  163044|            0|07/30/2024 10:18:...|   NYCT Bus|              detour|                 Q32|\n",
      "+--------+--------+-------------+--------------------+-----------+--------------------+--------------------+\n",
      "only showing top 20 rows\n",
      "\n"
     ]
    }
   ],
   "source": [
    "from pyspark.sql.types import StructType, StructField, StringType, IntegerType\n",
    "\n",
    "# Define the schema explicitly\n",
    "schema = StructType([\n",
    "    StructField(\"Alert ID\", IntegerType(), True),\n",
    "    StructField(\"Event ID\", IntegerType(), True),\n",
    "    StructField(\"Update Number\", IntegerType(), True),\n",
    "    StructField(\"Date\", StringType(), True),\n",
    "    StructField(\"Agency\", StringType(), True),\n",
    "    StructField(\"Status Label\", StringType(), True),\n",
    "    StructField(\"Affected\", StringType(), True),\n",
    "])\n",
    "\n",
    "# Read the CSV file with the defined schema\n",
    "df = spark.read.schema(schema).option(\"header\", \"true\").csv(\"../data/landing/mta.csv\")\n",
    "df.show()"
   ]
  },
  {
   "cell_type": "code",
   "execution_count": 22,
   "metadata": {},
   "outputs": [],
   "source": [
    "# the file link url was working when working on my project, \n",
    "# however, it is now corrupt so data has been downloaded and uploaded directly to the path '../data/landing/mta.csv'\n",
    "# feel free to uncomment and run the following code in this block to view\n",
    "\n",
    "# URL of the CSV file\n",
    "#url = 'https://data.ny.gov/api/views/7kct-peq7/rows.csv?accessType=DOWNLOAD'\n",
    "\n",
    "# output directory\n",
    "#output_dir = \"../data/landing/mta_service_alert.csv\"\n",
    "\n",
    "# download\n",
    "#urlretrieve(url, output_dir) \n",
    "\n",
    "#dftest = spark.read.schema(schema).option(\"header\", \"true\").csv(\"../data/landing/mta_service_alert.csv\")\n",
    "#dftest.show()\n"
   ]
  },
  {
   "cell_type": "code",
   "execution_count": 23,
   "metadata": {},
   "outputs": [
    {
     "name": "stdout",
     "output_type": "stream",
     "text": [
      "root\n",
      " |-- Alert ID: integer (nullable = true)\n",
      " |-- Event ID: integer (nullable = true)\n",
      " |-- Update Number: integer (nullable = true)\n",
      " |-- Date: string (nullable = true)\n",
      " |-- Agency: string (nullable = true)\n",
      " |-- Status Label: string (nullable = true)\n",
      " |-- Affected: string (nullable = true)\n",
      "\n"
     ]
    }
   ],
   "source": [
    "df.printSchema()"
   ]
  },
  {
   "cell_type": "code",
   "execution_count": 24,
   "metadata": {},
   "outputs": [
    {
     "name": "stdout",
     "output_type": "stream",
     "text": [
      "+--------+--------+-------------+--------------------+-----------+--------------------+--------------------+\n",
      "|Alert ID|Event ID|Update Number|                Date|     Agency|        Status Label|            Affected|\n",
      "+--------+--------+-------------+--------------------+-----------+--------------------+--------------------+\n",
      "|  337474|  163057|            0|07/30/2024 11:56:...|NYCT Subway|              delays|                   D|\n",
      "|  337473|  163056|            0|07/30/2024 11:46:...|NYCT Subway|              delays|                   6|\n",
      "|  337469|  163055|            0|07/30/2024 11:42:...|   NYCT Bus|      part-suspended|                M14D|\n",
      "|  337471|  163055|            1|07/30/2024 11:44:...|   NYCT Bus|      part-suspended|                M14D|\n",
      "|  337468|  163054|            0|07/30/2024 11:42:...|   NYCT Bus|              detour|                M14A|\n",
      "|  337470|  163054|            1|07/30/2024 11:43:...|   NYCT Bus|              detour|                M14A|\n",
      "|  337467|  163053|            0|07/30/2024 11:32:...|       LIRR|         some-delays|      Babylon Branch|\n",
      "|  337464|  163052|            0|07/30/2024 11:24:...|       LIRR|         some-delays|      Montauk Branch|\n",
      "|  337466|  163052|            1|07/30/2024 11:29:...|       LIRR|         some-delays|      Montauk Branch|\n",
      "|  337463|  163051|            0|07/30/2024 11:18:...|NYCT Subway|              delays|                   A|\n",
      "|  337461|  163050|            0|07/30/2024 11:07:...|NYCT Subway|              delays|                   1|\n",
      "|  337462|  163050|            1|07/30/2024 11:09:...|NYCT Subway|              delays|                   1|\n",
      "|  337460|  163049|            0|07/30/2024 10:58:...|NYCT Subway|stops-skipped | d...|               B | Q|\n",
      "|  337465|  163049|            1|07/30/2024 11:25:...|NYCT Subway|              delays|               B | Q|\n",
      "|  337458|  163048|            0|07/30/2024 10:55:...|NYCT Subway|              delays|                   6|\n",
      "|  337459|  163048|            1|07/30/2024 10:58:...|NYCT Subway|              delays|                   6|\n",
      "|  337457|  163047|            0|07/30/2024 10:54:...|       LIRR|         some-delays|Port Washington B...|\n",
      "|  337455|  163046|            0|07/30/2024 10:39:...|        MNR|         some-delays|           New Haven|\n",
      "|  337450|  163045|            0|07/30/2024 10:26:...|   NYCT Bus|       cancellations|                 BM1|\n",
      "|  337447|  163044|            0|07/30/2024 10:18:...|   NYCT Bus|              detour|                 Q32|\n",
      "+--------+--------+-------------+--------------------+-----------+--------------------+--------------------+\n",
      "only showing top 20 rows\n",
      "\n"
     ]
    }
   ],
   "source": [
    "df.show()"
   ]
  },
  {
   "cell_type": "code",
   "execution_count": 25,
   "metadata": {},
   "outputs": [
    {
     "data": {
      "text/plain": [
       "334431"
      ]
     },
     "execution_count": 25,
     "metadata": {},
     "output_type": "execute_result"
    }
   ],
   "source": [
    "df.count()"
   ]
  },
  {
   "cell_type": "code",
   "execution_count": 26,
   "metadata": {},
   "outputs": [
    {
     "data": {
      "text/plain": [
       "334431"
      ]
     },
     "execution_count": 26,
     "metadata": {},
     "output_type": "execute_result"
    }
   ],
   "source": [
    "# Filter based on the minimum possible values for numerical features\n",
    "df = df.where((F.col('Update Number') >= 0) &\n",
    "              (F.col('Alert ID') >= 0) &\n",
    "              (F.col('Event ID') >= 0))\n",
    "\n",
    "df.count()"
   ]
  },
  {
   "cell_type": "code",
   "execution_count": 27,
   "metadata": {},
   "outputs": [
    {
     "name": "stdout",
     "output_type": "stream",
     "text": [
      "+--------+-------------+--------------------+-----------+\n",
      "|Alert ID|Update Number|                Date|     Agency|\n",
      "+--------+-------------+--------------------+-----------+\n",
      "|  337474|            0|07/30/2024 11:56:...|NYCT Subway|\n",
      "|  337473|            0|07/30/2024 11:46:...|NYCT Subway|\n",
      "|  337469|            0|07/30/2024 11:42:...|   NYCT Bus|\n",
      "|  337471|            1|07/30/2024 11:44:...|   NYCT Bus|\n",
      "|  337468|            0|07/30/2024 11:42:...|   NYCT Bus|\n",
      "|  337470|            1|07/30/2024 11:43:...|   NYCT Bus|\n",
      "|  337467|            0|07/30/2024 11:32:...|       LIRR|\n",
      "|  337464|            0|07/30/2024 11:24:...|       LIRR|\n",
      "|  337466|            1|07/30/2024 11:29:...|       LIRR|\n",
      "|  337463|            0|07/30/2024 11:18:...|NYCT Subway|\n",
      "|  337461|            0|07/30/2024 11:07:...|NYCT Subway|\n",
      "|  337462|            1|07/30/2024 11:09:...|NYCT Subway|\n",
      "|  337460|            0|07/30/2024 10:58:...|NYCT Subway|\n",
      "|  337465|            1|07/30/2024 11:25:...|NYCT Subway|\n",
      "|  337458|            0|07/30/2024 10:55:...|NYCT Subway|\n",
      "|  337459|            1|07/30/2024 10:58:...|NYCT Subway|\n",
      "|  337457|            0|07/30/2024 10:54:...|       LIRR|\n",
      "|  337455|            0|07/30/2024 10:39:...|        MNR|\n",
      "|  337450|            0|07/30/2024 10:26:...|   NYCT Bus|\n",
      "|  337447|            0|07/30/2024 10:18:...|   NYCT Bus|\n",
      "+--------+-------------+--------------------+-----------+\n",
      "only showing top 20 rows\n",
      "\n",
      "root\n",
      " |-- Alert ID: integer (nullable = true)\n",
      " |-- Update Number: integer (nullable = true)\n",
      " |-- Date: string (nullable = true)\n",
      " |-- Agency: string (nullable = true)\n",
      "\n"
     ]
    }
   ],
   "source": [
    "# remove unecessary columns\n",
    "df_converted = df.drop('Event ID').drop('Affected').drop('Status Label')\n",
    "df_converted.show()\n",
    "df_converted.printSchema()"
   ]
  },
  {
   "cell_type": "code",
   "execution_count": 28,
   "metadata": {},
   "outputs": [
    {
     "name": "stdout",
     "output_type": "stream",
     "text": [
      "+--------+-------------+-------------------+-----------+\n",
      "|Alert ID|Update Number|Date               |Agency     |\n",
      "+--------+-------------+-------------------+-----------+\n",
      "|233465  |1            |2023-07-01 00:01:00|NYCT Bus   |\n",
      "|233466  |2            |2023-07-01 00:05:00|LIRR       |\n",
      "|233467  |0            |2023-07-01 00:10:00|LIRR       |\n",
      "|233468  |1            |2023-07-01 00:12:00|NYCT Subway|\n",
      "|233469  |0            |2023-07-01 00:17:00|NYCT Subway|\n",
      "|233470  |0            |2023-07-01 00:21:00|LIRR       |\n",
      "|233471  |0            |2023-07-01 00:23:00|LIRR       |\n",
      "|233472  |3            |2023-07-01 00:26:00|LIRR       |\n",
      "|233473  |1            |2023-07-01 00:29:00|NYCT Subway|\n",
      "|233474  |0            |2023-07-01 00:32:00|NYCT Subway|\n",
      "|233475  |4            |2023-07-01 00:32:00|LIRR       |\n",
      "|233476  |5            |2023-07-01 00:40:00|LIRR       |\n",
      "|233477  |0            |2023-07-01 00:55:00|NYCT Subway|\n",
      "|233478  |6            |2023-07-01 01:00:00|LIRR       |\n",
      "|233479  |1            |2023-07-01 01:02:00|NYCT Subway|\n",
      "|233480  |0            |2023-07-01 01:03:00|NYCT Subway|\n",
      "|233481  |7            |2023-07-01 01:04:00|LIRR       |\n",
      "|233482  |1            |2023-07-01 01:10:00|NYCT Subway|\n",
      "|233483  |1            |2023-07-01 01:11:00|NYCT Subway|\n",
      "|233484  |8            |2023-07-01 01:14:00|LIRR       |\n",
      "+--------+-------------+-------------------+-----------+\n",
      "only showing top 20 rows\n",
      "\n",
      "root\n",
      " |-- Alert ID: integer (nullable = true)\n",
      " |-- Update Number: integer (nullable = true)\n",
      " |-- Date: timestamp (nullable = true)\n",
      " |-- Agency: string (nullable = true)\n",
      "\n"
     ]
    }
   ],
   "source": [
    "# Define the date format used in the CSV\n",
    "date_format = \"MM/dd/yyyy hh:mm:ss a\"\n",
    "\n",
    "# Convert the Date column to timestamp\n",
    "df_converted = df_converted.withColumn(\"Date\", to_timestamp(col(\"Date\"), date_format))\n",
    "\n",
    "# Now want to make sure to include necessary dates\n",
    "# Define the date range\n",
    "start_date = '2023-07-01'\n",
    "end_date = '2023-12-31'\n",
    "\n",
    "# Filter the DataFrame\n",
    "df_converted = df_converted.filter((col(\"Date\") >= start_date) & (col(\"Date\") <= end_date)).orderBy(\"Date\")\n",
    "\n",
    "df_converted.show(truncate=False)\n",
    "df_converted.printSchema()"
   ]
  },
  {
   "cell_type": "code",
   "execution_count": 29,
   "metadata": {},
   "outputs": [
    {
     "name": "stdout",
     "output_type": "stream",
     "text": [
      "+--------+-------------+-------------------+-----------+----------+----+\n",
      "|Alert ID|Update Number|Date               |Agency     |date_only |hour|\n",
      "+--------+-------------+-------------------+-----------+----------+----+\n",
      "|233465  |1            |2023-07-01 00:01:00|NYCT Bus   |2023-07-01|0   |\n",
      "|233468  |1            |2023-07-01 00:12:00|NYCT Subway|2023-07-01|0   |\n",
      "|233469  |0            |2023-07-01 00:17:00|NYCT Subway|2023-07-01|0   |\n",
      "|233473  |1            |2023-07-01 00:29:00|NYCT Subway|2023-07-01|0   |\n",
      "|233474  |0            |2023-07-01 00:32:00|NYCT Subway|2023-07-01|0   |\n",
      "|233477  |0            |2023-07-01 00:55:00|NYCT Subway|2023-07-01|0   |\n",
      "|233479  |1            |2023-07-01 01:02:00|NYCT Subway|2023-07-01|1   |\n",
      "|233480  |0            |2023-07-01 01:03:00|NYCT Subway|2023-07-01|1   |\n",
      "|233482  |1            |2023-07-01 01:10:00|NYCT Subway|2023-07-01|1   |\n",
      "|233483  |1            |2023-07-01 01:11:00|NYCT Subway|2023-07-01|1   |\n",
      "|233487  |2            |2023-07-01 01:25:00|NYCT Subway|2023-07-01|1   |\n",
      "|233488  |1            |2023-07-01 01:33:00|NYCT Bus   |2023-07-01|1   |\n",
      "|233492  |0            |2023-07-01 01:55:00|NYCT Subway|2023-07-01|1   |\n",
      "|233493  |2            |2023-07-01 01:58:00|NYCT Subway|2023-07-01|1   |\n",
      "|233498  |1            |2023-07-01 02:25:00|NYCT Subway|2023-07-01|2   |\n",
      "|233501  |0            |2023-07-01 02:36:00|NYCT Subway|2023-07-01|2   |\n",
      "|233503  |0            |2023-07-01 02:41:00|NYCT Bus   |2023-07-01|2   |\n",
      "|233504  |1            |2023-07-01 02:46:00|NYCT Bus   |2023-07-01|2   |\n",
      "|233510  |1            |2023-07-01 03:58:00|NYCT Subway|2023-07-01|3   |\n",
      "|233511  |0            |2023-07-01 04:02:00|NYCT Subway|2023-07-01|4   |\n",
      "+--------+-------------+-------------------+-----------+----------+----+\n",
      "only showing top 20 rows\n",
      "\n"
     ]
    }
   ],
   "source": [
    "# remove any rows which involve service announcements affecting the Long Island Rail Road (LIRR) and Metro-North Rail Road (MNR) service as it is not contained in our defined geographical area\n",
    "df_converted = df_converted.filter(~df_converted[\"Agency\"].contains(\"LIRR\"))\n",
    "df_converted = df_converted.filter(~df_converted[\"Agency\"].contains(\"MNR\"))\n",
    "\n",
    "# Extract the date from the 'Date' column\n",
    "df_converted = df_converted.withColumn('date_only', to_date(df_converted['Date']))\n",
    "\n",
    "# Extract the hour from the 'Date' column\n",
    "df_converted = df_converted.withColumn('hour', hour(df_converted['Date']))\n",
    "\n",
    "df_converted.show(truncate=False)"
   ]
  },
  {
   "cell_type": "code",
   "execution_count": 30,
   "metadata": {},
   "outputs": [
    {
     "name": "stdout",
     "output_type": "stream",
     "text": [
      "+----------+----+---------+------------+\n",
      "|      date|hour|bus_count|subway_count|\n",
      "+----------+----+---------+------------+\n",
      "|2023-12-28|   9|        0|           7|\n",
      "|2023-12-30|  23|        1|           5|\n",
      "|2023-10-10|  10|        8|           5|\n",
      "|2023-08-04|   0|        5|           6|\n",
      "|2023-07-25|   9|        4|           2|\n",
      "|2023-11-01|   8|        1|           3|\n",
      "|2023-09-16|   8|        1|           0|\n",
      "|2023-10-21|   9|        2|           0|\n",
      "|2023-07-08|   4|        0|           9|\n",
      "|2023-07-05|  18|        2|           6|\n",
      "|2023-07-09|   2|        0|           4|\n",
      "|2023-08-21|   7|        0|           6|\n",
      "|2023-09-29|   5|        3|           2|\n",
      "|2023-09-21|  12|        5|          12|\n",
      "|2023-07-14|  11|        9|          12|\n",
      "|2023-12-07|  17|        2|          13|\n",
      "|2023-09-19|  14|        1|           4|\n",
      "|2023-07-18|   8|        1|           5|\n",
      "|2023-10-05|  17|        0|           5|\n",
      "|2023-11-17|  15|        0|           8|\n",
      "+----------+----+---------+------------+\n",
      "only showing top 20 rows\n",
      "\n"
     ]
    }
   ],
   "source": [
    "# Group by 'date_only', 'hour', and 'Agency' and count the occurrences\n",
    "grouped_df = df_converted.groupBy(\"date_only\", \"hour\", \"Agency\").count()\n",
    "\n",
    "# Pivot the 'Agency' column to create separate columns for each agency\n",
    "pivot_df = grouped_df.groupBy(\"date_only\", \"hour\") \\\n",
    "    .pivot(\"Agency\", [\"NYCT Bus\", \"NYCT Subway\"]) \\\n",
    "    .agg(F.first(\"count\"))\n",
    "\n",
    "# Rename the columns to 'bus_count', 'subway_count', and 'bt_count'\n",
    "pivot_df = pivot_df.withColumnRenamed(\"NYCT Bus\", \"bus_count\") \\\n",
    "                   .withColumnRenamed(\"NYCT Subway\", \"subway_count\")\n",
    "\n",
    "# Fill null values with 0, in case some combinations don't have alerts and therefore have no counts\n",
    "pivot_df = pivot_df.fillna(0)\n",
    "\n",
    "# rename dat_only to date for consistency\n",
    "pivot_df = pivot_df.withColumnRenamed(\"date_only\", \"date\")\n",
    "\n",
    "# Show the results\n",
    "pivot_df.show()"
   ]
  },
  {
   "cell_type": "code",
   "execution_count": 31,
   "metadata": {},
   "outputs": [
    {
     "data": {
      "text/plain": [
       "4416"
      ]
     },
     "execution_count": 31,
     "metadata": {},
     "output_type": "execute_result"
    }
   ],
   "source": [
    "# calculating how many date/hour combinations there are in the specified time frame\n",
    "(30+30+31+31+31+31)*24"
   ]
  },
  {
   "cell_type": "code",
   "execution_count": 32,
   "metadata": {},
   "outputs": [
    {
     "data": {
      "text/plain": [
       "4281"
      ]
     },
     "execution_count": 32,
     "metadata": {},
     "output_type": "execute_result"
    }
   ],
   "source": [
    "# comparing this to our processed dataset\n",
    "pivot_df.count()"
   ]
  },
  {
   "cell_type": "code",
   "execution_count": 33,
   "metadata": {},
   "outputs": [],
   "source": [
    "# not all dates are included, now need to include them all\n",
    "all_dates = pd.date_range(start=start_date, end=end_date).date\n",
    "\n",
    "# generate all hours\n",
    "all_hours = list(range(0, 24))\n",
    "\n",
    "# create DataFrame with all date and hour combinations\n",
    "all_combinations = [(date, hour) for date in all_dates for hour in all_hours]\n",
    "all_combinations_df = spark.createDataFrame(all_combinations, [\"date\", \"hour\"])\n",
    "\n",
    "# ensure 'date' is of DateType and 'hour' is of IntegerType\n",
    "all_combinations_df = all_combinations_df.withColumn(\"date\", col(\"date\").cast(DateType()))\n",
    "all_combinations_df = all_combinations_df.withColumn(\"hour\", col(\"hour\").cast(IntegerType()))"
   ]
  },
  {
   "cell_type": "code",
   "execution_count": 34,
   "metadata": {},
   "outputs": [
    {
     "name": "stdout",
     "output_type": "stream",
     "text": [
      "+----------+----+---------+------------+\n",
      "|      date|hour|bus_count|subway_count|\n",
      "+----------+----+---------+------------+\n",
      "|2023-07-01|   0|        1|           5|\n",
      "|2023-07-01|   1|        1|           7|\n",
      "|2023-07-01|   2|        2|           2|\n",
      "|2023-07-01|   3|        0|           1|\n",
      "|2023-07-01|   4|        0|          11|\n",
      "|2023-07-01|   5|        0|           7|\n",
      "|2023-07-01|   6|        0|           3|\n",
      "|2023-07-01|   7|        0|           6|\n",
      "|2023-07-01|   8|        4|           4|\n",
      "|2023-07-01|   9|        1|           3|\n",
      "|2023-07-01|  10|        0|           6|\n",
      "|2023-07-01|  11|        0|           5|\n",
      "|2023-07-01|  12|        3|           4|\n",
      "|2023-07-01|  13|        0|           3|\n",
      "|2023-07-01|  14|        0|           4|\n",
      "|2023-07-01|  15|        2|           6|\n",
      "|2023-07-01|  16|        0|           1|\n",
      "|2023-07-01|  17|        0|           2|\n",
      "|2023-07-01|  18|        1|           2|\n",
      "|2023-07-01|  19|        1|           4|\n",
      "+----------+----+---------+------------+\n",
      "only showing top 20 rows\n",
      "\n"
     ]
    }
   ],
   "source": [
    "# perform a full outer join with the original DataFrame\n",
    "full_df = all_combinations_df.join(pivot_df, on=[\"date\", \"hour\"], how=\"left\")\n",
    "\n",
    "# fill missing counts with 0 as there are assumed to be no service alerts at this date/hour combination\n",
    "full_df = full_df.fillna({\"bus_count\": 0, \"subway_count\": 0})\n",
    "\n",
    "# sort the DataFrame by 'date' and 'hour'\n",
    "full_df = full_df.orderBy([\"date\", \"hour\"])\n",
    "\n",
    "# show the resulting DataFrame\n",
    "full_df.show()"
   ]
  },
  {
   "cell_type": "code",
   "execution_count": 35,
   "metadata": {},
   "outputs": [
    {
     "name": "stdout",
     "output_type": "stream",
     "text": [
      "Number of rows: 4416\n"
     ]
    }
   ],
   "source": [
    "# checking to see if all dates and hours are now included\n",
    "# get the number of columns in the DataFrame\n",
    "num_rows = full_df.count()\n",
    "\n",
    "# print the number of rows\n",
    "print(f\"Number of rows: {num_rows}\")"
   ]
  },
  {
   "cell_type": "code",
   "execution_count": 36,
   "metadata": {},
   "outputs": [],
   "source": [
    "# can now save csv to '../data/curated/' directory\n",
    "full_df.write.mode(\"overwrite\").option(\"header\", \"true\").csv(\"../data/curated/hourly_service_counts.csv\")"
   ]
  }
 ],
 "metadata": {
  "kernelspec": {
   "display_name": "Python 3.12.4 ('.venv1': venv)",
   "language": "python",
   "name": "python3"
  },
  "language_info": {
   "codemirror_mode": {
    "name": "ipython",
    "version": 3
   },
   "file_extension": ".py",
   "mimetype": "text/x-python",
   "name": "python",
   "nbconvert_exporter": "python",
   "pygments_lexer": "ipython3",
   "version": "3.12.4"
  },
  "orig_nbformat": 4,
  "vscode": {
   "interpreter": {
    "hash": "bc19f976deae78a4b8dd1c0db37710e451de00dcd2e448b10d5869a2fb538e25"
   }
  }
 },
 "nbformat": 4,
 "nbformat_minor": 2
}
